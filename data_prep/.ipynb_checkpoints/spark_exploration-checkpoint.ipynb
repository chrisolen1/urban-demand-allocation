{
 "cells": [
  {
   "cell_type": "code",
   "execution_count": 1,
   "metadata": {},
   "outputs": [],
   "source": [
    "import pyspark\n",
    "\n",
    "from pyspark.context import SparkContext\n",
    "from pyspark.sql.session import SparkSession\n",
    "from pyspark.sql import functions as F\n",
    "from pyspark.sql.types import *\n",
    "\n",
    "import pandas as pd"
   ]
  },
  {
   "cell_type": "code",
   "execution_count": null,
   "metadata": {},
   "outputs": [],
   "source": []
  },
  {
   "cell_type": "code",
   "execution_count": null,
   "metadata": {},
   "outputs": [],
   "source": []
  },
  {
   "cell_type": "code",
   "execution_count": null,
   "metadata": {},
   "outputs": [],
   "source": []
  },
  {
   "cell_type": "code",
   "execution_count": 2,
   "metadata": {},
   "outputs": [],
   "source": [
    "config = pyspark.SparkConf().setAll([(\"spark.dynamicAllocation.enabled\",\"True\"),\n",
    "                                    (\"spark.executor.cores\",\"4\")])\n",
    "sc = SparkContext(conf=config)\n",
    "spark = SparkSession(sc)"
   ]
  },
  {
   "cell_type": "code",
   "execution_count": 14,
   "metadata": {},
   "outputs": [
    {
     "name": "stdout",
     "output_type": "stream",
     "text": [
      "CPU times: user 13.7 ms, sys: 1.11 ms, total: 14.8 ms\n",
      "Wall time: 1min 15s\n"
     ]
    }
   ],
   "source": [
    "%time bus = spark.read.csv(\"gs://biz-bucket/business.csv\", inferSchema=True, header=True, sep = ',')"
   ]
  },
  {
   "cell_type": "code",
   "execution_count": 17,
   "metadata": {},
   "outputs": [
    {
     "name": "stdout",
     "output_type": "stream",
     "text": [
      "root\n",
      " |-- archive_version_year: integer (nullable = true)\n",
      " |-- abi: integer (nullable = true)\n",
      " |-- ticker: string (nullable = true)\n",
      " |-- company: string (nullable = true)\n",
      " |-- address_line_1: string (nullable = true)\n",
      " |-- city: string (nullable = true)\n",
      " |-- zipcode: integer (nullable = true)\n",
      " |-- location_employee_size_code: string (nullable = true)\n",
      " |-- location_sales_volume_code: string (nullable = true)\n",
      " |-- primary_naics_code: integer (nullable = true)\n",
      " |-- sic_code: integer (nullable = true)\n",
      " |-- sic6_descriptions_sic: string (nullable = true)\n",
      " |-- business_status_code: integer (nullable = true)\n",
      " |-- office_size_code: string (nullable = true)\n",
      " |-- company_holding_status: integer (nullable = true)\n",
      " |-- parent_employee_size_code: string (nullable = true)\n",
      " |-- parent_sales_volume_code: string (nullable = true)\n",
      " |-- census_tract: integer (nullable = true)\n",
      " |-- cbsa_code: integer (nullable = true)\n",
      " |-- year_established: integer (nullable = true)\n",
      " |-- employee_size_location: integer (nullable = true)\n",
      " |-- sales_volume_location: integer (nullable = true)\n",
      " |-- parent_actual_employee_size: integer (nullable = true)\n",
      " |-- parent_actual_sales_volume: integer (nullable = true)\n",
      " |-- latitude: double (nullable = true)\n",
      " |-- longitude: double (nullable = true)\n",
      "\n"
     ]
    }
   ],
   "source": [
    "bus.printSchema()"
   ]
  },
  {
   "cell_type": "code",
   "execution_count": 19,
   "metadata": {},
   "outputs": [
    {
     "name": "stdout",
     "output_type": "stream",
     "text": [
      "+--------------------+----+------+--------------------+--------------+-----------+-------+---------------------------+--------------------------+------------------+--------+---------------------+--------------------+----------------+----------------------+-------------------------+------------------------+------------+---------+----------------+----------------------+---------------------+---------------------------+--------------------------+--------+---------+\n",
      "|archive_version_year| abi|ticker|             company|address_line_1|       city|zipcode|location_employee_size_code|location_sales_volume_code|primary_naics_code|sic_code|sic6_descriptions_sic|business_status_code|office_size_code|company_holding_status|parent_employee_size_code|parent_sales_volume_code|census_tract|cbsa_code|year_established|employee_size_location|sales_volume_location|parent_actual_employee_size|parent_actual_sales_volume|latitude|longitude|\n",
      "+--------------------+----+------+--------------------+--------------+-----------+-------+---------------------------+--------------------------+------------------+--------+---------------------+--------------------+----------------+----------------------+-------------------------+------------------------+------------+---------+----------------+----------------------+---------------------+---------------------------+--------------------------+--------+---------+\n",
      "|                2009|4432|  null|GUIDA-SEIBERT DAI...|   433 PARK ST|NEW BRITAIN|   6051|                          G|                         H|          11212001|  202398| DRY CONDENSED/EVP...|                   9|            null|                  null|                     null|                    null|      415300|    25540|            1886|                   275|                60775|                       null|                      null|  41.665|-72.76954|\n",
      "+--------------------+----+------+--------------------+--------------+-----------+-------+---------------------------+--------------------------+------------------+--------+---------------------+--------------------+----------------+----------------------+-------------------------+------------------------+------------+---------+----------------+----------------------+---------------------+---------------------------+--------------------------+--------+---------+\n",
      "only showing top 1 row\n",
      "\n"
     ]
    }
   ],
   "source": [
    "bus.show(1)"
   ]
  },
  {
   "cell_type": "code",
   "execution_count": 3,
   "metadata": {},
   "outputs": [
    {
     "name": "stdout",
     "output_type": "stream",
     "text": [
      "CPU times: user 24 ms, sys: 385 µs, total: 24.3 ms\n",
      "Wall time: 1min 45s\n"
     ]
    }
   ],
   "source": [
    "%time res = spark.read.csv(\"gs://res-bucket/res_2017.txt\", inferSchema=True, header=False, sep = '\\t')"
   ]
  },
  {
   "cell_type": "code",
   "execution_count": null,
   "metadata": {},
   "outputs": [],
   "source": [
    "res = res.withColumnRenamed('_c0','household_id').withColumnRenamed('_c1','location_type')\n",
    ".withColumnRenamed('_c2','length_of_residence').withColumnRenamed('_c3','children_count').\\\n",
    "withColumnRenamed('_c4','hh_wealth').withColumnRenamed('_c5','hh_income')\\\n",
    ".withColumnRenamed('_c6','owner_renter_status').withColumnRenamed('_c7','property_value')\\\n",
    ".withColumnRenamed('_c8','marital_status')\\\n",
    ".withColumnRenamed('_c9','street_number').withColumnRenamed('_c10','street_pre_direction')\\\n",
    ".withColumnRenamed('_c11','street_name').withColumnRenamed('_c12','street_post_direction')\\\n",
    ".withColumnRenamed('_c13','street_type').withColumnRenamed('_c14','unit_type')\\\n",
    ".withColumnRenamed('_c15','unit_number').withColumnRenamed('_c16','city')\\\n",
    ".withColumnRenamed('_c17','state').withColumnRenamed('_18','vacant')\\\n",
    ".withColumnRenamed('_c19','latitude').withColumnRenamed('_c20','longitude')\\\n",
    ".withColumnRenamed('_c21','census_tract').withColumnRenamed('_c22','ethnicity_code')\\\n",
    ".withColumnRenamed('_c23','year')\n"
   ]
  },
  {
   "cell_type": "code",
   "execution_count": 4,
   "metadata": {},
   "outputs": [],
   "source": [
    "chi = res.filter(res['_c16']=='CHICAGO')"
   ]
  },
  {
   "cell_type": "code",
   "execution_count": 5,
   "metadata": {},
   "outputs": [],
   "source": [
    "dc = res.filter(res['_c17']=='DC')"
   ]
  },
  {
   "cell_type": "code",
   "execution_count": 6,
   "metadata": {},
   "outputs": [],
   "source": [
    "dcdf = dc.toPandas()"
   ]
  },
  {
   "cell_type": "code",
   "execution_count": 7,
   "metadata": {},
   "outputs": [],
   "source": [
    "chidf = chi.toPandas()"
   ]
  },
  {
   "cell_type": "code",
   "execution_count": 8,
   "metadata": {},
   "outputs": [],
   "source": [
    "dcdf.iloc[0:2000,:].to_csv(\"dc\", index=False)"
   ]
  },
  {
   "cell_type": "code",
   "execution_count": 9,
   "metadata": {},
   "outputs": [],
   "source": [
    "chidf.iloc[0:2000,:].to_csv(\"chi\", index=False)"
   ]
  },
  {
   "cell_type": "code",
   "execution_count": 20,
   "metadata": {},
   "outputs": [
    {
     "data": {
      "text/plain": [
       "101320775669    1\n",
       "800007387224    1\n",
       "100135757153    1\n",
       "300004877641    1\n",
       "201220597113    1\n",
       "902137066691    1\n",
       "402081678685    1\n",
       "101865919871    1\n",
       "901840568343    1\n",
       "701376505129    1\n",
       "601518552379    1\n",
       "401865900989    1\n",
       "102046967177    1\n",
       "301808436549    1\n",
       "401286730239    1\n",
       "700353116464    1\n",
       "900002878959    1\n",
       "1852384649      1\n",
       "202155741853    1\n",
       "101305636231    1\n",
       "400464317884    1\n",
       "900191663611    1\n",
       "301378098615    1\n",
       "900003956221    1\n",
       "901127169281    1\n",
       "901735318797    1\n",
       "900004299364    1\n",
       "502090597757    1\n",
       "401752685891    1\n",
       "301448676629    1\n",
       "               ..\n",
       "200558266335    1\n",
       "1840572363      1\n",
       "301118900207    1\n",
       "301107367918    1\n",
       "900195828209    1\n",
       "4597651         1\n",
       "1171981775      1\n",
       "2150029197      1\n",
       "501951317887    1\n",
       "400569792361    1\n",
       "101511640897    1\n",
       "202075511965    1\n",
       "500003047287    1\n",
       "1805674331      1\n",
       "300969707391    1\n",
       "201532176201    1\n",
       "201271084919    1\n",
       "300641466177    1\n",
       "900475342494    1\n",
       "900004499214    1\n",
       "601511671585    1\n",
       "500005089106    1\n",
       "601511634739    1\n",
       "301119577940    1\n",
       "700932146208    1\n",
       "401536849243    1\n",
       "700391370706    1\n",
       "301518526373    1\n",
       "301408438191    1\n",
       "601095282756    1\n",
       "Name: _c0, Length: 419706, dtype: int64"
      ]
     },
     "execution_count": 20,
     "metadata": {},
     "output_type": "execute_result"
    }
   ],
   "source": [
    "dcdf['_c0'].value_counts()"
   ]
  },
  {
   "cell_type": "code",
   "execution_count": 29,
   "metadata": {},
   "outputs": [
    {
     "name": "stdout",
     "output_type": "stream",
     "text": [
      "+--------+---+---+---+----+---+---+---+---+----+----+------------+----+----+----+----+-----------+----+----+---------+----------+------+----+----+\n",
      "|     _c0|_c1|_c2|_c3| _c4|_c5|_c6|_c7|_c8| _c9|_c10|        _c11|_c12|_c13|_c14|_c15|       _c16|_c17|_c18|     _c19|      _c20|  _c21|_c22|_c23|\n",
      "+--------+---+---+---+----+---+---+---+---+----+----+------------+----+----+----+----+-----------+----+----+---------+----------+------+----+----+\n",
      "|44680654|  S| 21|  0| 959| 48|  9| 55|  2|  96|null|      MEADOW|null|  LN|null|null|THOMASVILLE|  GA|   0|30.808399|-83.849457|961100|  E5|2017|\n",
      "|44680667|  S| 24|  3|1570|128|  9|147|  7| 153|null|     MELROSE|null|  LN|null|null|THOMASVILLE|  GA|   0|30.849767| -83.90532|960500|  S3|2017|\n",
      "|44680670|  S| 21|  0|1391| 26|  8| 83|  2|  25|   S|     MELROSE|null|  LN|null|null|THOMASVILLE|  GA|   0|30.847137|  -83.9046|961000|  IE|2017|\n",
      "|44680683|  S| 25|  5|1885|119|  9|272|  2| 504|null|MERRILLVILLE|null|  RD|null|null|THOMASVILLE|  GA|   0|30.947508|-83.893804|960300|  E5|2017|\n",
      "|44680701|  S| 11|  1| 812| 40|  9| 81|  7| 156|null|  TWIN ACRES|null|  DR|null|null|THOMASVILLE|  GA|   0| 30.87911|-83.937834|960500|  S3|2017|\n",
      "|44680714|  S| 21|  0| 807| 59|  9| 18|  1| 419|null|      MIDWAY|null|  RD|null|null|THOMASVILLE|  GA|   0|30.865205|-83.932834|960500|  E5|2017|\n",
      "|44680735|  S| 25|  0|1661| 51|  9| 90|  8|  50|null|    MONCRIEF|null|  LN|null|null|THOMASVILLE|  GA|   0|30.831581| -83.90949|961000|  S3|2017|\n",
      "|44680769|  S|  8|  0|1684|100|  9|140|  8| 405|null|   BRIARWOOD|null|  DR|null|null|THOMASVILLE|  GA|   0|30.823151| -83.95003|960900|  W4|2017|\n",
      "|44680772|  S| 22|  2|1355| 42|  9|114|  7|2243|null|  SUMMERHILL|null|  RD|null|null|THOMASVILLE|  GA|   0|30.848064|-83.905718|960500|  E5|2017|\n",
      "|44680777|  S| 12|  0|2038| 69|  9|134|  2|4420|null|        EAST|null|  RD|null|null|       LIMA|  OH|   0|40.773319|-84.185485| 10800|  FR|2017|\n",
      "+--------+---+---+---+----+---+---+---+---+----+----+------------+----+----+----+----+-----------+----+----+---------+----------+------+----+----+\n",
      "only showing top 10 rows\n",
      "\n"
     ]
    }
   ],
   "source": [
    "res.show(10)"
   ]
  },
  {
   "cell_type": "code",
   "execution_count": null,
   "metadata": {},
   "outputs": [],
   "source": []
  },
  {
   "cell_type": "code",
   "execution_count": 14,
   "metadata": {},
   "outputs": [],
   "source": [
    "sc.stop()"
   ]
  },
  {
   "cell_type": "code",
   "execution_count": null,
   "metadata": {},
   "outputs": [],
   "source": []
  }
 ],
 "metadata": {
  "kernelspec": {
   "display_name": "Python 3",
   "language": "python",
   "name": "python3"
  },
  "language_info": {
   "codemirror_mode": {
    "name": "ipython",
    "version": 3
   },
   "file_extension": ".py",
   "mimetype": "text/x-python",
   "name": "python",
   "nbconvert_exporter": "python",
   "pygments_lexer": "ipython3",
   "version": "3.6.10"
  }
 },
 "nbformat": 4,
 "nbformat_minor": 2
}
