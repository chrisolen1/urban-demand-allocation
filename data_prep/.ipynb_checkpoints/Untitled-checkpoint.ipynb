{
 "cells": [
  {
   "cell_type": "code",
   "execution_count": 2,
   "metadata": {},
   "outputs": [],
   "source": [
    "import pyspark\n",
    "from pyspark.context import SparkContext\n",
    "from pyspark.sql.session import SparkSession\n",
    "from pyspark.sql.functions import col\n",
    "import gcsfs\n",
    "from google.cloud import storage"
   ]
  },
  {
   "cell_type": "code",
   "execution_count": 3,
   "metadata": {},
   "outputs": [],
   "source": [
    "config = pyspark.SparkConf().setAll([(\"spark.dynamicAllocation.enabled\",\"True\"),\n",
    "\t\t\t\t\t\t\t\t\t(\"spark.executor.cores\",\"4\")])"
   ]
  },
  {
   "cell_type": "code",
   "execution_count": 4,
   "metadata": {},
   "outputs": [],
   "source": [
    "sc = SparkContext(conf=config)"
   ]
  },
  {
   "cell_type": "code",
   "execution_count": 5,
   "metadata": {},
   "outputs": [],
   "source": [
    "ss = SparkSession(sc)"
   ]
  },
  {
   "cell_type": "code",
   "execution_count": 6,
   "metadata": {},
   "outputs": [],
   "source": [
    "storage_client = storage.Client()\n",
    "bucket = storage_client.get_bucket('res-bucket')"
   ]
  },
  {
   "cell_type": "code",
   "execution_count": 8,
   "metadata": {},
   "outputs": [],
   "source": [
    "res = ss.read.csv(\"gs://res-bucket/raw_res_{}.txt\".format(2016), inferSchema=True, header=False, sep = '\\t')"
   ]
  },
  {
   "cell_type": "code",
   "execution_count": 11,
   "metadata": {},
   "outputs": [],
   "source": [
    "res = res.withColumnRenamed('_c0','household_id').withColumnRenamed('_c1','location_type')\\\n",
    "\t\t\t\t.withColumnRenamed('_c2','length_of_residence').withColumnRenamed('_c3','children_count')\\\n",
    "\t\t\t\t.withColumnRenamed('_c4','hh_wealth').withColumnRenamed('_c5','hh_income')\\\n",
    "\t\t\t\t.withColumnRenamed('_c6','owner_renter_status').withColumnRenamed('_c7','property_value')\\\n",
    "\t\t\t\t.withColumnRenamed('_c8','marital_status').withColumnRenamed('_c9','street_number')\\\n",
    "\t\t\t\t.withColumnRenamed('_c10','street_pre_direction').withColumnRenamed('_c11','street_name')\\\n",
    "\t\t\t\t.withColumnRenamed('_c12','street_post_direction').withColumnRenamed('_c13','street_type')\\\n",
    "\t\t\t\t.withColumnRenamed('_c14','unit_type').withColumnRenamed('_c15','unit_number')\\\n",
    "\t\t\t\t.withColumnRenamed('_c16','city').withColumnRenamed('_c17','state')\\\n",
    "\t\t\t\t.withColumnRenamed('_18','vacant').withColumnRenamed('_c19','latitude')\\\n",
    "\t\t\t\t.withColumnRenamed('_c20','longitude').withColumnRenamed('_c21','census_tract')\\\n",
    "\t\t\t\t.withColumnRenamed('_c22','ethnicity_code').withColumnRenamed('_c23','year')"
   ]
  },
  {
   "cell_type": "code",
   "execution_count": 19,
   "metadata": {},
   "outputs": [],
   "source": [
    "city = 'chicago'\n",
    "res = res.filter((col(\"city\")==city.upper()) | (col(\"city\")==city.lower())).filter((col(\"state\")==state.upper()) | (col(\"state\")==state.lower()))\n",
    "\n"
   ]
  },
  {
   "cell_type": "code",
   "execution_count": 20,
   "metadata": {},
   "outputs": [],
   "source": [
    "drop_list = ['street_number', 'street_post_direction', 'street_type','unit_number',\n",
    "\t\t\t'location_sales_volume_code','sic_code','sic6_descriptions_sic','office_size_code',\n",
    "\t\t\t'census_tract','marital_status']"
   ]
  },
  {
   "cell_type": "code",
   "execution_count": 21,
   "metadata": {},
   "outputs": [],
   "source": [
    "res = res.select([column for column in res.columns if column not in drop_list])"
   ]
  },
  {
   "cell_type": "code",
   "execution_count": null,
   "metadata": {},
   "outputs": [],
   "source": []
  }
 ],
 "metadata": {
  "kernelspec": {
   "display_name": "Python 3",
   "language": "python",
   "name": "python3"
  },
  "language_info": {
   "codemirror_mode": {
    "name": "ipython",
    "version": 3
   },
   "file_extension": ".py",
   "mimetype": "text/x-python",
   "name": "python",
   "nbconvert_exporter": "python",
   "pygments_lexer": "ipython3",
   "version": "3.7.4"
  }
 },
 "nbformat": 4,
 "nbformat_minor": 2
}
