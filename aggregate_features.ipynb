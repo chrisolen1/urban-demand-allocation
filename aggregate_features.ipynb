{
 "cells": [
  {
   "cell_type": "code",
   "execution_count": 2,
   "metadata": {},
   "outputs": [],
   "source": [
    "import pandas as pd\n",
    "\n"
   ]
  },
  {
   "cell_type": "code",
   "execution_count": 26,
   "metadata": {},
   "outputs": [],
   "source": [
    "properties = pd.read_csv('../data/residential_w_tract_and_neighborhoods.csv')"
   ]
  },
  {
   "cell_type": "code",
   "execution_count": 27,
   "metadata": {},
   "outputs": [],
   "source": [
    "properties['unit_zestimate'] = properties.zestimate / properties.houseSize\n",
    "properties['unit_high_est'] = properties.high_estimate / properties.houseSize\n",
    "properties['unit_low_est'] = properties.low_estimate / properties.houseSize\n",
    "\n",
    "properties.drop(['results_key', 'zpid', 'street', 'city', 'zipcode', 'latitude',\n",
    "       'longitude', 'zestimate', 'valueChange', 'low_estimate',\n",
    "       'high_estimate', 'neighborhood_zindex_value',\n",
    "       'hometype', 'assessmentYear', 'assessment', 'yearBuilt', 'lotSize',\n",
    "       'houseSize', 'bathrooms', 'bedrooms', 'lastSold', 'lastSoldPrice',\n",
    "       'grid_num', 'updated'], axis=1, inplace=True)\n",
    "\n",
    "properties.drop(['Unnamed: 0'], axis=1, inplace=True)"
   ]
  },
  {
   "cell_type": "code",
   "execution_count": 29,
   "metadata": {},
   "outputs": [],
   "source": [
    "properties_neighborhood_aggregated = properties.groupby('neighborhood')\\\n",
    "                             [['unit_zestimate', 'unit_high_est', 'unit_low_est']].mean()"
   ]
  },
  {
   "cell_type": "code",
   "execution_count": 30,
   "metadata": {},
   "outputs": [],
   "source": [
    "properties_tract_aggregated = properties.groupby('tracts')\\\n",
    "                             [['unit_zestimate', 'unit_high_est', 'unit_low_est']].mean()"
   ]
  },
  {
   "cell_type": "code",
   "execution_count": 31,
   "metadata": {},
   "outputs": [],
   "source": [
    "properties_neighborhood_aggregated.to_csv(\"../data/properties_neighborhood_aggregated.csv\")"
   ]
  },
  {
   "cell_type": "code",
   "execution_count": 32,
   "metadata": {},
   "outputs": [],
   "source": [
    "properties_tract_aggregated.to_csv(\"../data/properties_tract_aggregated.csv\")"
   ]
  },
  {
   "cell_type": "code",
   "execution_count": 24,
   "metadata": {},
   "outputs": [],
   "source": [
    "crime = pd.read_csv('../data/crime_w_tract_and_neighborhoods.csv')"
   ]
  },
  {
   "cell_type": "code",
   "execution_count": 25,
   "metadata": {},
   "outputs": [],
   "source": [
    "crime['primary_type'].replace({\"THEFT\":\"PROPERTY_CRIME\",\"BATTERY\":\"VIOLENT_CRIME\",\"CRIMINAL DAMAGE\":\"VIOLENT_CRIME\",\n",
    "                              \"DECEPTIVE PRACTICE\":\"OTHER\",\"OTHER OFFENSE\":\"OTHER\",\"NARCOTICS\":\"DRUG-RELATED\",\n",
    "                              \"BURGLARY\":\"PROPERTY_CRIME\",\"MOTOR VEHICLE THEFT\":\"PROPERTY_CRIME\",\n",
    "                              \"ROBBERY\":\"PROPERTY_CRIME\",\"CRIMINAL TRESPASS\":\"PROPERTY_CRIME\",\n",
    "                              \"WEAPONS VIOLATION\":\"VIOLENT_CRIME\",\"OFFENSE INVOLVING CHILDREN\":\"OTHER\",\n",
    "                              \"CRIM SEXUAL ASSAULT\":\"OTHER\",\"PUBLIC PEACE VIOLATION\":\"OTHER\",\n",
    "                               \"INTERFERENCE WITH PUBLIC OFFICER\":\"OTHER\",\n",
    "                              \"SEX OFFENSE\":\"OTHER\",\"PROSTITUTION\":\"OTHER\",\"HOMICIDE\":\"VIOLENT_CRIME\",\n",
    "                               \"ARSON\":\"VIOLENT_CRIME\",\n",
    "                               \"LIQUOR LAW VIOLATION\":\"OTHER\",\n",
    "                              \"GAMBLING\":\"OTHER\",\"STALKING\":\"OTHER\",\"KIDNAPPING\":\"VIOLENT_CRIME\",\n",
    "                               \"INTIMIDATION\":\"OTHER\",\"CONCEALED CARRY LICENSE VIOLATION\":\"OTHER\",\n",
    "                              \"OBSCENITY\":\"OTHER\",\"NON-CRIMINAL\":\"OTHER\",\"PUBLIC INDECENCY\":\"OTHER\",\n",
    "                               \"HUMAN TRAFFICKING\":\"VIOLENT_CRIME\",\n",
    "                               \"NON-CRIMINAL (SUBJECT SPECIFIED)\":\"OTHER\",\n",
    "                               \"OTHER NARCOTIC VIOLATION\":\"DRUG-RELATED\",\"ASSAULT\":\"VIOLENT_CRIME\"},\n",
    "                             inplace=True)"
   ]
  },
  {
   "cell_type": "code",
   "execution_count": 26,
   "metadata": {},
   "outputs": [],
   "source": [
    "crime = crime[(crime['primary_type'] != \"OTHER\") & (crime['primary_type'] != \"DRUG-RELATED\")]"
   ]
  },
  {
   "cell_type": "code",
   "execution_count": 73,
   "metadata": {},
   "outputs": [],
   "source": [
    "crime_neighborhood_aggregated = crime.groupby(['neighborhood', 'primary_type'])['primary_type'].count()\n"
   ]
  },
  {
   "cell_type": "code",
   "execution_count": 98,
   "metadata": {},
   "outputs": [
    {
     "name": "stderr",
     "output_type": "stream",
     "text": [
      "/Users/chrisolen/anaconda3/lib/python3.7/site-packages/ipykernel_launcher.py:1: FutureWarning: The signature of `Series.to_csv` was aligned to that of `DataFrame.to_csv`, and argument 'header' will change its default value from False to True: please pass an explicit value to suppress this warning.\n",
      "  \"\"\"Entry point for launching an IPython kernel.\n"
     ]
    }
   ],
   "source": [
    "crime_neighborhood_aggregated.to_csv(\"../data/crime_neighborhood_aggregated.csv\")"
   ]
  },
  {
   "cell_type": "code",
   "execution_count": 89,
   "metadata": {},
   "outputs": [
    {
     "data": {
      "text/plain": [
       "neighborhood  primary_type  \n",
       "Albany Park   PROPERTY_CRIME    977\n",
       "              VIOLENT_CRIME     965\n",
       "Name: primary_type, dtype: int64"
      ]
     },
     "execution_count": 89,
     "metadata": {},
     "output_type": "execute_result"
    }
   ],
   "source": [
    "crime_neighborhood_aggregated.loc[crime_neighborhood_aggregated.index.get_level_values('neighborhood') == 'Albany Park']"
   ]
  },
  {
   "cell_type": "code",
   "execution_count": null,
   "metadata": {},
   "outputs": [],
   "source": []
  }
 ],
 "metadata": {
  "kernelspec": {
   "display_name": "Python 3",
   "language": "python",
   "name": "python3"
  },
  "language_info": {
   "codemirror_mode": {
    "name": "ipython",
    "version": 3
   },
   "file_extension": ".py",
   "mimetype": "text/x-python",
   "name": "python",
   "nbconvert_exporter": "python",
   "pygments_lexer": "ipython3",
   "version": "3.7.4"
  }
 },
 "nbformat": 4,
 "nbformat_minor": 2
}
