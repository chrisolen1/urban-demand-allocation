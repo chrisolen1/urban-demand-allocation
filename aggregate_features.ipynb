{
 "cells": [
  {
   "cell_type": "code",
   "execution_count": 25,
   "metadata": {},
   "outputs": [],
   "source": [
    "import pandas as pd\n",
    "\n"
   ]
  },
  {
   "cell_type": "code",
   "execution_count": 26,
   "metadata": {},
   "outputs": [],
   "source": [
    "properties = pd.read_csv('../data/residential.csv')"
   ]
  },
  {
   "cell_type": "code",
   "execution_count": 27,
   "metadata": {},
   "outputs": [],
   "source": [
    "properties['unit_zestimate'] = properties.zestimate / properties.houseSize\n",
    "properties['unit_high_est'] = properties.high_estimate / properties.houseSize\n",
    "properties['unit_low_est'] = properties.low_estimate / properties.houseSize\n",
    "\n",
    "properties.drop(['results_key', 'zpid', 'street', 'city', 'zipcode', 'latitude',\n",
    "       'longitude', 'zestimate', 'valueChange', 'low_estimate',\n",
    "       'high_estimate', 'neighborhood_zindex_value',\n",
    "       'hometype', 'assessmentYear', 'assessment', 'yearBuilt', 'lotSize',\n",
    "       'houseSize', 'bathrooms', 'bedrooms', 'lastSold', 'lastSoldPrice',\n",
    "       'grid_num', 'updated'], axis=1, inplace=True)\n",
    "\n",
    "properties.drop(['Unnamed: 0'], axis=1, inplace=True)"
   ]
  },
  {
   "cell_type": "code",
   "execution_count": 28,
   "metadata": {},
   "outputs": [
    {
     "data": {
      "text/html": [
       "<div>\n",
       "<style scoped>\n",
       "    .dataframe tbody tr th:only-of-type {\n",
       "        vertical-align: middle;\n",
       "    }\n",
       "\n",
       "    .dataframe tbody tr th {\n",
       "        vertical-align: top;\n",
       "    }\n",
       "\n",
       "    .dataframe thead th {\n",
       "        text-align: right;\n",
       "    }\n",
       "</style>\n",
       "<table border=\"1\" class=\"dataframe\">\n",
       "  <thead>\n",
       "    <tr style=\"text-align: right;\">\n",
       "      <th></th>\n",
       "      <th>neighborhood</th>\n",
       "      <th>tracts</th>\n",
       "      <th>unit_zestimate</th>\n",
       "      <th>unit_high_est</th>\n",
       "      <th>unit_low_est</th>\n",
       "    </tr>\n",
       "  </thead>\n",
       "  <tbody>\n",
       "    <tr>\n",
       "      <td>0</td>\n",
       "      <td>Edison Park</td>\n",
       "      <td>ct_902</td>\n",
       "      <td>194.243333</td>\n",
       "      <td>203.955333</td>\n",
       "      <td>184.531333</td>\n",
       "    </tr>\n",
       "    <tr>\n",
       "      <td>1</td>\n",
       "      <td>Edison Park</td>\n",
       "      <td>ct_902</td>\n",
       "      <td>236.935686</td>\n",
       "      <td>248.782584</td>\n",
       "      <td>225.088788</td>\n",
       "    </tr>\n",
       "    <tr>\n",
       "      <td>2</td>\n",
       "      <td>Edison Park</td>\n",
       "      <td>ct_901</td>\n",
       "      <td>187.789231</td>\n",
       "      <td>208.446154</td>\n",
       "      <td>167.132308</td>\n",
       "    </tr>\n",
       "    <tr>\n",
       "      <td>3</td>\n",
       "      <td>Edison Park</td>\n",
       "      <td>ct_901</td>\n",
       "      <td>191.729337</td>\n",
       "      <td>201.315715</td>\n",
       "      <td>182.142958</td>\n",
       "    </tr>\n",
       "    <tr>\n",
       "      <td>4</td>\n",
       "      <td>Edison Park</td>\n",
       "      <td>ct_902</td>\n",
       "      <td>267.624123</td>\n",
       "      <td>281.005105</td>\n",
       "      <td>254.243140</td>\n",
       "    </tr>\n",
       "    <tr>\n",
       "      <td>...</td>\n",
       "      <td>...</td>\n",
       "      <td>...</td>\n",
       "      <td>...</td>\n",
       "      <td>...</td>\n",
       "      <td>...</td>\n",
       "    </tr>\n",
       "    <tr>\n",
       "      <td>132011</td>\n",
       "      <td>Beverly</td>\n",
       "      <td>ct_7203</td>\n",
       "      <td>221.648810</td>\n",
       "      <td>232.731293</td>\n",
       "      <td>210.566327</td>\n",
       "    </tr>\n",
       "    <tr>\n",
       "      <td>132012</td>\n",
       "      <td>Roseland</td>\n",
       "      <td>ct_4903</td>\n",
       "      <td>117.058333</td>\n",
       "      <td>122.911364</td>\n",
       "      <td>111.205303</td>\n",
       "    </tr>\n",
       "    <tr>\n",
       "      <td>132013</td>\n",
       "      <td>Washington Heights</td>\n",
       "      <td>ct_7302.02</td>\n",
       "      <td>91.586538</td>\n",
       "      <td>96.166084</td>\n",
       "      <td>87.006993</td>\n",
       "    </tr>\n",
       "    <tr>\n",
       "      <td>132014</td>\n",
       "      <td>Calumet Heights</td>\n",
       "      <td>ct_4801</td>\n",
       "      <td>91.166667</td>\n",
       "      <td>102.106918</td>\n",
       "      <td>83.873166</td>\n",
       "    </tr>\n",
       "    <tr>\n",
       "      <td>132015</td>\n",
       "      <td>Morgan Park</td>\n",
       "      <td>ct_7506</td>\n",
       "      <td>78.195192</td>\n",
       "      <td>89.142308</td>\n",
       "      <td>70.375962</td>\n",
       "    </tr>\n",
       "  </tbody>\n",
       "</table>\n",
       "<p>132016 rows × 5 columns</p>\n",
       "</div>"
      ],
      "text/plain": [
       "              neighborhood      tracts  unit_zestimate  unit_high_est  \\\n",
       "0              Edison Park      ct_902      194.243333     203.955333   \n",
       "1              Edison Park      ct_902      236.935686     248.782584   \n",
       "2              Edison Park      ct_901      187.789231     208.446154   \n",
       "3              Edison Park      ct_901      191.729337     201.315715   \n",
       "4              Edison Park      ct_902      267.624123     281.005105   \n",
       "...                    ...         ...             ...            ...   \n",
       "132011             Beverly     ct_7203      221.648810     232.731293   \n",
       "132012            Roseland     ct_4903      117.058333     122.911364   \n",
       "132013  Washington Heights  ct_7302.02       91.586538      96.166084   \n",
       "132014     Calumet Heights     ct_4801       91.166667     102.106918   \n",
       "132015         Morgan Park     ct_7506       78.195192      89.142308   \n",
       "\n",
       "        unit_low_est  \n",
       "0         184.531333  \n",
       "1         225.088788  \n",
       "2         167.132308  \n",
       "3         182.142958  \n",
       "4         254.243140  \n",
       "...              ...  \n",
       "132011    210.566327  \n",
       "132012    111.205303  \n",
       "132013     87.006993  \n",
       "132014     83.873166  \n",
       "132015     70.375962  \n",
       "\n",
       "[132016 rows x 5 columns]"
      ]
     },
     "execution_count": 28,
     "metadata": {},
     "output_type": "execute_result"
    }
   ],
   "source": [
    "properties"
   ]
  },
  {
   "cell_type": "code",
   "execution_count": 29,
   "metadata": {},
   "outputs": [],
   "source": [
    "properties_neighborhood_aggregated = properties.groupby('neighborhood')\\\n",
    "                             [['unit_zestimate', 'unit_high_est', 'unit_low_est']].mean()"
   ]
  },
  {
   "cell_type": "code",
   "execution_count": 30,
   "metadata": {},
   "outputs": [],
   "source": [
    "properties_tract_aggregated = properties.groupby('tracts')\\\n",
    "                             [['unit_zestimate', 'unit_high_est', 'unit_low_est']].mean()"
   ]
  },
  {
   "cell_type": "code",
   "execution_count": 31,
   "metadata": {},
   "outputs": [],
   "source": [
    "properties_neighborhood_aggregated.to_csv(\"../data/properties_neighborhood_aggregated.csv\")"
   ]
  },
  {
   "cell_type": "code",
   "execution_count": 32,
   "metadata": {},
   "outputs": [],
   "source": [
    "properties_tract_aggregated.to_csv(\"../data/properties_tract_aggregated.csv\")"
   ]
  },
  {
   "cell_type": "code",
   "execution_count": null,
   "metadata": {},
   "outputs": [],
   "source": []
  }
 ],
 "metadata": {
  "kernelspec": {
   "display_name": "Python 3",
   "language": "python",
   "name": "python3"
  },
  "language_info": {
   "codemirror_mode": {
    "name": "ipython",
    "version": 3
   },
   "file_extension": ".py",
   "mimetype": "text/x-python",
   "name": "python",
   "nbconvert_exporter": "python",
   "pygments_lexer": "ipython3",
   "version": "3.7.4"
  }
 },
 "nbformat": 4,
 "nbformat_minor": 2
}
