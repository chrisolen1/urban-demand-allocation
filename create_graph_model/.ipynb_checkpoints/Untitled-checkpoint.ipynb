{
 "cells": [
  {
   "cell_type": "code",
   "execution_count": 145,
   "metadata": {},
   "outputs": [],
   "source": [
    "import pandas as pd\n",
    "import numpy as np\n",
    "import json\n",
    "\n",
    "import os\n",
    "import sys\n",
    "\n",
    "import networkx as nx\n",
    "from py2neo import Graph\n",
    "import re\n",
    "from itertools import combinations\n",
    "\n",
    "from tqdm import tqdm\n",
    "import sys\n",
    "home_directory = \"/Users/chrisolen/Documents/projects/demand-allocation/urban-demand-allocation\"\n",
    "geo_directory = \"/Users/chrisolen/Documents/projects/demand-allocation/data/geog-bucket\"\n",
    "data_directory = \"/Users/chrisolen/Documents/projects/demand-allocation/data\"\n",
    "graph_directory = \"/Users/chrisolen/Documents/projects/demand-allocation/data/graph-models\"\n",
    "sys.path.append(home_directory)\n",
    "import utilities"
   ]
  },
  {
   "cell_type": "code",
   "execution_count": 146,
   "metadata": {},
   "outputs": [],
   "source": [
    "aggregate_by = \"neighborhood\""
   ]
  },
  {
   "cell_type": "code",
   "execution_count": 147,
   "metadata": {},
   "outputs": [],
   "source": [
    "data_directory_complete = data_directory + \"/\" \"res-bucket\""
   ]
  },
  {
   "cell_type": "code",
   "execution_count": 148,
   "metadata": {},
   "outputs": [
    {
     "data": {
      "text/plain": [
       "'/Users/chrisolen/Documents/projects/demand-allocation/data/res-bucket'"
      ]
     },
     "execution_count": 148,
     "metadata": {},
     "output_type": "execute_result"
    }
   ],
   "source": [
    "data_directory_complete"
   ]
  },
  {
   "cell_type": "code",
   "execution_count": 149,
   "metadata": {},
   "outputs": [],
   "source": [
    "with open('{}/chicago_{}_reformatted.json'.format(geo_directory, aggregate_by),'r') as f:\n",
    "\t\t\t\tgeo = json.load(f)"
   ]
  },
  {
   "cell_type": "code",
   "execution_count": 150,
   "metadata": {},
   "outputs": [],
   "source": [
    "df = pd.read_csv('{}/{}'.format(data_directory_complete, file_name))"
   ]
  },
  {
   "cell_type": "code",
   "execution_count": 151,
   "metadata": {},
   "outputs": [],
   "source": [
    "unique_geos = list(geo.keys())"
   ]
  },
  {
   "cell_type": "code",
   "execution_count": 152,
   "metadata": {},
   "outputs": [],
   "source": [
    "features_to_aggregate = ['property_value', 'children_count']"
   ]
  },
  {
   "cell_type": "code",
   "execution_count": 153,
   "metadata": {},
   "outputs": [],
   "source": [
    "features = list(features_to_aggregate) + ['neighborhood']"
   ]
  },
  {
   "cell_type": "code",
   "execution_count": 154,
   "metadata": {},
   "outputs": [
    {
     "data": {
      "text/plain": [
       "['property_value', 'children_count', 'neighborhood']"
      ]
     },
     "execution_count": 154,
     "metadata": {},
     "output_type": "execute_result"
    }
   ],
   "source": [
    "features"
   ]
  },
  {
   "cell_type": "code",
   "execution_count": 155,
   "metadata": {},
   "outputs": [],
   "source": [
    "features_dataframe = df[features]"
   ]
  },
  {
   "cell_type": "code",
   "execution_count": 156,
   "metadata": {},
   "outputs": [],
   "source": [
    "if 'None' in list(features_dataframe[aggregate_by]):\n",
    "\n",
    "\t\tfeatures_dataframe = features_dataframe[features_dataframe[aggregate_by] != 'None']"
   ]
  },
  {
   "cell_type": "code",
   "execution_count": 157,
   "metadata": {},
   "outputs": [],
   "source": [
    "aggregated_frame = pd.DataFrame({aggregate_by:unique_geos})"
   ]
  },
  {
   "cell_type": "code",
   "execution_count": 158,
   "metadata": {},
   "outputs": [
    {
     "data": {
      "text/html": [
       "<div>\n",
       "<style scoped>\n",
       "    .dataframe tbody tr th:only-of-type {\n",
       "        vertical-align: middle;\n",
       "    }\n",
       "\n",
       "    .dataframe tbody tr th {\n",
       "        vertical-align: top;\n",
       "    }\n",
       "\n",
       "    .dataframe thead th {\n",
       "        text-align: right;\n",
       "    }\n",
       "</style>\n",
       "<table border=\"1\" class=\"dataframe\">\n",
       "  <thead>\n",
       "    <tr style=\"text-align: right;\">\n",
       "      <th></th>\n",
       "      <th>neighborhood</th>\n",
       "    </tr>\n",
       "  </thead>\n",
       "  <tbody>\n",
       "    <tr>\n",
       "      <th>0</th>\n",
       "      <td>Grand Boulevard</td>\n",
       "    </tr>\n",
       "    <tr>\n",
       "      <th>1</th>\n",
       "      <td>Printers Row</td>\n",
       "    </tr>\n",
       "    <tr>\n",
       "      <th>2</th>\n",
       "      <td>United Center</td>\n",
       "    </tr>\n",
       "    <tr>\n",
       "      <th>3</th>\n",
       "      <td>Sheffield &amp; DePaul</td>\n",
       "    </tr>\n",
       "    <tr>\n",
       "      <th>4</th>\n",
       "      <td>Humboldt Park</td>\n",
       "    </tr>\n",
       "    <tr>\n",
       "      <th>...</th>\n",
       "      <td>...</td>\n",
       "    </tr>\n",
       "    <tr>\n",
       "      <th>93</th>\n",
       "      <td>Belmont Cragin</td>\n",
       "    </tr>\n",
       "    <tr>\n",
       "      <th>94</th>\n",
       "      <td>Austin</td>\n",
       "    </tr>\n",
       "    <tr>\n",
       "      <th>95</th>\n",
       "      <td>Gold Coast</td>\n",
       "    </tr>\n",
       "    <tr>\n",
       "      <th>96</th>\n",
       "      <td>Boystown</td>\n",
       "    </tr>\n",
       "    <tr>\n",
       "      <th>97</th>\n",
       "      <td>River North</td>\n",
       "    </tr>\n",
       "  </tbody>\n",
       "</table>\n",
       "<p>98 rows × 1 columns</p>\n",
       "</div>"
      ],
      "text/plain": [
       "          neighborhood\n",
       "0      Grand Boulevard\n",
       "1         Printers Row\n",
       "2        United Center\n",
       "3   Sheffield & DePaul\n",
       "4        Humboldt Park\n",
       "..                 ...\n",
       "93      Belmont Cragin\n",
       "94              Austin\n",
       "95          Gold Coast\n",
       "96            Boystown\n",
       "97         River North\n",
       "\n",
       "[98 rows x 1 columns]"
      ]
     },
     "execution_count": 158,
     "metadata": {},
     "output_type": "execute_result"
    }
   ],
   "source": [
    "aggregated_frame"
   ]
  },
  {
   "cell_type": "code",
   "execution_count": 159,
   "metadata": {},
   "outputs": [],
   "source": [
    "aggregated = features_dataframe.groupby(aggregate_by)\\\n",
    "\t\t\t\t\t\t\t\t ['property_value'].mean()"
   ]
  },
  {
   "cell_type": "code",
   "execution_count": 160,
   "metadata": {},
   "outputs": [
    {
     "data": {
      "text/plain": [
       "neighborhood\n",
       "Albany Park       177.368034\n",
       "Andersonville     262.897227\n",
       "Archer Heights    166.869840\n",
       "Armour Square     190.718850\n",
       "Ashburn           130.282235\n",
       "                     ...    \n",
       "West Ridge        152.955084\n",
       "West Town         249.939436\n",
       "Wicker Park       271.028049\n",
       "Woodlawn           75.653118\n",
       "Wrigleyville      254.443146\n",
       "Name: property_value, Length: 97, dtype: float64"
      ]
     },
     "execution_count": 160,
     "metadata": {},
     "output_type": "execute_result"
    }
   ],
   "source": [
    "aggregated"
   ]
  },
  {
   "cell_type": "code",
   "execution_count": 161,
   "metadata": {},
   "outputs": [],
   "source": [
    "additionals = list(set(unique_geos) - set(list(aggregated.index)))"
   ]
  },
  {
   "cell_type": "code",
   "execution_count": 162,
   "metadata": {},
   "outputs": [
    {
     "data": {
      "text/plain": [
       "['Grant Park']"
      ]
     },
     "execution_count": 162,
     "metadata": {},
     "output_type": "execute_result"
    }
   ],
   "source": [
    "additionals"
   ]
  },
  {
   "cell_type": "code",
   "execution_count": 163,
   "metadata": {},
   "outputs": [
    {
     "name": "stdout",
     "output_type": "stream",
     "text": [
      "neighborhood\n",
      "Albany Park       177.368034\n",
      "Andersonville     262.897227\n",
      "Archer Heights    166.869840\n",
      "Armour Square     190.718850\n",
      "Ashburn           130.282235\n",
      "                     ...    \n",
      "West Ridge        152.955084\n",
      "West Town         249.939436\n",
      "Wicker Park       271.028049\n",
      "Woodlawn           75.653118\n",
      "Wrigleyville      254.443146\n",
      "Name: property_value, Length: 97, dtype: float64\n",
      "Albany Park       177.368034\n",
      "Andersonville     262.897227\n",
      "Archer Heights    166.869840\n",
      "Armour Square     190.718850\n",
      "Ashburn           130.282235\n",
      "                     ...    \n",
      "West Town         249.939436\n",
      "Wicker Park       271.028049\n",
      "Woodlawn           75.653118\n",
      "Wrigleyville      254.443146\n",
      "Grant Park               NaN\n",
      "Name: property_value, Length: 98, dtype: float64\n"
     ]
    }
   ],
   "source": [
    "for i in additionals:\n",
    "\t\t\t\tif i != np.nan:\n",
    "\t\t\t\t\tprint(aggregated)\n",
    "\t\t\t\t\taggregated = aggregated.append(pd.Series({i:np.nan}, name='property_value'))\n",
    "\t\t\t\t\tprint(aggregated)"
   ]
  },
  {
   "cell_type": "code",
   "execution_count": 164,
   "metadata": {},
   "outputs": [],
   "source": [
    "aggregated = aggregated.rename_axis(\"neighborhood\")"
   ]
  },
  {
   "cell_type": "code",
   "execution_count": 165,
   "metadata": {},
   "outputs": [
    {
     "data": {
      "text/plain": [
       "neighborhood\n",
       "Albany Park       177.368034\n",
       "Andersonville     262.897227\n",
       "Archer Heights    166.869840\n",
       "Armour Square     190.718850\n",
       "Ashburn           130.282235\n",
       "                     ...    \n",
       "West Town         249.939436\n",
       "Wicker Park       271.028049\n",
       "Woodlawn           75.653118\n",
       "Wrigleyville      254.443146\n",
       "Grant Park               NaN\n",
       "Name: property_value, Length: 98, dtype: float64"
      ]
     },
     "execution_count": 165,
     "metadata": {},
     "output_type": "execute_result"
    }
   ],
   "source": [
    "aggregated"
   ]
  },
  {
   "cell_type": "code",
   "execution_count": 166,
   "metadata": {},
   "outputs": [
    {
     "data": {
      "text/html": [
       "<div>\n",
       "<style scoped>\n",
       "    .dataframe tbody tr th:only-of-type {\n",
       "        vertical-align: middle;\n",
       "    }\n",
       "\n",
       "    .dataframe tbody tr th {\n",
       "        vertical-align: top;\n",
       "    }\n",
       "\n",
       "    .dataframe thead th {\n",
       "        text-align: right;\n",
       "    }\n",
       "</style>\n",
       "<table border=\"1\" class=\"dataframe\">\n",
       "  <thead>\n",
       "    <tr style=\"text-align: right;\">\n",
       "      <th></th>\n",
       "      <th>neighborhood</th>\n",
       "      <th>property_value</th>\n",
       "    </tr>\n",
       "  </thead>\n",
       "  <tbody>\n",
       "    <tr>\n",
       "      <th>0</th>\n",
       "      <td>Grand Boulevard</td>\n",
       "      <td>88.496911</td>\n",
       "    </tr>\n",
       "    <tr>\n",
       "      <th>1</th>\n",
       "      <td>Printers Row</td>\n",
       "      <td>188.515927</td>\n",
       "    </tr>\n",
       "    <tr>\n",
       "      <th>2</th>\n",
       "      <td>United Center</td>\n",
       "      <td>115.320936</td>\n",
       "    </tr>\n",
       "    <tr>\n",
       "      <th>3</th>\n",
       "      <td>Sheffield &amp; DePaul</td>\n",
       "      <td>363.419810</td>\n",
       "    </tr>\n",
       "    <tr>\n",
       "      <th>4</th>\n",
       "      <td>Humboldt Park</td>\n",
       "      <td>153.636904</td>\n",
       "    </tr>\n",
       "    <tr>\n",
       "      <th>...</th>\n",
       "      <td>...</td>\n",
       "      <td>...</td>\n",
       "    </tr>\n",
       "    <tr>\n",
       "      <th>93</th>\n",
       "      <td>Belmont Cragin</td>\n",
       "      <td>180.702560</td>\n",
       "    </tr>\n",
       "    <tr>\n",
       "      <th>94</th>\n",
       "      <td>Austin</td>\n",
       "      <td>113.732411</td>\n",
       "    </tr>\n",
       "    <tr>\n",
       "      <th>95</th>\n",
       "      <td>Gold Coast</td>\n",
       "      <td>342.077790</td>\n",
       "    </tr>\n",
       "    <tr>\n",
       "      <th>96</th>\n",
       "      <td>Boystown</td>\n",
       "      <td>175.589340</td>\n",
       "    </tr>\n",
       "    <tr>\n",
       "      <th>97</th>\n",
       "      <td>River North</td>\n",
       "      <td>209.748994</td>\n",
       "    </tr>\n",
       "  </tbody>\n",
       "</table>\n",
       "<p>98 rows × 2 columns</p>\n",
       "</div>"
      ],
      "text/plain": [
       "          neighborhood  property_value\n",
       "0      Grand Boulevard       88.496911\n",
       "1         Printers Row      188.515927\n",
       "2        United Center      115.320936\n",
       "3   Sheffield & DePaul      363.419810\n",
       "4        Humboldt Park      153.636904\n",
       "..                 ...             ...\n",
       "93      Belmont Cragin      180.702560\n",
       "94              Austin      113.732411\n",
       "95          Gold Coast      342.077790\n",
       "96            Boystown      175.589340\n",
       "97         River North      209.748994\n",
       "\n",
       "[98 rows x 2 columns]"
      ]
     },
     "execution_count": 166,
     "metadata": {},
     "output_type": "execute_result"
    }
   ],
   "source": [
    "aggregated_frame.merge(aggregated, how='left', on=aggregate_by)"
   ]
  },
  {
   "cell_type": "code",
   "execution_count": null,
   "metadata": {},
   "outputs": [],
   "source": []
  },
  {
   "cell_type": "code",
   "execution_count": null,
   "metadata": {},
   "outputs": [],
   "source": []
  },
  {
   "cell_type": "code",
   "execution_count": null,
   "metadata": {},
   "outputs": [],
   "source": []
  },
  {
   "cell_type": "code",
   "execution_count": null,
   "metadata": {},
   "outputs": [],
   "source": []
  },
  {
   "cell_type": "code",
   "execution_count": null,
   "metadata": {},
   "outputs": [],
   "source": []
  }
 ],
 "metadata": {
  "kernelspec": {
   "display_name": "Python 3",
   "language": "python",
   "name": "python3"
  },
  "language_info": {
   "codemirror_mode": {
    "name": "ipython",
    "version": 3
   },
   "file_extension": ".py",
   "mimetype": "text/x-python",
   "name": "python",
   "nbconvert_exporter": "python",
   "pygments_lexer": "ipython3",
   "version": "3.7.4"
  }
 },
 "nbformat": 4,
 "nbformat_minor": 2
}
