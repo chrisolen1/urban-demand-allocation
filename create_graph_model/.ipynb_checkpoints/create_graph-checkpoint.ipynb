{
 "cells": [
  {
   "cell_type": "code",
   "execution_count": 1,
   "metadata": {},
   "outputs": [],
   "source": [
    "import sys\n",
    "sys.path.append('/Users/chrisolen/Documents/uchicago_courses/optimization/project/urban-demand-allocation')\n",
    "\n",
    "import pandas as pd\n",
    "import numpy as np\n",
    "import json\n",
    "import re\n",
    "import networkx as nx\n",
    "from itertools import combinations, product\n",
    "\n",
    "import utilities\n",
    "import pynx_to_neo4j\n",
    "from create_graph_model import aggregate_features "
   ]
  },
  {
   "cell_type": "code",
   "execution_count": 2,
   "metadata": {},
   "outputs": [],
   "source": [
    "with open('../../data/geo_shape_files/neighborhood_reformatted.json','r') as f:\n",
    "    neighborhoods = json.load(f)\n",
    "    \n",
    "with open('../../data/geo_shape_files/tract_reformatted.json','r') as f:\n",
    "    tracts = json.load(f)    "
   ]
  },
  {
   "cell_type": "code",
   "execution_count": 3,
   "metadata": {},
   "outputs": [
    {
     "name": "stdout",
     "output_type": "stream",
     "text": [
      "additionals: ['Museum Campus', 'Jackson Park', 'Hegewisch']\n",
      "additionals: ['ct_3817', 'ct_3504', 'ct_8214.02', 'ct_9801', 'ct_3511', 'ct_3501', 'ct_5205', 'ct_5202', 'ct_4610', 'ct_4606', 'ct_5203', 'ct_8339', 'ct_3805', 'ct_5101', 'ct_5502', 'ct_5501', 'ct_8357', 'ct_4607', 'ct_5201', 'ct_5204', 'ct_9800', 'ct_7706.02']\n"
     ]
    }
   ],
   "source": [
    "# produce aggregated figures for property values\n",
    "properties = pd.read_csv(\"../../data/residential_standardized.csv\")\n",
    "properties_neighborhood_aggregated, properties_tract_aggregated = \\\n",
    "aggregate_features.aggregate_features(properties, \"mean\", \"../../data/geo_shape_files\", \"zestimate\", \"lotSize\")\n"
   ]
  },
  {
   "cell_type": "code",
   "execution_count": 4,
   "metadata": {},
   "outputs": [
    {
     "name": "stdout",
     "output_type": "stream",
     "text": [
      "additionals: []\n",
      "additionals: ['ct_8214.02']\n"
     ]
    }
   ],
   "source": [
    "# produce aggregated figures for crime\n",
    "crime = pd.read_csv(\"../../data/crime_standardized.csv\")\n",
    "crime_neighborhood_aggregated, crime_tract_aggregated = \\\n",
    "aggregate_features.aggregate_features(crime, \"count\", \"../../data/geo_shape_files\", \"primary_type\")\n"
   ]
  },
  {
   "cell_type": "code",
   "execution_count": 5,
   "metadata": {},
   "outputs": [
    {
     "name": "stderr",
     "output_type": "stream",
     "text": [
      "TopologyException: side location conflict at -87.648784708051664 41.939987536474959\n",
      "TopologyException: side location conflict at -87.780022286293374 41.997413553897694\n",
      "TopologyException: side location conflict at -87.664020791475323 41.947275771403895\n",
      "TopologyException: side location conflict at -87.624576496994393 41.896975362507106\n",
      "TopologyException: side location conflict at -87.836580878737252 41.986396112425794\n",
      "TopologyException: side location conflict at -87.780022286293374 41.997413553897694\n"
     ]
    }
   ],
   "source": [
    "# create neighborhood nodes with property value attributes\n",
    "G = pynx_to_neo4j.create_pynx_nodes(properties_neighborhood_aggregated, node_category='neighborhood', \\\n",
    "                                    attribute_columns=list(properties_neighborhood_aggregated.columns))\n",
    "# create neighborhood nodes with crime attributes\n",
    "G = pynx_to_neo4j.create_pynx_nodes(crime_neighborhood_aggregated,node_category='neighborhood', \\\n",
    "                                    attribute_columns=list(crime_neighborhood_aggregated.columns), \\\n",
    "                                    existing_graph=G)\n",
    "# create neighborhood to neighborhood edges\n",
    "G = pynx_to_neo4j.add_edges_to_pynx(G, \"NEXT_TO\", utilities.intersection, [\"polygon_name_1\", \"polygon_name_2\"], \\\n",
    "                                    \"neighborhood\",bidirectional=True, polygon_dict_1=neighborhoods, \\\n",
    "                                    polygon_dict_2=neighborhoods)\n"
   ]
  },
  {
   "cell_type": "code",
   "execution_count": 6,
   "metadata": {},
   "outputs": [],
   "source": [
    "# create tract nodes with property value attributes\n",
    "G = pynx_to_neo4j.create_pynx_nodes(properties_tract_aggregated, node_category='tract', \\\n",
    "                                    attribute_columns=list(properties_tract_aggregated.columns), existing_graph=G)\n",
    "# create census tract to census tract edges\n",
    "G = pynx_to_neo4j.add_edges_to_pynx(G, \"NEXT_TO\", utilities.intersection, [\"polygon_name_1\", \"polygon_name_2\"], \\\n",
    "                                    \"tract\", bidirectional=True, polygon_dict_1=tracts, \\\n",
    "                                    polygon_dict_2=tracts)\n",
    "\n",
    "\n",
    "\n"
   ]
  },
  {
   "cell_type": "code",
   "execution_count": 7,
   "metadata": {},
   "outputs": [],
   "source": [
    "# create unidirectional edges between census tract and neighborhood\n",
    "G = pynx_to_neo4j.add_edges_to_pynx(G, \"CONTAINS\", utilities.intersection, [\"polygon_name_1\", \"polygon_name_2\"], \\\n",
    "                                    \"neighborhood\", \"tract\", bidirectional=False, polygon_dict_1=neighborhoods, \\\n",
    "                                    polygon_dict_2=tracts)\n",
    "G = pynx_to_neo4j.add_edges_to_pynx(G, \"IS_WITHIN\", utilities.intersection, [\"polygon_name_1\", \"polygon_name_2\"], \\\n",
    "                                    \"tract\", \"neighborhood\", bidirectional=False, polygon_dict_1=tracts, \\\n",
    "                                    polygon_dict_2=neighborhoods)\n",
    "\n",
    "\n"
   ]
  },
  {
   "cell_type": "code",
   "execution_count": 8,
   "metadata": {},
   "outputs": [],
   "source": [
    "# convert to neo4j query\n",
    "neo = pynx_to_neo4j.pynx_to_neo4j_queries(G, return_nodes=True, return_edges=True)"
   ]
  },
  {
   "cell_type": "code",
   "execution_count": 9,
   "metadata": {},
   "outputs": [],
   "source": [
    "# save as txt file\n",
    "\n",
    "with open('../neo.txt', 'w') as neo_text:\n",
    "    for listitem in neo:\n",
    "        neo_text.write('%s\\n' % listitem)"
   ]
  },
  {
   "cell_type": "code",
   "execution_count": null,
   "metadata": {},
   "outputs": [],
   "source": []
  }
 ],
 "metadata": {
  "kernelspec": {
   "display_name": "Python 3",
   "language": "python",
   "name": "python3"
  },
  "language_info": {
   "codemirror_mode": {
    "name": "ipython",
    "version": 3
   },
   "file_extension": ".py",
   "mimetype": "text/x-python",
   "name": "python",
   "nbconvert_exporter": "python",
   "pygments_lexer": "ipython3",
   "version": "3.7.4"
  }
 },
 "nbformat": 4,
 "nbformat_minor": 2
}
