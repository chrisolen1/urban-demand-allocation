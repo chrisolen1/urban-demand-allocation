{
 "cells": [
  {
   "cell_type": "code",
   "execution_count": 3,
   "metadata": {},
   "outputs": [],
   "source": [
    "import pyspark\n",
    "\n",
    "from pyspark.context import SparkContext\n",
    "from pyspark.sql.session import SparkSession\n",
    "from pyspark.sql import functions as F\n",
    "from pyspark.sql.types import *\n",
    "\n",
    "import pandas as pd"
   ]
  },
  {
   "cell_type": "code",
   "execution_count": 4,
   "metadata": {},
   "outputs": [],
   "source": [
    "config = pyspark.SparkConf().setAll([(\"spark.dynamicAllocation.enabled\",\"True\"),\n",
    "                                    (\"spark.executor.cores\",\"4\")])\n",
    "sc = SparkContext(conf=config)\n",
    "spark = SparkSession(sc)"
   ]
  },
  {
   "cell_type": "code",
   "execution_count": 5,
   "metadata": {},
   "outputs": [
    {
     "data": {
      "text/html": [
       "\n",
       "            <div>\n",
       "                <p><b>SparkSession - in-memory</b></p>\n",
       "                \n",
       "        <div>\n",
       "            <p><b>SparkContext</b></p>\n",
       "\n",
       "            <p><a href=\"http://data-filtering-cluster-m.us-central1-a.c.demand-allocation.internal:4040\">Spark UI</a></p>\n",
       "\n",
       "            <dl>\n",
       "              <dt>Version</dt>\n",
       "                <dd><code>v2.4.5</code></dd>\n",
       "              <dt>Master</dt>\n",
       "                <dd><code>yarn</code></dd>\n",
       "              <dt>AppName</dt>\n",
       "                <dd><code>pyspark-shell</code></dd>\n",
       "            </dl>\n",
       "        </div>\n",
       "        \n",
       "            </div>\n",
       "        "
      ],
      "text/plain": [
       "<pyspark.sql.session.SparkSession at 0x7f1a20605d68>"
      ]
     },
     "execution_count": 5,
     "metadata": {},
     "output_type": "execute_result"
    }
   ],
   "source": [
    "spark"
   ]
  },
  {
   "cell_type": "code",
   "execution_count": 14,
   "metadata": {},
   "outputs": [
    {
     "name": "stdout",
     "output_type": "stream",
     "text": [
      "CPU times: user 13.7 ms, sys: 1.11 ms, total: 14.8 ms\n",
      "Wall time: 1min 15s\n"
     ]
    }
   ],
   "source": [
    "%time bus = spark.read.csv(\"gs://biz-bucket/business.csv\", inferSchema=True, header=True, sep = ',')"
   ]
  },
  {
   "cell_type": "code",
   "execution_count": 17,
   "metadata": {},
   "outputs": [
    {
     "name": "stdout",
     "output_type": "stream",
     "text": [
      "root\n",
      " |-- archive_version_year: integer (nullable = true)\n",
      " |-- abi: integer (nullable = true)\n",
      " |-- ticker: string (nullable = true)\n",
      " |-- company: string (nullable = true)\n",
      " |-- address_line_1: string (nullable = true)\n",
      " |-- city: string (nullable = true)\n",
      " |-- zipcode: integer (nullable = true)\n",
      " |-- location_employee_size_code: string (nullable = true)\n",
      " |-- location_sales_volume_code: string (nullable = true)\n",
      " |-- primary_naics_code: integer (nullable = true)\n",
      " |-- sic_code: integer (nullable = true)\n",
      " |-- sic6_descriptions_sic: string (nullable = true)\n",
      " |-- business_status_code: integer (nullable = true)\n",
      " |-- office_size_code: string (nullable = true)\n",
      " |-- company_holding_status: integer (nullable = true)\n",
      " |-- parent_employee_size_code: string (nullable = true)\n",
      " |-- parent_sales_volume_code: string (nullable = true)\n",
      " |-- census_tract: integer (nullable = true)\n",
      " |-- cbsa_code: integer (nullable = true)\n",
      " |-- year_established: integer (nullable = true)\n",
      " |-- employee_size_location: integer (nullable = true)\n",
      " |-- sales_volume_location: integer (nullable = true)\n",
      " |-- parent_actual_employee_size: integer (nullable = true)\n",
      " |-- parent_actual_sales_volume: integer (nullable = true)\n",
      " |-- latitude: double (nullable = true)\n",
      " |-- longitude: double (nullable = true)\n",
      "\n"
     ]
    }
   ],
   "source": [
    "bus.printSchema()"
   ]
  },
  {
   "cell_type": "code",
   "execution_count": 19,
   "metadata": {},
   "outputs": [
    {
     "name": "stdout",
     "output_type": "stream",
     "text": [
      "+--------------------+----+------+--------------------+--------------+-----------+-------+---------------------------+--------------------------+------------------+--------+---------------------+--------------------+----------------+----------------------+-------------------------+------------------------+------------+---------+----------------+----------------------+---------------------+---------------------------+--------------------------+--------+---------+\n",
      "|archive_version_year| abi|ticker|             company|address_line_1|       city|zipcode|location_employee_size_code|location_sales_volume_code|primary_naics_code|sic_code|sic6_descriptions_sic|business_status_code|office_size_code|company_holding_status|parent_employee_size_code|parent_sales_volume_code|census_tract|cbsa_code|year_established|employee_size_location|sales_volume_location|parent_actual_employee_size|parent_actual_sales_volume|latitude|longitude|\n",
      "+--------------------+----+------+--------------------+--------------+-----------+-------+---------------------------+--------------------------+------------------+--------+---------------------+--------------------+----------------+----------------------+-------------------------+------------------------+------------+---------+----------------+----------------------+---------------------+---------------------------+--------------------------+--------+---------+\n",
      "|                2009|4432|  null|GUIDA-SEIBERT DAI...|   433 PARK ST|NEW BRITAIN|   6051|                          G|                         H|          11212001|  202398| DRY CONDENSED/EVP...|                   9|            null|                  null|                     null|                    null|      415300|    25540|            1886|                   275|                60775|                       null|                      null|  41.665|-72.76954|\n",
      "+--------------------+----+------+--------------------+--------------+-----------+-------+---------------------------+--------------------------+------------------+--------+---------------------+--------------------+----------------+----------------------+-------------------------+------------------------+------------+---------+----------------+----------------------+---------------------+---------------------------+--------------------------+--------+---------+\n",
      "only showing top 1 row\n",
      "\n"
     ]
    }
   ],
   "source": [
    "bus.show(1)"
   ]
  },
  {
   "cell_type": "code",
   "execution_count": 26,
   "metadata": {},
   "outputs": [
    {
     "name": "stdout",
     "output_type": "stream",
     "text": [
      "CPU times: user 15.5 ms, sys: 3.93 ms, total: 19.4 ms\n",
      "Wall time: 1min 35s\n"
     ]
    }
   ],
   "source": [
    "%time res = spark.read.csv(\"gs://res-bucket/res_2017.txt\", inferSchema=True, header=False, sep = '\\t')"
   ]
  },
  {
   "cell_type": "code",
   "execution_count": 27,
   "metadata": {},
   "outputs": [
    {
     "name": "stdout",
     "output_type": "stream",
     "text": [
      "root\n",
      " |-- _c0: long (nullable = true)\n",
      " |-- _c1: string (nullable = true)\n",
      " |-- _c2: integer (nullable = true)\n",
      " |-- _c3: integer (nullable = true)\n",
      " |-- _c4: integer (nullable = true)\n",
      " |-- _c5: integer (nullable = true)\n",
      " |-- _c6: integer (nullable = true)\n",
      " |-- _c7: integer (nullable = true)\n",
      " |-- _c8: integer (nullable = true)\n",
      " |-- _c9: string (nullable = true)\n",
      " |-- _c10: string (nullable = true)\n",
      " |-- _c11: string (nullable = true)\n",
      " |-- _c12: string (nullable = true)\n",
      " |-- _c13: string (nullable = true)\n",
      " |-- _c14: string (nullable = true)\n",
      " |-- _c15: string (nullable = true)\n",
      " |-- _c16: string (nullable = true)\n",
      " |-- _c17: string (nullable = true)\n",
      " |-- _c18: integer (nullable = true)\n",
      " |-- _c19: double (nullable = true)\n",
      " |-- _c20: double (nullable = true)\n",
      " |-- _c21: integer (nullable = true)\n",
      " |-- _c22: string (nullable = true)\n",
      " |-- _c23: integer (nullable = true)\n",
      "\n"
     ]
    }
   ],
   "source": [
    "res.printSchema()"
   ]
  },
  {
   "cell_type": "code",
   "execution_count": 29,
   "metadata": {},
   "outputs": [
    {
     "name": "stdout",
     "output_type": "stream",
     "text": [
      "+--------+---+---+---+----+---+---+---+---+----+----+------------+----+----+----+----+-----------+----+----+---------+----------+------+----+----+\n",
      "|     _c0|_c1|_c2|_c3| _c4|_c5|_c6|_c7|_c8| _c9|_c10|        _c11|_c12|_c13|_c14|_c15|       _c16|_c17|_c18|     _c19|      _c20|  _c21|_c22|_c23|\n",
      "+--------+---+---+---+----+---+---+---+---+----+----+------------+----+----+----+----+-----------+----+----+---------+----------+------+----+----+\n",
      "|44680654|  S| 21|  0| 959| 48|  9| 55|  2|  96|null|      MEADOW|null|  LN|null|null|THOMASVILLE|  GA|   0|30.808399|-83.849457|961100|  E5|2017|\n",
      "|44680667|  S| 24|  3|1570|128|  9|147|  7| 153|null|     MELROSE|null|  LN|null|null|THOMASVILLE|  GA|   0|30.849767| -83.90532|960500|  S3|2017|\n",
      "|44680670|  S| 21|  0|1391| 26|  8| 83|  2|  25|   S|     MELROSE|null|  LN|null|null|THOMASVILLE|  GA|   0|30.847137|  -83.9046|961000|  IE|2017|\n",
      "|44680683|  S| 25|  5|1885|119|  9|272|  2| 504|null|MERRILLVILLE|null|  RD|null|null|THOMASVILLE|  GA|   0|30.947508|-83.893804|960300|  E5|2017|\n",
      "|44680701|  S| 11|  1| 812| 40|  9| 81|  7| 156|null|  TWIN ACRES|null|  DR|null|null|THOMASVILLE|  GA|   0| 30.87911|-83.937834|960500|  S3|2017|\n",
      "|44680714|  S| 21|  0| 807| 59|  9| 18|  1| 419|null|      MIDWAY|null|  RD|null|null|THOMASVILLE|  GA|   0|30.865205|-83.932834|960500|  E5|2017|\n",
      "|44680735|  S| 25|  0|1661| 51|  9| 90|  8|  50|null|    MONCRIEF|null|  LN|null|null|THOMASVILLE|  GA|   0|30.831581| -83.90949|961000|  S3|2017|\n",
      "|44680769|  S|  8|  0|1684|100|  9|140|  8| 405|null|   BRIARWOOD|null|  DR|null|null|THOMASVILLE|  GA|   0|30.823151| -83.95003|960900|  W4|2017|\n",
      "|44680772|  S| 22|  2|1355| 42|  9|114|  7|2243|null|  SUMMERHILL|null|  RD|null|null|THOMASVILLE|  GA|   0|30.848064|-83.905718|960500|  E5|2017|\n",
      "|44680777|  S| 12|  0|2038| 69|  9|134|  2|4420|null|        EAST|null|  RD|null|null|       LIMA|  OH|   0|40.773319|-84.185485| 10800|  FR|2017|\n",
      "+--------+---+---+---+----+---+---+---+---+----+----+------------+----+----+----+----+-----------+----+----+---------+----------+------+----+----+\n",
      "only showing top 10 rows\n",
      "\n"
     ]
    }
   ],
   "source": [
    "res.show(10)"
   ]
  },
  {
   "cell_type": "code",
   "execution_count": null,
   "metadata": {},
   "outputs": [],
   "source": []
  },
  {
   "cell_type": "code",
   "execution_count": null,
   "metadata": {},
   "outputs": [],
   "source": [
    "sc.stop()"
   ]
  },
  {
   "cell_type": "code",
   "execution_count": null,
   "metadata": {},
   "outputs": [],
   "source": []
  }
 ],
 "metadata": {
  "kernelspec": {
   "display_name": "Python 3",
   "language": "python",
   "name": "python3"
  },
  "language_info": {
   "codemirror_mode": {
    "name": "ipython",
    "version": 3
   },
   "file_extension": ".py",
   "mimetype": "text/x-python",
   "name": "python",
   "nbconvert_exporter": "python",
   "pygments_lexer": "ipython3",
   "version": "3.6.10"
  }
 },
 "nbformat": 4,
 "nbformat_minor": 2
}
