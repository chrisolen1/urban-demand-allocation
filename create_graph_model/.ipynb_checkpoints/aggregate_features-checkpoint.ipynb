{
 "cells": [
  {
   "cell_type": "code",
   "execution_count": 117,
   "metadata": {},
   "outputs": [],
   "source": [
    "import pandas as pd\n",
    "import numpy as np\n",
    "import json\n"
   ]
  },
  {
   "cell_type": "code",
   "execution_count": 62,
   "metadata": {},
   "outputs": [],
   "source": []
  },
  {
   "cell_type": "code",
   "execution_count": 70,
   "metadata": {},
   "outputs": [],
   "source": []
  },
  {
   "cell_type": "code",
   "execution_count": 118,
   "metadata": {},
   "outputs": [],
   "source": [
    "def aggregate_features(features_dataframe, aggregate_function, geo_data_directory, *features_to_aggregate):\n",
    "    \n",
    "    # pull out unique aggregator categories\n",
    "    with open('{}/neighborhood_polys.json'.format(geo_data_directory),'r') as f:\n",
    "        neighborhoods = json.load(f)\n",
    "    \n",
    "    with open('{}/tract_polys.json'.format(geo_data_directory),'r') as f:\n",
    "        tracts = json.load(f)\n",
    "    \n",
    "    unique_neighborhoods = list(neighborhoods.keys())\n",
    "    unique_census_tracts = list(tracts.keys())\n",
    "    # limit frame to features to aggregate and aggregator categories\n",
    "    features = list(features_to_aggregate) + [\"neighborhood\",\"tracts\"]\n",
    "    features_dataframe = features_dataframe[features]\n",
    "               \n",
    "    if aggregate_function == \"mean\":\n",
    "        \n",
    "        # calculate aggregated figures for each neighborhood\n",
    "        neighborhood_aggregated = features_dataframe.groupby('neighborhood')\\\n",
    "                             [list(features_to_aggregate)].mean()\n",
    "        # determine whether\n",
    "        additionals = list(set(unique_neighborhoods) - set(list(neighborhood_aggregated.index)))\n",
    "        for i in additionals:\n",
    "            if i != np.nan:\n",
    "                neighborhood_aggregated.append(pd.Series(name=i))\n",
    "        \n",
    "        # calculate aggregated features for each census tract    \n",
    "        census_tract_aggregated = features_dataframe.groupby('tracts')\\\n",
    "                             [list(features_to_aggregate)].mean()\n",
    "        additionals = list(set(unique_census_tracts) - set(list(census_tract_aggregated.index)))\n",
    "        for i in additionals:\n",
    "            if i != np.nan:\n",
    "                census_tract_aggregated.append(pd.Series(name=i))\n",
    "        \n",
    "    elif aggregate_function == \"count\":\n",
    "        \n",
    "        # calculate aggregated figures for each neighborhood\n",
    "        neighborhood_aggregated = features_dataframe.groupby('neighborhood')\\\n",
    "                             [list(features_to_aggregate)].count()\n",
    "        additionals = list(set(unique_neighborhoods) - set(list(neighborhood_aggregated.index)))\n",
    "        for i in additionals:\n",
    "            if i != np.nan:\n",
    "                neighborhood_aggregated.append(pd.Series(name=i))\n",
    "        \n",
    "        # calculate aggregated features for each census tract    \n",
    "        census_tract_aggregated = features_dataframe.groupby('tracts')\\\n",
    "                             [list(features_to_aggregate)].count()\n",
    "        additionals = list(set(unique_census_tracts) - set(list(census_tract_aggregated.index)))\n",
    "        for i in additionals:\n",
    "            if i != np.nan:\n",
    "                census_tract_aggregated.append(pd.Series(name=i))\n",
    "        \n",
    "    return neighborhood_aggregated, census_tract_aggregated\n",
    "                \n",
    "    \n",
    "            \n",
    "        \n",
    "    \n",
    "    \n",
    "    \n",
    "    \n",
    "    \n",
    "    \n",
    "\n",
    "\n"
   ]
  },
  {
   "cell_type": "code",
   "execution_count": null,
   "metadata": {},
   "outputs": [],
   "source": []
  }
 ],
 "metadata": {
  "kernelspec": {
   "display_name": "Python 3",
   "language": "python",
   "name": "python3"
  },
  "language_info": {
   "codemirror_mode": {
    "name": "ipython",
    "version": 3
   },
   "file_extension": ".py",
   "mimetype": "text/x-python",
   "name": "python",
   "nbconvert_exporter": "python",
   "pygments_lexer": "ipython3",
   "version": "3.7.4"
  }
 },
 "nbformat": 4,
 "nbformat_minor": 2
}
