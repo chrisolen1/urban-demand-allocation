{
 "cells": [
  {
   "cell_type": "code",
   "execution_count": 33,
   "metadata": {},
   "outputs": [],
   "source": [
    "import sys\n",
    "sys.path.append('/Users/chrisolen/Documents/uchicago_courses/optimization/project/urban-demand-allocation')\n",
    "\n",
    "import pandas as pd\n",
    "import numpy as np\n",
    "import json\n",
    "import re\n",
    "import networkx as nx\n",
    "from itertools import combinations, product\n",
    "\n",
    "import utilities\n",
    "import pynx_to_neo4j\n",
    "from data_prep import aggregate_features "
   ]
  },
  {
   "cell_type": "code",
   "execution_count": 34,
   "metadata": {},
   "outputs": [],
   "source": [
    "with open('../../data/geo_shape_files/neighborhood_polys.json','r') as f:\n",
    "    neighborhoods = json.load(f)\n",
    "    \n",
    "with open('../../data/geo_shape_files/tract_polys.json','r') as f:\n",
    "    tracts = json.load(f)    "
   ]
  },
  {
   "cell_type": "code",
   "execution_count": 35,
   "metadata": {},
   "outputs": [],
   "source": [
    "# produce aggregated figures for property values\n",
    "property_values = pd.read_csv(\"../../data/residential_w_tract_and_neighborhoods.csv\")\n",
    "properties_neighborhood_aggregated, properties_tract_aggregated = \\\n",
    "aggregate_features.aggregate_features(property_values, \"mean\", \"../../data/geo_shape_files\", \"zestimate\", \"lotSize\")\n"
   ]
  },
  {
   "cell_type": "code",
   "execution_count": 36,
   "metadata": {},
   "outputs": [],
   "source": [
    "# produce aggregated figures for crime\n",
    "crime = pd.read_csv(\"../../data/crime_w_tract_and_neighborhoods.csv\")\n",
    "crime_neighborhood_aggregated, crime_tract_aggregated = \\\n",
    "aggregate_features.aggregate_features(crime, \"count\", \"../../data/geo_shape_files\", \"primary_type\")\n"
   ]
  },
  {
   "cell_type": "code",
   "execution_count": 37,
   "metadata": {},
   "outputs": [
    {
     "name": "stderr",
     "output_type": "stream",
     "text": [
      "TopologyException: side location conflict at -87.648784708051664 41.939987536474959\n",
      "TopologyException: side location conflict at -87.780022286293374 41.997413553897694\n",
      "TopologyException: side location conflict at -87.664020791475323 41.947275771403895\n",
      "TopologyException: side location conflict at -87.624576496994393 41.896975362507106\n",
      "TopologyException: side location conflict at -87.836580878737252 41.986396112425794\n",
      "TopologyException: side location conflict at -87.780022286293374 41.997413553897694\n"
     ]
    }
   ],
   "source": [
    "# create neighborhood nodes with property value attributes\n",
    "G = pynx_to_neo4j.create_pynx_nodes(properties_neighborhood_aggregated, node_category='neighborhood', \\\n",
    "                                    attribute_columns=list(properties_neighborhood_aggregated.columns))\n",
    "# create neighborhood nodes with crime attributes\n",
    "G = pynx_to_neo4j.create_pynx_nodes(crime_neighborhood_aggregated,node_category='neighborhood', \\\n",
    "                                    attribute_columns=list(crime_neighborhood_aggregated.columns), \\\n",
    "                                    existing_graph=G)\n",
    "# create neighborhood to neighborhood edges\n",
    "G = pynx_to_neo4j.add_edges_to_pynx(G, \"NEXT_TO\", utilities.intersection, [\"polygon_name_1\", \"polygon_name_2\"], \\\n",
    "                                    \"neighborhood\",bidirectional=True, polygon_dict_1=neighborhoods, \\\n",
    "                                    polygon_dict_2=neighborhoods)\n"
   ]
  },
  {
   "cell_type": "code",
   "execution_count": 38,
   "metadata": {},
   "outputs": [],
   "source": [
    "# create tract nodes with property value attributes\n",
    "G = pynx_to_neo4j.create_pynx_nodes(properties_tract_aggregated, node_category='tract', \\\n",
    "                                    attribute_columns=list(properties_tract_aggregated.columns), existing_graph=G)\n",
    "# create census tract to census tract edges\n",
    "G = pynx_to_neo4j.add_edges_to_pynx(G, \"NEXT_TO\", utilities.intersection, [\"polygon_name_1\", \"polygon_name_2\"], \\\n",
    "                                    \"tract\", bidirectional=True, polygon_dict_1=tracts, \\\n",
    "                                    polygon_dict_2=tracts)\n",
    "\n",
    "\n",
    "\n"
   ]
  },
  {
   "cell_type": "code",
   "execution_count": 39,
   "metadata": {},
   "outputs": [],
   "source": [
    "# create unidirectional edges between census tract and neighborhood\n",
    "G = pynx_to_neo4j.add_edges_to_pynx(G, \"CONTAINS\", utilities.intersection, [\"polygon_name_1\", \"polygon_name_2\"], \\\n",
    "                                    \"neighborhood\", \"tract\", bidirectional=False, polygon_dict_1=neighborhoods, \\\n",
    "                                    polygon_dict_2=tracts)\n",
    "G = pynx_to_neo4j.add_edges_to_pynx(G, \"IS_WITHIN\", utilities.intersection, [\"polygon_name_1\", \"polygon_name_2\"], \\\n",
    "                                    \"tract\", \"neighborhood\", bidirectional=False, polygon_dict_1=tracts, \\\n",
    "                                    polygon_dict_2=neighborhoods)\n",
    "\n",
    "\n"
   ]
  },
  {
   "cell_type": "code",
   "execution_count": 40,
   "metadata": {},
   "outputs": [],
   "source": [
    "# convert to neo4j query\n",
    "neo = pynx_to_neo4j.pynx_to_neo4j_queries(G, return_nodes=True, return_edges=True)"
   ]
  },
  {
   "cell_type": "code",
   "execution_count": 41,
   "metadata": {},
   "outputs": [],
   "source": [
    "# save as txt file\n",
    "\n",
    "with open('../neo.txt', 'w') as neo_text:\n",
    "    for listitem in neo:\n",
    "        neo_text.write('%s\\n' % listitem)"
   ]
  },
  {
   "cell_type": "code",
   "execution_count": null,
   "metadata": {},
   "outputs": [],
   "source": []
  },
  {
   "cell_type": "code",
   "execution_count": null,
   "metadata": {},
   "outputs": [],
   "source": []
  }
 ],
 "metadata": {
  "kernelspec": {
   "display_name": "Python 3",
   "language": "python",
   "name": "python3"
  },
  "language_info": {
   "codemirror_mode": {
    "name": "ipython",
    "version": 3
   },
   "file_extension": ".py",
   "mimetype": "text/x-python",
   "name": "python",
   "nbconvert_exporter": "python",
   "pygments_lexer": "ipython3",
   "version": "3.7.4"
  }
 },
 "nbformat": 4,
 "nbformat_minor": 2
}
