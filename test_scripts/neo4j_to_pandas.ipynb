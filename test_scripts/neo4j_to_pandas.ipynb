{
 "cells": [
  {
   "cell_type": "code",
   "execution_count": 2,
   "metadata": {},
   "outputs": [],
   "source": [
    "from py2neo import Graph\n",
    "import pandas as pd\n",
    "\n",
    "uri = \"bolt://localhost:7687\"\n",
    "graph = Graph(uri, auth=(\"neo4j\", \"password\"))\n"
   ]
  },
  {
   "cell_type": "code",
   "execution_count": 8,
   "metadata": {},
   "outputs": [],
   "source": [
    "result = graph.run(\"match (a:neighborhood)-[:NEXT_TO]->(b) where a.name = 'Logan Square' return a,b\").to_table()\n",
    "df = pd.DataFrame(result)"
   ]
  },
  {
   "cell_type": "code",
   "execution_count": 9,
   "metadata": {},
   "outputs": [
    {
     "data": {
      "text/html": [
       "<div>\n",
       "<style scoped>\n",
       "    .dataframe tbody tr th:only-of-type {\n",
       "        vertical-align: middle;\n",
       "    }\n",
       "\n",
       "    .dataframe tbody tr th {\n",
       "        vertical-align: top;\n",
       "    }\n",
       "\n",
       "    .dataframe thead th {\n",
       "        text-align: right;\n",
       "    }\n",
       "</style>\n",
       "<table border=\"1\" class=\"dataframe\">\n",
       "  <thead>\n",
       "    <tr style=\"text-align: right;\">\n",
       "      <th></th>\n",
       "      <th>0</th>\n",
       "      <th>1</th>\n",
       "    </tr>\n",
       "  </thead>\n",
       "  <tbody>\n",
       "    <tr>\n",
       "      <td>0</td>\n",
       "      <td>{'name': 'Logan Square', 'avg_property_value':...</td>\n",
       "      <td>{'name': 'Wicker Park', 'avg_property_value': ...</td>\n",
       "    </tr>\n",
       "    <tr>\n",
       "      <td>1</td>\n",
       "      <td>{'name': 'Logan Square', 'avg_property_value':...</td>\n",
       "      <td>{'name': 'Humboldt Park', 'avg_property_value'...</td>\n",
       "    </tr>\n",
       "    <tr>\n",
       "      <td>2</td>\n",
       "      <td>{'name': 'Logan Square', 'avg_property_value':...</td>\n",
       "      <td>{'name': 'Bucktown', 'avg_property_value': '40...</td>\n",
       "    </tr>\n",
       "    <tr>\n",
       "      <td>3</td>\n",
       "      <td>{'name': 'Logan Square', 'avg_property_value':...</td>\n",
       "      <td>{'name': 'Hermosa', 'avg_property_value': '454...</td>\n",
       "    </tr>\n",
       "    <tr>\n",
       "      <td>4</td>\n",
       "      <td>{'name': 'Logan Square', 'avg_property_value':...</td>\n",
       "      <td>{'name': 'Avondale', 'avg_property_value': '36...</td>\n",
       "    </tr>\n",
       "  </tbody>\n",
       "</table>\n",
       "</div>"
      ],
      "text/plain": [
       "                                                   0  \\\n",
       "0  {'name': 'Logan Square', 'avg_property_value':...   \n",
       "1  {'name': 'Logan Square', 'avg_property_value':...   \n",
       "2  {'name': 'Logan Square', 'avg_property_value':...   \n",
       "3  {'name': 'Logan Square', 'avg_property_value':...   \n",
       "4  {'name': 'Logan Square', 'avg_property_value':...   \n",
       "\n",
       "                                                   1  \n",
       "0  {'name': 'Wicker Park', 'avg_property_value': ...  \n",
       "1  {'name': 'Humboldt Park', 'avg_property_value'...  \n",
       "2  {'name': 'Bucktown', 'avg_property_value': '40...  \n",
       "3  {'name': 'Hermosa', 'avg_property_value': '454...  \n",
       "4  {'name': 'Avondale', 'avg_property_value': '36...  "
      ]
     },
     "execution_count": 9,
     "metadata": {},
     "output_type": "execute_result"
    }
   ],
   "source": [
    "df"
   ]
  },
  {
   "cell_type": "code",
   "execution_count": 31,
   "metadata": {},
   "outputs": [
    {
     "data": {
      "text/plain": [
       "3240.3161437563126"
      ]
     },
     "execution_count": 31,
     "metadata": {},
     "output_type": "execute_result"
    }
   ],
   "source": [
    "(float(dict(df.iloc[0,1])['avg_property_value']) + \\\n",
    "float(dict(df.iloc[1,1])['avg_property_value']) + \\\n",
    "float(dict(df.iloc[2,1])['avg_property_value']) + \\\n",
    "float(dict(df.iloc[3,1])['avg_property_value']) + \\\n",
    "float(dict(df.iloc[4,1])['avg_property_value']))/5"
   ]
  },
  {
   "cell_type": "code",
   "execution_count": null,
   "metadata": {},
   "outputs": [],
   "source": []
  }
 ],
 "metadata": {
  "kernelspec": {
   "display_name": "Python 3",
   "language": "python",
   "name": "python3"
  },
  "language_info": {
   "codemirror_mode": {
    "name": "ipython",
    "version": 3
   },
   "file_extension": ".py",
   "mimetype": "text/x-python",
   "name": "python",
   "nbconvert_exporter": "python",
   "pygments_lexer": "ipython3",
   "version": "3.7.4"
  }
 },
 "nbformat": 4,
 "nbformat_minor": 2
}
