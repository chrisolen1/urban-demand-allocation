{
 "cells": [
  {
   "cell_type": "code",
   "execution_count": 2,
   "metadata": {},
   "outputs": [],
   "source": [
    "import json\n",
    "from shapely.geometry import shape, Point, Polygon\n"
   ]
  },
  {
   "cell_type": "code",
   "execution_count": 3,
   "metadata": {},
   "outputs": [],
   "source": [
    "# lookup up the key corresponding to the lat/long point based on what polygon it fits in\n",
    "\n",
    "def point_lookup(polygon_dict, point):\n",
    "    \n",
    "    point = Point(point) # point should be a tuple\n",
    "    \n",
    "    for i in range(len(list(polygon_dict.keys()))):\n",
    "        result = Polygon(polygon_dict[list(polygon_dict.keys())[i]][0]).contains(point) # zero index is there because of zoning type in zoning data\n",
    "        \n",
    "        if result == True:\n",
    "            return list(polygon_dict.keys())[i]\n",
    "            break \n",
    "       "
   ]
  },
  {
   "cell_type": "code",
   "execution_count": 6,
   "metadata": {},
   "outputs": [
    {
     "data": {
      "text/plain": [
       "'Garfield Ridge'"
      ]
     },
     "execution_count": 6,
     "metadata": {},
     "output_type": "execute_result"
    }
   ],
   "source": [
    "# example\n",
    "\n",
    "with open('../dicts/neighborhood_polys.json','r') as f:\n",
    "    neighborhoods = json.load(f)\n",
    "\n",
    "point = Point(-87.7762369, 41.7927022) # should be Garfield Ridge\n",
    "point_lookup(neighborhoods, point)"
   ]
  },
  {
   "cell_type": "code",
   "execution_count": 8,
   "metadata": {},
   "outputs": [
    {
     "data": {
      "text/plain": [
       "'Garfield Ridge'"
      ]
     },
     "execution_count": 8,
     "metadata": {},
     "output_type": "execute_result"
    }
   ],
   "source": [
    "point_lookup(neighborhoods, Point((-87.7762369, 41.7927022)))"
   ]
  },
  {
   "cell_type": "code",
   "execution_count": 31,
   "metadata": {},
   "outputs": [
    {
     "data": {
      "text/plain": [
       "'row-pmme_teh3_2tua'"
      ]
     },
     "execution_count": 31,
     "metadata": {},
     "output_type": "execute_result"
    }
   ],
   "source": [
    "# example\n",
    "\n",
    "with open('zoning_polys.json','r') as f:\n",
    "    zoning = json.load(f)\n",
    "\n",
    "point = Point(-87.7762369, 41.7927022) \n",
    "point_lookup(zoning, point)"
   ]
  },
  {
   "cell_type": "code",
   "execution_count": 35,
   "metadata": {},
   "outputs": [
    {
     "data": {
      "text/plain": [
       "'5608'"
      ]
     },
     "execution_count": 35,
     "metadata": {},
     "output_type": "execute_result"
    }
   ],
   "source": [
    "# example\n",
    "\n",
    "with open('tract_polys.json','r') as f:\n",
    "    tracts = json.load(f)\n",
    "\n",
    "point = Point(-87.7762369, 41.7927022) \n",
    "point_lookup(tracts, point)"
   ]
  },
  {
   "cell_type": "code",
   "execution_count": 37,
   "metadata": {},
   "outputs": [],
   "source": [
    "# confirm intersection of two polygons\n",
    "\n",
    "def intersection(polygon_dict_1, polygon_name_1, polygon_dict_2, polygon_name_2):\n",
    "    \n",
    "    shape_1 = Polygon(polygon_dict_1[polygon_name_1][0]) \n",
    "    shape_2 = Polygon(polygon_dict_2[polygon_name_2][0])\n",
    "    result = shape_1.intersects(shape_2)\n",
    "    return result\n",
    "    \n",
    "    \n",
    "    \n",
    "    \n",
    "    "
   ]
  },
  {
   "cell_type": "code",
   "execution_count": 39,
   "metadata": {},
   "outputs": [
    {
     "data": {
      "text/plain": [
       "False"
      ]
     },
     "execution_count": 39,
     "metadata": {},
     "output_type": "execute_result"
    }
   ],
   "source": [
    "# example\n",
    "\n",
    "with open('neighborhood_polys.json','r') as f:\n",
    "    neighborhoods = json.load(f)\n",
    "\n",
    "with open('zoning_polys.json','r') as f:\n",
    "    zoning = json.load(f)\n",
    "    \n",
    "intersection(neighborhoods, 'Garfield Ridge', zoning, 'row-jdxc_7s8u.uim2')    \n"
   ]
  },
  {
   "cell_type": "code",
   "execution_count": null,
   "metadata": {},
   "outputs": [],
   "source": []
  },
  {
   "cell_type": "code",
   "execution_count": null,
   "metadata": {},
   "outputs": [],
   "source": []
  },
  {
   "cell_type": "code",
   "execution_count": null,
   "metadata": {},
   "outputs": [],
   "source": []
  },
  {
   "cell_type": "code",
   "execution_count": null,
   "metadata": {},
   "outputs": [],
   "source": []
  }
 ],
 "metadata": {
  "kernelspec": {
   "display_name": "Python 3",
   "language": "python",
   "name": "python3"
  },
  "language_info": {
   "codemirror_mode": {
    "name": "ipython",
    "version": 3
   },
   "file_extension": ".py",
   "mimetype": "text/x-python",
   "name": "python",
   "nbconvert_exporter": "python",
   "pygments_lexer": "ipython3",
   "version": "3.7.4"
  }
 },
 "nbformat": 4,
 "nbformat_minor": 2
}
