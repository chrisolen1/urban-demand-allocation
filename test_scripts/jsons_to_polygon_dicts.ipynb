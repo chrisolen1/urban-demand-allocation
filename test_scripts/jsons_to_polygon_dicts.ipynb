{
 "cells": [
  {
   "cell_type": "code",
   "execution_count": 176,
   "metadata": {},
   "outputs": [],
   "source": [
    "import json\n",
    "from shapely.geometry import shape, Point, Polygon\n"
   ]
  },
  {
   "cell_type": "code",
   "execution_count": 177,
   "metadata": {},
   "outputs": [],
   "source": [
    "# clean neighborhoods json file:\n",
    "\n",
    "with open('neighborhoods.json','r') as f:\n",
    "    neighborhoods_dict = json.load(f)\n"
   ]
  },
  {
   "cell_type": "code",
   "execution_count": 178,
   "metadata": {},
   "outputs": [],
   "source": [
    "neighborhoods = [neighborhoods_dict['data'][i][8:10] for i in range(len(neighborhoods_dict['data']))]"
   ]
  },
  {
   "cell_type": "code",
   "execution_count": 179,
   "metadata": {},
   "outputs": [],
   "source": [
    "names = [neighborhoods_dict['data'][i][9] for i in range(len(neighborhoods_dict['data']))]\n",
    "polygons = [neighborhoods_dict['data'][i][8] for i in range(len(neighborhoods_dict['data']))]\n"
   ]
  },
  {
   "cell_type": "code",
   "execution_count": 180,
   "metadata": {},
   "outputs": [],
   "source": [
    "neighborhoods = {k:v for (k,v) in zip(names,polygons)}"
   ]
  },
  {
   "cell_type": "code",
   "execution_count": 181,
   "metadata": {},
   "outputs": [],
   "source": [
    "polys_split = [neighborhoods[list(neighborhoods.keys())[i]].split(\",\") for i in range(len(neighborhoods.keys()))]\n",
    "polys_split = [[j.replace(\"MULTIPOLYGON\",\"\").replace(\"(\",\"\").replace(\")\",\"\") for j in polys_split[i]] for i in range(len(polys_split))]\n",
    "polys_split = [[j.lstrip() for j in polys_split[i]] for i in range(len(polys_split))]\n",
    "polys_split = [[j.split(\" \") for j in polys_split[i]] for i in range(len(polys_split))]\n",
    "polys_split = [[[float(k) for k in polys_split[i][j]] for j in range(len(polys_split[i]))] for i in range(len(polys_split))]"
   ]
  },
  {
   "cell_type": "code",
   "execution_count": 182,
   "metadata": {},
   "outputs": [],
   "source": [
    "neighborhoods = {k:[v] for (k,v) in zip(names,polys_split)}"
   ]
  },
  {
   "cell_type": "code",
   "execution_count": 183,
   "metadata": {},
   "outputs": [],
   "source": [
    "with open (\"neighborhood_polys.json\",'w') as f:\n",
    "    json.dump(neighborhoods, f)"
   ]
  },
  {
   "cell_type": "code",
   "execution_count": 184,
   "metadata": {},
   "outputs": [],
   "source": [
    "# clean zoning json file:\n",
    "\n",
    "with open('zoning.json','r') as f:\n",
    "    zoning_dict = json.load(f)\n"
   ]
  },
  {
   "cell_type": "code",
   "execution_count": 185,
   "metadata": {},
   "outputs": [],
   "source": [
    "names = [zoning_dict['data'][i][0] for i in range(len(zoning_dict['data']))]\n",
    "polygons = [zoning_dict['data'][i][8] for i in range(len(zoning_dict['data']))]\n",
    "zoning_type = [zoning_dict['data'][i][13] for i in range(len(zoning_dict['data']))]\n"
   ]
  },
  {
   "cell_type": "code",
   "execution_count": 186,
   "metadata": {},
   "outputs": [],
   "source": [
    "zoning = {k:v for (k,v) in zip(names,polygons)}"
   ]
  },
  {
   "cell_type": "code",
   "execution_count": 187,
   "metadata": {},
   "outputs": [],
   "source": [
    "polys_split = [zoning[list(zoning.keys())[i]].split(\",\") for i in range(len(zoning.keys()))]\n",
    "polys_split = [[j.replace(\"MULTIPOLYGON\",\"\").replace(\"(\",\"\").replace(\")\",\"\") for j in polys_split[i]] for i in range(len(polys_split))]\n",
    "polys_split = [[j.lstrip() for j in polys_split[i]] for i in range(len(polys_split))]\n",
    "polys_split = [[j.split(\" \") for j in polys_split[i]] for i in range(len(polys_split))]\n",
    "polys_split = [[[float(k) for k in polys_split[i][j]] for j in range(len(polys_split[i]))] for i in range(len(polys_split))]"
   ]
  },
  {
   "cell_type": "code",
   "execution_count": 188,
   "metadata": {},
   "outputs": [],
   "source": [
    "zoning = {k:v for (k,v) in zip(names,polys_split)}"
   ]
  },
  {
   "cell_type": "code",
   "execution_count": 189,
   "metadata": {},
   "outputs": [],
   "source": [
    "for i in range(len(zoning.keys())):\n",
    "    zoning.update({list(zoning.keys())[i]:[zoning[list(zoning.keys())[i]],zoning_type[i]]})"
   ]
  },
  {
   "cell_type": "code",
   "execution_count": 190,
   "metadata": {},
   "outputs": [],
   "source": [
    "with open (\"zoning_polys.json\",'w') as f:\n",
    "    json.dump(zoning, f)"
   ]
  },
  {
   "cell_type": "code",
   "execution_count": 191,
   "metadata": {},
   "outputs": [],
   "source": [
    "# cleaning census track json file:\n",
    "\n",
    "with open('tracts.json','r') as f:\n",
    "    tract_dict = json.load(f)\n"
   ]
  },
  {
   "cell_type": "code",
   "execution_count": 192,
   "metadata": {},
   "outputs": [],
   "source": [
    "names = [tract_dict['data'][i][13] for i in range(len(tract_dict['data']))]\n",
    "polygons = [tract_dict['data'][i][8] for i in range(len(tract_dict['data']))]\n",
    "\n"
   ]
  },
  {
   "cell_type": "code",
   "execution_count": 193,
   "metadata": {},
   "outputs": [],
   "source": [
    "tracts = {k:v for (k,v) in zip(names,polygons)}"
   ]
  },
  {
   "cell_type": "code",
   "execution_count": 194,
   "metadata": {},
   "outputs": [],
   "source": [
    "polys_split = [tracts[list(tracts.keys())[i]].split(\",\") for i in range(len(tracts.keys()))]\n",
    "polys_split = [[j.replace(\"MULTIPOLYGON\",\"\").replace(\"(\",\"\").replace(\")\",\"\") for j in polys_split[i]] for i in range(len(polys_split))]\n",
    "polys_split = [[j.lstrip() for j in polys_split[i]] for i in range(len(polys_split))]\n",
    "polys_split = [[j.split(\" \") for j in polys_split[i]] for i in range(len(polys_split))]\n",
    "polys_split = [[[float(k) for k in polys_split[i][j]] for j in range(len(polys_split[i]))] for i in range(len(polys_split))]"
   ]
  },
  {
   "cell_type": "code",
   "execution_count": 195,
   "metadata": {},
   "outputs": [],
   "source": [
    "tracts = {k:[v] for (k,v) in zip(names,polys_split)}"
   ]
  },
  {
   "cell_type": "code",
   "execution_count": 196,
   "metadata": {},
   "outputs": [],
   "source": [
    "with open (\"tract_polys.json\",'w') as f:\n",
    "    json.dump(tracts, f)"
   ]
  },
  {
   "cell_type": "code",
   "execution_count": null,
   "metadata": {},
   "outputs": [],
   "source": []
  }
 ],
 "metadata": {
  "kernelspec": {
   "display_name": "Python 3",
   "language": "python",
   "name": "python3"
  },
  "language_info": {
   "codemirror_mode": {
    "name": "ipython",
    "version": 3
   },
   "file_extension": ".py",
   "mimetype": "text/x-python",
   "name": "python",
   "nbconvert_exporter": "python",
   "pygments_lexer": "ipython3",
   "version": "3.7.4"
  }
 },
 "nbformat": 4,
 "nbformat_minor": 2
}
