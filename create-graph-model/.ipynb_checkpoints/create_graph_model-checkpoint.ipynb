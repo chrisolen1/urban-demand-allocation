{
 "cells": [
  {
   "cell_type": "code",
   "execution_count": 1,
   "metadata": {},
   "outputs": [],
   "source": [
    "import sys\n",
    "sys.path.append('/Users/chrisolen/Documents/uchicago_courses/optimization/project/urban-demand-allocation')\n",
    "\n",
    "import pandas as pd\n",
    "import numpy as np\n",
    "import json\n",
    "import re\n",
    "import networkx as nx\n",
    "from itertools import combinations, product\n",
    "\n",
    "import utilities\n",
    "import pynx_to_neo4j\n",
    "from create_graph_model import aggregate_features "
   ]
  },
  {
   "cell_type": "code",
   "execution_count": 2,
   "metadata": {},
   "outputs": [],
   "source": [
    "with open('../../data/geo_shape_files/neighborhood_reformatted.json','r') as f:\n",
    "    neighborhoods = json.load(f)\n",
    "    \n",
    "with open('../../data/geo_shape_files/tract_reformatted.json','r') as f:\n",
    "    tracts = json.load(f)    "
   ]
  },
  {
   "cell_type": "code",
   "execution_count": 3,
   "metadata": {},
   "outputs": [],
   "source": [
    "# produce aggregated figures for property values\n",
    "properties = pd.read_csv(\"../../data/residential_standardized.csv\")\n",
    "properties_neighborhood_aggregated, properties_tract_aggregated = \\\n",
    "aggregate_features.aggregate_features(properties, \"mean\", \"../../data/geo_shape_files\", \"zestimate\", \"lotSize\")\n"
   ]
  },
  {
   "cell_type": "code",
   "execution_count": 4,
   "metadata": {},
   "outputs": [],
   "source": [
    "# produce aggregated figures for crime\n",
    "crime = pd.read_csv(\"../../data/crime_standardized.csv\")\n",
    "crime_neighborhood_aggregated, crime_tract_aggregated = \\\n",
    "aggregate_features.aggregate_features(crime, \"count\", \"../../data/geo_shape_files\", \"primary_type\")\n"
   ]
  },
  {
   "cell_type": "code",
   "execution_count": 5,
   "metadata": {},
   "outputs": [
    {
     "name": "stderr",
     "output_type": "stream",
     "text": [
      "100%|██████████| 98/98 [00:00<00:00, 252637.86it/s]\n",
      "100%|██████████| 2/2 [00:00<00:00, 977.81it/s]\n",
      "100%|██████████| 98/98 [00:00<00:00, 372658.02it/s]\n",
      "100%|██████████| 1/1 [00:00<00:00, 817.76it/s]\n",
      " 10%|█         | 480/4753 [00:00<00:00, 4775.41it/s]"
     ]
    },
    {
     "name": "stdout",
     "output_type": "stream",
     "text": [
      "creating nodes\n",
      "creating attributes\n",
      "creating nodes\n",
      "creating attributes\n",
      "iterating through all possible edge relationships\n"
     ]
    },
    {
     "name": "stderr",
     "output_type": "stream",
     "text": [
      "TopologyException: side location conflict at -87.648784708051664 41.939987536474959\n",
      " 61%|██████    | 2885/4753 [00:00<00:00, 5591.88it/s]TopologyException: side location conflict at -87.780022286293374 41.997413553897694\n",
      " 71%|███████   | 3371/4753 [00:00<00:00, 5153.54it/s]TopologyException: side location conflict at -87.664020791475323 41.947275771403895\n",
      "TopologyException: side location conflict at -87.624576496994393 41.896975362507106\n",
      " 81%|████████  | 3842/4753 [00:00<00:00, 4997.56it/s]TopologyException: side location conflict at -87.836580878737252 41.986396112425794\n",
      "TopologyException: side location conflict at -87.780022286293374 41.997413553897694\n",
      "100%|██████████| 4753/4753 [00:00<00:00, 5228.90it/s]\n"
     ]
    }
   ],
   "source": [
    "# create neighborhood nodes with property value attributes\n",
    "G = pynx_to_neo4j.create_pynx_nodes(properties_neighborhood_aggregated, node_category='neighborhood', \\\n",
    "                                    attribute_columns=list(properties_neighborhood_aggregated.columns))\n",
    "# create neighborhood nodes with crime attributes\n",
    "G = pynx_to_neo4j.create_pynx_nodes(crime_neighborhood_aggregated,node_category='neighborhood', \\\n",
    "                                    attribute_columns=list(crime_neighborhood_aggregated.columns), \\\n",
    "                                    existing_graph=G)\n",
    "# create neighborhood to neighborhood edges\n",
    "G = pynx_to_neo4j.add_edges_to_pynx(G, \"NEXT_TO\", utilities.intersection, [\"polygon_name_1\", \"polygon_name_2\"], \\\n",
    "                                    \"neighborhood\",bidirectional=True, polygon_dict_1=neighborhoods, \\\n",
    "                                    polygon_dict_2=neighborhoods)\n"
   ]
  },
  {
   "cell_type": "code",
   "execution_count": 6,
   "metadata": {},
   "outputs": [
    {
     "name": "stderr",
     "output_type": "stream",
     "text": [
      "100%|██████████| 801/801 [00:00<00:00, 387099.61it/s]\n",
      "100%|██████████| 2/2 [00:00<00:00, 146.31it/s]\n",
      "  1%|          | 1703/320400 [00:00<00:18, 17029.37it/s]"
     ]
    },
    {
     "name": "stdout",
     "output_type": "stream",
     "text": [
      "creating nodes\n",
      "creating attributes\n",
      "iterating through all possible edge relationships\n"
     ]
    },
    {
     "name": "stderr",
     "output_type": "stream",
     "text": [
      "100%|██████████| 320400/320400 [00:15<00:00, 21126.45it/s]\n"
     ]
    }
   ],
   "source": [
    "# create tract nodes with property value attributes\n",
    "G = pynx_to_neo4j.create_pynx_nodes(properties_tract_aggregated, node_category='tract', \\\n",
    "                                    attribute_columns=list(properties_tract_aggregated.columns), existing_graph=G)\n",
    "# create census tract to census tract edges\n",
    "G = pynx_to_neo4j.add_edges_to_pynx(G, \"NEXT_TO\", utilities.intersection, [\"polygon_name_1\", \"polygon_name_2\"], \\\n",
    "                                    \"tract\", bidirectional=True, polygon_dict_1=tracts, \\\n",
    "                                    polygon_dict_2=tracts)\n",
    "\n",
    "\n",
    "\n"
   ]
  },
  {
   "cell_type": "code",
   "execution_count": 7,
   "metadata": {},
   "outputs": [
    {
     "name": "stderr",
     "output_type": "stream",
     "text": [
      "  4%|▎         | 2807/78498 [00:00<00:06, 12402.91it/s]"
     ]
    },
    {
     "name": "stdout",
     "output_type": "stream",
     "text": [
      "iterating through all possible edge relationships\n"
     ]
    },
    {
     "name": "stderr",
     "output_type": "stream",
     "text": [
      "100%|██████████| 78498/78498 [00:06<00:00, 11524.67it/s]\n",
      "  3%|▎         | 2091/78498 [00:00<00:07, 10264.52it/s]"
     ]
    },
    {
     "name": "stdout",
     "output_type": "stream",
     "text": [
      "iterating through all possible edge relationships\n"
     ]
    },
    {
     "name": "stderr",
     "output_type": "stream",
     "text": [
      "100%|██████████| 78498/78498 [00:06<00:00, 11326.40it/s]\n"
     ]
    }
   ],
   "source": [
    "# create unidirectional edges between census tract and neighborhood\n",
    "G = pynx_to_neo4j.add_edges_to_pynx(G, \"CONTAINS\", utilities.intersection, [\"polygon_name_1\", \"polygon_name_2\"], \\\n",
    "                                    \"neighborhood\", \"tract\", bidirectional=False, polygon_dict_1=neighborhoods, \\\n",
    "                                    polygon_dict_2=tracts)\n",
    "G = pynx_to_neo4j.add_edges_to_pynx(G, \"IS_WITHIN\", utilities.intersection, [\"polygon_name_1\", \"polygon_name_2\"], \\\n",
    "                                    \"tract\", \"neighborhood\", bidirectional=False, polygon_dict_1=tracts, \\\n",
    "                                    polygon_dict_2=neighborhoods)\n",
    "\n",
    "\n"
   ]
  },
  {
   "cell_type": "code",
   "execution_count": 8,
   "metadata": {},
   "outputs": [
    {
     "name": "stderr",
     "output_type": "stream",
     "text": [
      "100%|██████████| 899/899 [00:00<00:00, 106231.28it/s]\n",
      "100%|██████████| 9332/9332 [00:00<00:00, 222832.77it/s]"
     ]
    },
    {
     "name": "stdout",
     "output_type": "stream",
     "text": [
      "creating node queries\n",
      "creating edge queries\n"
     ]
    },
    {
     "name": "stderr",
     "output_type": "stream",
     "text": [
      "\n"
     ]
    }
   ],
   "source": [
    "# convert to neo4j query\n",
    "neo = pynx_to_neo4j.pynx_to_neo4j_queries(G, return_nodes=True, return_edges=True)"
   ]
  },
  {
   "cell_type": "code",
   "execution_count": 12,
   "metadata": {},
   "outputs": [],
   "source": [
    "# save as txt file\n",
    "\n",
    "with open('graph_models/neo.txt', 'w') as neo_text:\n",
    "    for listitem in neo:\n",
    "        neo_text.write('%s\\n' % listitem)"
   ]
  },
  {
   "cell_type": "code",
   "execution_count": null,
   "metadata": {},
   "outputs": [],
   "source": []
  }
 ],
 "metadata": {
  "kernelspec": {
   "display_name": "Python 3",
   "language": "python",
   "name": "python3"
  },
  "language_info": {
   "codemirror_mode": {
    "name": "ipython",
    "version": 3
   },
   "file_extension": ".py",
   "mimetype": "text/x-python",
   "name": "python",
   "nbconvert_exporter": "python",
   "pygments_lexer": "ipython3",
   "version": "3.7.4"
  }
 },
 "nbformat": 4,
 "nbformat_minor": 2
}
