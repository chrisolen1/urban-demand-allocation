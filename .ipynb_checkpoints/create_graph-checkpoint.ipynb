{
 "cells": [
  {
   "cell_type": "code",
   "execution_count": 67,
   "metadata": {},
   "outputs": [],
   "source": [
    "import utilities \n",
    "import networkx as nx\n",
    "import json\n",
    "from itertools import combinations\n",
    "import re"
   ]
  },
  {
   "cell_type": "code",
   "execution_count": 45,
   "metadata": {},
   "outputs": [],
   "source": [
    "# open neighborhoods json file:\n",
    "\n",
    "with open('dicts/neighborhood_polys.json','r') as f:\n",
    "    neighborhoods = json.load(f)\n"
   ]
  },
  {
   "cell_type": "code",
   "execution_count": 46,
   "metadata": {},
   "outputs": [],
   "source": [
    "G = nx.MultiDiGraph()"
   ]
  },
  {
   "cell_type": "code",
   "execution_count": 129,
   "metadata": {},
   "outputs": [],
   "source": [
    "# each neighborhood is a node\n",
    "\n",
    "for i in range(len(list(neighborhoods.keys()))):\n",
    "    G.add_node(list(neighborhoods.keys())[i], neighborhood={})\n",
    "    \n"
   ]
  },
  {
   "cell_type": "code",
   "execution_count": 130,
   "metadata": {},
   "outputs": [
    {
     "name": "stderr",
     "output_type": "stream",
     "text": [
      "TopologyException: side location conflict at -87.836580878737252 41.986396112425794\n",
      "TopologyException: side location conflict at -87.664020791475323 41.947275771403895\n",
      "TopologyException: side location conflict at -87.648784708051664 41.939987536474959\n",
      "TopologyException: side location conflict at -87.624576496994393 41.896975362507106\n",
      "TopologyException: side location conflict at -87.780022286293374 41.997413553897694\n",
      "TopologyException: side location conflict at -87.780022286293374 41.997413553897694\n"
     ]
    }
   ],
   "source": [
    "# 'is_next_to' edge relationship for neighborhood\n",
    "\n",
    "hoods = list(G.nodes())\n",
    "hood_combs = list(combinations(hoods, 2))\n",
    "\n",
    "for i in range(len(hood_combs)):\n",
    "  \n",
    "    if utilities.intersection(neighborhoods, hood_combs[i][0], neighborhoods, hood_combs[i][1]):\n",
    "        G.add_edge(hood_combs[i][0],hood_combs[i][1], NEXT_TO={}) # relationship is...\n",
    "        G.add_edge(hood_combs[i][1],hood_combs[i][0], NEXT_TO={}) # bidirectional\n",
    "            "
   ]
  },
  {
   "cell_type": "code",
   "execution_count": 178,
   "metadata": {},
   "outputs": [
    {
     "data": {
      "text/plain": [
       "{}"
      ]
     },
     "execution_count": 178,
     "metadata": {},
     "output_type": "execute_result"
    }
   ],
   "source": [
    "nodes = list(G.nodes(data=True))\n",
    "str(list(nodes[0][1].values())[0])"
   ]
  },
  {
   "cell_type": "code",
   "execution_count": null,
   "metadata": {},
   "outputs": [],
   "source": []
  },
  {
   "cell_type": "code",
   "execution_count": 183,
   "metadata": {},
   "outputs": [
    {
     "data": {
      "text/plain": [
       "['CREATE (GrandBoulevard:neighborhood {})']"
      ]
     },
     "execution_count": 183,
     "metadata": {},
     "output_type": "execute_result"
    }
   ],
   "source": [
    "[\"CREATE \" + \"(\" + re.sub(r'\\W+','', nodes[0][0]) + \":\" + list(nodes[1][1].keys())[0] + \" \" + str(list(nodes[0][1].values())[0]) + \")\"]\n",
    "\n"
   ]
  },
  {
   "cell_type": "code",
   "execution_count": 184,
   "metadata": {},
   "outputs": [],
   "source": [
    "# convert from networkx format to neo4j (not able to convert node attributes at this point):\n",
    "\n",
    "def nx_to_neo_nodes(graph):\n",
    "    \n",
    "    nx_nodes = list(graph.nodes(data=True))\n",
    "    neo_nodes = [\"CREATE \" + \"(\" + re.sub(r'\\W+','', nx_nodes[i][0]) + \":\" + list(nx_nodes[i][1].keys())[0] + \" \" + str(list(nx_nodes[i][1].values())[0]) + \")\" for i in range(len(nx_nodes))]\n",
    "    \n",
    "    nx_edges = list(G.edges.data())\n",
    "    neo_edges = [\"CREATE \" + \"(\" + re.sub(r'\\W+','',nx_edges[i][0]) + \")\" + \"-[:\" + list(nx_edges[i][2].keys())[0] + \" \" + str(list(nx_edges[i][2].values())[0]) + \"]\" + \"->\" + \"(\" + re.sub(r'\\W+','',nx_edges[i][1]) + \")\" for i in range(len(nx_edges))]\n",
    "    \n",
    "    neo = neo_nodes + neo_edges\n",
    "    \n",
    "    return neo\n",
    "    "
   ]
  },
  {
   "cell_type": "code",
   "execution_count": 185,
   "metadata": {},
   "outputs": [],
   "source": [
    "to_neo = nx_to_neo_nodes(G)"
   ]
  },
  {
   "cell_type": "code",
   "execution_count": 187,
   "metadata": {},
   "outputs": [],
   "source": [
    "# save as txt file\n",
    "\n",
    "with open('neo.txt', 'w') as neo_text:\n",
    "    for listitem in to_neo:\n",
    "        neo_text.write('%s\\n' % listitem)"
   ]
  },
  {
   "cell_type": "code",
   "execution_count": null,
   "metadata": {},
   "outputs": [],
   "source": []
  }
 ],
 "metadata": {
  "kernelspec": {
   "display_name": "Python 3",
   "language": "python",
   "name": "python3"
  },
  "language_info": {
   "codemirror_mode": {
    "name": "ipython",
    "version": 3
   },
   "file_extension": ".py",
   "mimetype": "text/x-python",
   "name": "python",
   "nbconvert_exporter": "python",
   "pygments_lexer": "ipython3",
   "version": "3.7.4"
  }
 },
 "nbformat": 4,
 "nbformat_minor": 2
}
