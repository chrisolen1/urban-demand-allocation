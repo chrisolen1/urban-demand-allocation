{
 "cells": [
  {
   "cell_type": "code",
   "execution_count": 1,
   "metadata": {},
   "outputs": [],
   "source": [
    "import pandas as pd\n",
    "import numpy as np\n",
    "import json\n",
    "\n",
    "import re\n",
    "\n",
    "import utilities \n",
    "\n",
    "import networkx as nx\n",
    "\n",
    "from itertools import combinations, product\n"
   ]
  },
  {
   "cell_type": "code",
   "execution_count": 2,
   "metadata": {},
   "outputs": [],
   "source": [
    "G = nx.MultiDiGraph()"
   ]
  },
  {
   "cell_type": "code",
   "execution_count": 3,
   "metadata": {},
   "outputs": [],
   "source": [
    "# open neighborhoods json file\n",
    "\n",
    "with open('dicts/neighborhood_polys.json','r') as f:\n",
    "    neighborhoods = json.load(f)\n",
    "    \n",
    "properties_neighborhood_aggregated = pd.read_csv('../data/properties_neighborhood_aggregated.csv')\n",
    "\n",
    "crime_neighborhood_aggregated = pd.read_csv('../data/crime_neighborhood_aggregated.csv', header=None)\n",
    "crime_neighborhood_aggregated.rename(columns={0:\"neighborhood\",1:\"crime_type\",2:\"count\"}, inplace=True)\n",
    "property_crime = crime_neighborhood_aggregated[crime_neighborhood_aggregated['crime_type']==\"PROPERTY_CRIME\"]\n",
    "violent_crime = crime_neighborhood_aggregated[crime_neighborhood_aggregated['crime_type']==\"VIOLENT_CRIME\"]"
   ]
  },
  {
   "cell_type": "code",
   "execution_count": 4,
   "metadata": {},
   "outputs": [],
   "source": [
    "# each neighborhood is a node\n",
    "\n",
    "for i in range(len(list(neighborhoods.keys()))):\n",
    "    G.add_node(list(neighborhoods.keys())[i], neighborhood={'name':list(neighborhoods.keys())[i]})\n",
    "    \n",
    "for i in range(len(properties_neighborhood_aggregated)):\n",
    "    G.nodes()[properties_neighborhood_aggregated['neighborhood'].iloc[i]]['neighborhood'].update({\"avg_property_value\":properties_neighborhood_aggregated['unit_zestimate'].iloc[i]})\n",
    "\n",
    "# dealing attributes for which we have no values\n",
    "property_val_not_in = list(set(list(G.nodes())) - set(list(properties_neighborhood_aggregated['neighborhood'])))    \n",
    "    \n",
    "if len(property_val_not_in) > 0:\n",
    "        for i in range(len(property_val_not_in)):\n",
    "            G.nodes()[property_val_not_in[i]]['neighborhood']['avg_property_value'] = str(np.NaN)\n",
    "    \n",
    "for i in range(len(property_crime)):\n",
    "    G.nodes()[property_crime['neighborhood'].iloc[i]]['neighborhood'].update({\"n_property_crimes\":property_crime['count'].iloc[i]})    \n",
    "\n",
    "# dealing attributes for which we have no values\n",
    "property_crime_not_in = list(set(list(G.nodes())) - set(list(property_crime['neighborhood'])))\n",
    "        \n",
    "if len(property_crime_not_in) > 0:\n",
    "        for i in range(len(property_crime_not_in)):\n",
    "            G.nodes()[property_crime_not_in[i]]['neighborhood']['n_property_crimes'] = str(np.NaN)"
   ]
  },
  {
   "cell_type": "code",
   "execution_count": 5,
   "metadata": {},
   "outputs": [
    {
     "name": "stderr",
     "output_type": "stream",
     "text": [
      "TopologyException: side location conflict at -87.836580878737252 41.986396112425794\n",
      "TopologyException: side location conflict at -87.664020791475323 41.947275771403895\n",
      "TopologyException: side location conflict at -87.648784708051664 41.939987536474959\n",
      "TopologyException: side location conflict at -87.624576496994393 41.896975362507106\n",
      "TopologyException: side location conflict at -87.780022286293374 41.997413553897694\n",
      "TopologyException: side location conflict at -87.780022286293374 41.997413553897694\n"
     ]
    }
   ],
   "source": [
    "# 'is_next_to' edge relationship for neighborhood\n",
    "\n",
    "hoods = list(G.nodes())\n",
    "hood_combs = list(combinations(hoods, 2))\n",
    "\n",
    "for i in range(len(hood_combs)):\n",
    "  \n",
    "    if utilities.intersection(neighborhoods, hood_combs[i][0], neighborhoods, hood_combs[i][1]):\n",
    "        G.add_edge(hood_combs[i][0],hood_combs[i][1], NEXT_TO={}) # relationship is...\n",
    "        G.add_edge(hood_combs[i][1],hood_combs[i][0], NEXT_TO={}) # bidirectional\n",
    "            "
   ]
  },
  {
   "cell_type": "code",
   "execution_count": 6,
   "metadata": {},
   "outputs": [],
   "source": [
    "# save to object\n",
    "\n",
    "neo_neighborhoods = utilities.nx_to_neo_nodes(G, return_nodes=True, return_edges=True)"
   ]
  },
  {
   "cell_type": "code",
   "execution_count": 7,
   "metadata": {},
   "outputs": [],
   "source": [
    "# reset the graph\n",
    "\n",
    "G = nx.MultiDiGraph()\n"
   ]
  },
  {
   "cell_type": "code",
   "execution_count": 8,
   "metadata": {},
   "outputs": [],
   "source": [
    "# opening census tracts json file\n",
    "\n",
    "with open('dicts/tract_polys.json','r') as f:\n",
    "    tracts = json.load(f)\n",
    "    \n",
    "properties_tract_aggregated = pd.read_csv('../data/properties_tract_aggregated.csv')\n"
   ]
  },
  {
   "cell_type": "code",
   "execution_count": 9,
   "metadata": {},
   "outputs": [],
   "source": [
    "# each tract is a node\n",
    "\n",
    "for i in range(len(list(tracts.keys()))):\n",
    "    G.add_node(list(tracts.keys())[i], tract={'name':list(tracts.keys())[i]})\n",
    "    \n",
    "for i in range(len(properties_tract_aggregated)):\n",
    "    G.nodes()[properties_tract_aggregated['tracts'].iloc[i]]['tract'].update({\"avg_property_value\":properties_tract_aggregated['unit_zestimate'].iloc[i]})\n",
    "\n",
    "# dealing attributes for which we have no values\n",
    "property_val_not_in = list(set(list(G.nodes())) - set(list(properties_tract_aggregated['tracts'])))\n",
    "\n",
    "if len(property_val_not_in) > 0:\n",
    "        for i in range(len(property_val_not_in)):\n",
    "            G.nodes()[property_val_not_in[i]]['tract']['avg_property_value'] = str(np.NaN)\n"
   ]
  },
  {
   "cell_type": "code",
   "execution_count": 10,
   "metadata": {},
   "outputs": [],
   "source": [
    "# 'is_next_to' edge relationship for tracts\n",
    "\n",
    "tract_names = list(G.nodes())\n",
    "tract_combs = list(combinations(tract_names, 2))\n",
    "\n",
    "for i in range(len(tract_combs)):\n",
    "  \n",
    "    if utilities.intersection(tracts, tract_combs[i][0], tracts, tract_combs[i][1]):\n",
    "        G.add_edge(tract_combs[i][0],tract_combs[i][1], NEXT_TO={}) # relationship is...\n",
    "        G.add_edge(tract_combs[i][1],tract_combs[i][0], NEXT_TO={}) # bidirectional\n",
    "            "
   ]
  },
  {
   "cell_type": "code",
   "execution_count": 11,
   "metadata": {},
   "outputs": [],
   "source": [
    "neo_tracts = utilities.nx_to_neo_nodes(G, return_nodes=True, return_edges=True)"
   ]
  },
  {
   "cell_type": "code",
   "execution_count": 12,
   "metadata": {},
   "outputs": [],
   "source": [
    "# reset the graph\n",
    "\n",
    "G = nx.MultiDiGraph()\n",
    "H = nx.MultiDiGraph()"
   ]
  },
  {
   "cell_type": "code",
   "execution_count": 13,
   "metadata": {},
   "outputs": [],
   "source": [
    "# each neighborhood is a node\n",
    "\n",
    "for i in range(len(list(neighborhoods.keys()))):\n",
    "    G.add_node(list(neighborhoods.keys())[i], neighborhood={'name':list(neighborhoods.keys())[i]})\n",
    "    \n",
    "for i in range(len(properties_neighborhood_aggregated)):\n",
    "    G.nodes()[properties_neighborhood_aggregated['neighborhood'].iloc[i]]['neighborhood'].update({\"avg_property_value\":properties_neighborhood_aggregated['unit_zestimate'].iloc[i]})\n",
    "\n",
    "# dealing attributes for which we have no values    \n",
    "not_in_neighborhoods = list(set(list(G.nodes())) - set(list(properties_neighborhood_aggregated['neighborhood'])))\n",
    "\n",
    "if len(not_in_neighborhoods) > 0:\n",
    "        for i in range(len(not_in_neighborhoods)):\n",
    "            G.nodes()[not_in_neighborhoods[i]]['neighborhood']['avg_property_value'] = str(np.NaN)\n",
    "              \n"
   ]
  },
  {
   "cell_type": "code",
   "execution_count": 14,
   "metadata": {},
   "outputs": [],
   "source": [
    "# each tract is a node\n",
    "\n",
    "for i in range(len(list(tracts.keys()))):\n",
    "    H.add_node(list(tracts.keys())[i], tract={'name':list(tracts.keys())[i]})\n",
    "    \n",
    "for i in range(len(properties_tract_aggregated)):\n",
    "    H.nodes()[properties_tract_aggregated['tracts'].iloc[i]]['tract'].update({\"avg_property_value\":properties_tract_aggregated['unit_zestimate'].iloc[i]})\n",
    "\n",
    "\n",
    "# dealing attributes for which we have no values    \n",
    "not_in_tracts = list(set(list(H.nodes())) - set(list(properties_tract_aggregated['tracts'])))\n",
    "\n",
    "if len(not_in_tracts) > 0:\n",
    "        for i in range(len(not_in_tracts)):\n",
    "            H.nodes()[not_in_tracts[i]]['tract']['avg_property_value'] = str(np.NaN)\n",
    "\n",
    "# add resulting H graph nodes to G graph\n",
    "\n",
    "G.add_nodes_from(H.nodes(data=True))\n"
   ]
  },
  {
   "cell_type": "code",
   "execution_count": 15,
   "metadata": {},
   "outputs": [],
   "source": [
    "# 'is_within' and 'contains' edge relationship for tract -> neighborhood\n",
    "\n",
    "hood_names = list(neighborhoods.keys())  \n",
    "hood_names = list(set(hood_names) - set(not_in_neighborhoods))\n",
    "tract_names = list(tracts.keys())\n",
    "tract_names = list(set(tract_names) - set(not_in_tracts))\n",
    "\n",
    "combs = list(product(hood_names, tract_names))\n",
    "\n",
    "for i in range(len(combs)):\n",
    "  \n",
    "    if utilities.intersection(neighborhoods, combs[i][0], tracts, combs[i][1]):\n",
    "        G.add_edge(combs[i][0],combs[i][1], CONTAINS={}) # relationship is...\n",
    "        G.add_edge(combs[i][1],combs[i][0], IS_WITHIN={}) # bidirectional\n",
    "            "
   ]
  },
  {
   "cell_type": "code",
   "execution_count": 16,
   "metadata": {},
   "outputs": [],
   "source": [
    "neo_contain_relationships = utilities.nx_to_neo_nodes(G, return_nodes=False, return_edges=True)"
   ]
  },
  {
   "cell_type": "code",
   "execution_count": 17,
   "metadata": {},
   "outputs": [],
   "source": [
    "to_neo = neo_neighborhoods + neo_tracts + neo_contain_relationships\n"
   ]
  },
  {
   "cell_type": "code",
   "execution_count": 18,
   "metadata": {},
   "outputs": [],
   "source": [
    "# save as txt file\n",
    "\n",
    "with open('neo.txt', 'w') as neo_text:\n",
    "    for listitem in to_neo:\n",
    "        neo_text.write('%s\\n' % listitem)"
   ]
  },
  {
   "cell_type": "code",
   "execution_count": null,
   "metadata": {},
   "outputs": [],
   "source": [
    " "
   ]
  },
  {
   "cell_type": "code",
   "execution_count": null,
   "metadata": {},
   "outputs": [],
   "source": []
  },
  {
   "cell_type": "code",
   "execution_count": null,
   "metadata": {},
   "outputs": [],
   "source": []
  }
 ],
 "metadata": {
  "kernelspec": {
   "display_name": "Python 3",
   "language": "python",
   "name": "python3"
  },
  "language_info": {
   "codemirror_mode": {
    "name": "ipython",
    "version": 3
   },
   "file_extension": ".py",
   "mimetype": "text/x-python",
   "name": "python",
   "nbconvert_exporter": "python",
   "pygments_lexer": "ipython3",
   "version": "3.7.4"
  }
 },
 "nbformat": 4,
 "nbformat_minor": 2
}
