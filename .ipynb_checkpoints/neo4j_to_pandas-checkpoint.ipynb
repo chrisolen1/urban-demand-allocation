{
 "cells": [
  {
   "cell_type": "code",
   "execution_count": 93,
   "metadata": {},
   "outputs": [],
   "source": [
    "from neo4j import GraphDatabase\n",
    "\n",
    "uri = \"bolt://localhost:7687\"\n",
    "uri = \"bolt://localhost:7687\"\n",
    "userName = \"neo4j\"\n",
    "password = \"password\"\n",
    "db_driver = GraphDatabase.driver(uri, auth=(userName, password))\n",
    "query = \"match (a:neighborhood)-[:NEXT_TO]->(b) where a.name = 'Printers Row' return a,b\"\n",
    "\n",
    "with db_driver.session() as db_session:\n",
    "    result = list(db_session.run(query))\n",
    "   \n",
    "    \n",
    "    "
   ]
  },
  {
   "cell_type": "code",
   "execution_count": 99,
   "metadata": {},
   "outputs": [
    {
     "data": {
      "text/plain": [
       "[<Record a=<Node id=124 labels={'neighborhood'} properties={'name': 'Printers Row'}> b=<Node id=457 labels={'neighborhood'} properties={'name': 'Near South Side'}>>,\n",
       " <Record a=<Node id=124 labels={'neighborhood'} properties={'name': 'Printers Row'}> b=<Node id=409 labels={'neighborhood'} properties={'name': 'Loop'}>>]"
      ]
     },
     "execution_count": 99,
     "metadata": {},
     "output_type": "execute_result"
    }
   ],
   "source": [
    "result"
   ]
  },
  {
   "cell_type": "code",
   "execution_count": 100,
   "metadata": {},
   "outputs": [],
   "source": [
    "from py2neo import Graph\n",
    "import pandas as pd\n",
    "\n",
    "graph = Graph(uri, auth=(\"neo4j\", \"password\"))\n",
    "result = graph.run(\"match (a:neighborhood)-[:NEXT_TO]->(b) where a.name = 'Printers Row' return a,b\").to_table()\n",
    "df = pd.DataFrame(result)"
   ]
  },
  {
   "cell_type": "code",
   "execution_count": 101,
   "metadata": {},
   "outputs": [
    {
     "data": {
      "text/html": [
       "<div>\n",
       "<style scoped>\n",
       "    .dataframe tbody tr th:only-of-type {\n",
       "        vertical-align: middle;\n",
       "    }\n",
       "\n",
       "    .dataframe tbody tr th {\n",
       "        vertical-align: top;\n",
       "    }\n",
       "\n",
       "    .dataframe thead th {\n",
       "        text-align: right;\n",
       "    }\n",
       "</style>\n",
       "<table border=\"1\" class=\"dataframe\">\n",
       "  <thead>\n",
       "    <tr style=\"text-align: right;\">\n",
       "      <th></th>\n",
       "      <th>0</th>\n",
       "      <th>1</th>\n",
       "    </tr>\n",
       "  </thead>\n",
       "  <tbody>\n",
       "    <tr>\n",
       "      <td>0</td>\n",
       "      <td>{'name': 'Printers Row'}</td>\n",
       "      <td>{'name': 'Near South Side'}</td>\n",
       "    </tr>\n",
       "    <tr>\n",
       "      <td>1</td>\n",
       "      <td>{'name': 'Printers Row'}</td>\n",
       "      <td>{'name': 'Loop'}</td>\n",
       "    </tr>\n",
       "  </tbody>\n",
       "</table>\n",
       "</div>"
      ],
      "text/plain": [
       "                          0                            1\n",
       "0  {'name': 'Printers Row'}  {'name': 'Near South Side'}\n",
       "1  {'name': 'Printers Row'}             {'name': 'Loop'}"
      ]
     },
     "execution_count": 101,
     "metadata": {},
     "output_type": "execute_result"
    }
   ],
   "source": [
    "df"
   ]
  },
  {
   "cell_type": "code",
   "execution_count": 74,
   "metadata": {},
   "outputs": [],
   "source": []
  },
  {
   "cell_type": "code",
   "execution_count": 68,
   "metadata": {},
   "outputs": [],
   "source": []
  },
  {
   "cell_type": "code",
   "execution_count": null,
   "metadata": {},
   "outputs": [],
   "source": []
  }
 ],
 "metadata": {
  "kernelspec": {
   "display_name": "Python 3",
   "language": "python",
   "name": "python3"
  },
  "language_info": {
   "codemirror_mode": {
    "name": "ipython",
    "version": 3
   },
   "file_extension": ".py",
   "mimetype": "text/x-python",
   "name": "python",
   "nbconvert_exporter": "python",
   "pygments_lexer": "ipython3",
   "version": "3.7.4"
  }
 },
 "nbformat": 4,
 "nbformat_minor": 2
}
