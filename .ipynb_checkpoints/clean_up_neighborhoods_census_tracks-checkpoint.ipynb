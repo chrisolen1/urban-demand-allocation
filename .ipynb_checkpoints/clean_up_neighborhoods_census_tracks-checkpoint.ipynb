{
 "cells": [
  {
   "cell_type": "code",
   "execution_count": 2,
   "metadata": {},
   "outputs": [],
   "source": [
    "import pandas as pd\n",
    "import numpy as np\n",
    "\n",
    "import json\n",
    "\n",
    "import utilities"
   ]
  },
  {
   "cell_type": "code",
   "execution_count": 55,
   "metadata": {},
   "outputs": [],
   "source": [
    "# residential \n",
    "\n",
    "properties = pd.read_csv('../data/residential.csv')"
   ]
  },
  {
   "cell_type": "code",
   "execution_count": null,
   "metadata": {},
   "outputs": [],
   "source": [
    "properties.drop(['neighborhood'], axis=1, inplace=True)"
   ]
  },
  {
   "cell_type": "code",
   "execution_count": null,
   "metadata": {},
   "outputs": [],
   "source": [
    "with open('dicts/neighborhood_polys.json','r') as f:\n",
    "    neighborhoods = json.load(f)\n",
    "    \n",
    "with open('dicts/tract_polys.json','r') as f:\n",
    "    tracts = json.load(f)"
   ]
  },
  {
   "cell_type": "code",
   "execution_count": null,
   "metadata": {},
   "outputs": [],
   "source": [
    "positions = list(zip(properties.longitude, properties.latitude))\n",
    "\n",
    "n = [utilities.point_lookup(neighborhoods, positions[i]) for i in range(len(properties))]\n",
    "t = [utilities.point_lookup(tracts, positions[i]) for i in range(len(properties))]"
   ]
  },
  {
   "cell_type": "code",
   "execution_count": 57,
   "metadata": {},
   "outputs": [],
   "source": [
    "properties['neighborhood'] = np.nan\n",
    "properties['tracts'] = np.nan\n",
    "\n",
    "properties['neighborhood'] = np.array(n)\n",
    "properties['tracts'] = np.array(t)\n"
   ]
  },
  {
   "cell_type": "code",
   "execution_count": 63,
   "metadata": {},
   "outputs": [],
   "source": [
    "properties.to_csv('../data/residential_w_tract_and_neighborhoods.csv')"
   ]
  },
  {
   "cell_type": "code",
   "execution_count": 3,
   "metadata": {},
   "outputs": [],
   "source": [
    "# crime\n",
    "\n",
    "crime = pd.read_csv('../data/crime.csv')"
   ]
  },
  {
   "cell_type": "code",
   "execution_count": 8,
   "metadata": {},
   "outputs": [],
   "source": [
    "with open('dicts/neighborhood_polys.json','r') as f:\n",
    "    neighborhoods = json.load(f)\n",
    "    \n",
    "with open('dicts/tract_polys.json','r') as f:\n",
    "    tracts = json.load(f)"
   ]
  },
  {
   "cell_type": "code",
   "execution_count": null,
   "metadata": {},
   "outputs": [],
   "source": [
    "positions = list(zip(crime.longitude, crime.latitude))\n",
    "\n",
    "n = [utilities.point_lookup(neighborhoods, positions[i]) for i in range(len(crime))]\n",
    "t = [utilities.point_lookup(tracts, positions[i]) for i in range(len(crime))]"
   ]
  },
  {
   "cell_type": "code",
   "execution_count": 7,
   "metadata": {},
   "outputs": [
    {
     "data": {
      "text/plain": [
       "array([67., 74., 71., 31., 25.,  5., 23.,  6.,  3., 69., 19.,  1., 44.,\n",
       "       73.,  8., 66., 28., 29., 16., 70., 15., 30., 63., 43., 76., 51.,\n",
       "       22., 68., 65., 32., 64.,  7., 46., 61., 13.,  9., 49., 33., 27.,\n",
       "       56.,  2., 62., 72., 12., 26., 14., 52., 42., 60., 54., 24., 53.,\n",
       "       20.,  4., 34., 59., 50., 75., 58., 35., 45., 38., 40., 48., 17.,\n",
       "       39., 10., 21., 77., 11., 37., 57., 18., 41., 36., 47., 55., nan,\n",
       "        0.])"
      ]
     },
     "execution_count": 7,
     "metadata": {},
     "output_type": "execute_result"
    }
   ],
   "source": [
    "crime['neighborhood'] = np.nan\n",
    "crime['tracts'] = np.nan\n",
    "\n",
    "crime['neighborhood'] = np.array(n)\n",
    "crime['tracts'] = np.array(t)\n"
   ]
  },
  {
   "cell_type": "code",
   "execution_count": null,
   "metadata": {},
   "outputs": [],
   "source": [
    "crime.to_csv('../data/crime_w_tract_and_neighborhoods.csv')"
   ]
  }
 ],
 "metadata": {
  "kernelspec": {
   "display_name": "Python 3",
   "language": "python",
   "name": "python3"
  },
  "language_info": {
   "codemirror_mode": {
    "name": "ipython",
    "version": 3
   },
   "file_extension": ".py",
   "mimetype": "text/x-python",
   "name": "python",
   "nbconvert_exporter": "python",
   "pygments_lexer": "ipython3",
   "version": "3.7.4"
  }
 },
 "nbformat": 4,
 "nbformat_minor": 2
}
