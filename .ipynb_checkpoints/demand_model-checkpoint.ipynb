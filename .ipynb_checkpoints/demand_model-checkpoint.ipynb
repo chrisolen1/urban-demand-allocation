{
 "cells": [
  {
   "cell_type": "code",
   "execution_count": 225,
   "metadata": {},
   "outputs": [],
   "source": [
    "import pandas as pd"
   ]
  },
  {
   "cell_type": "code",
   "execution_count": 226,
   "metadata": {},
   "outputs": [],
   "source": [
    "cols = ['year',\n",
    " 'abi',\n",
    " 'ticker',\n",
    " 'company',\n",
    " 'address_line_1',\n",
    " 'city',\n",
    " 'zipcode',\n",
    " 'location_employee_size_code',\n",
    " 'location_sales_volume_code',\n",
    " 'primary_naics_code',\n",
    " 'sic_code',\n",
    " 'sic6_descriptions_sic',\n",
    " 'business_status_code',\n",
    " 'office_size_code',\n",
    " 'company_holding_status',\n",
    " 'parent_employee_size_code',\n",
    " 'parent_sales_volume_code',\n",
    " 'census_tract',\n",
    " 'cbsa_code',\n",
    " 'year_established',\n",
    " 'employee_size_location',\n",
    " 'sales_volume_location',\n",
    " 'parent_actual_employee_size',\n",
    " 'parent_actual_sales_volume',\n",
    " 'latitude',\n",
    " 'longitude']\n",
    "\n",
    "bus = pd.read_csv(\"../data/chi_bus.csv\", sep='\\t', names=cols)"
   ]
  },
  {
   "cell_type": "code",
   "execution_count": 227,
   "metadata": {},
   "outputs": [
    {
     "data": {
      "text/plain": [
       "(1144876, 26)"
      ]
     },
     "execution_count": 227,
     "metadata": {},
     "output_type": "execute_result"
    }
   ],
   "source": [
    "bus.shape"
   ]
  },
  {
   "cell_type": "code",
   "execution_count": 228,
   "metadata": {},
   "outputs": [],
   "source": [
    "# filtering for useful features\n",
    "\n",
    "bus = bus[['abi','primary_naics_code','company','year','business_status_code','company_holding_status','census_tract','year_established',\n",
    "    'employee_size_location','sales_volume_location','parent_actual_employee_size','parent_actual_sales_volume',\n",
    "    'latitude','longitude']]"
   ]
  },
  {
   "cell_type": "code",
   "execution_count": 229,
   "metadata": {},
   "outputs": [
    {
     "data": {
      "text/plain": [
       "9    1034553\n",
       "2     101871\n",
       "3       4241\n",
       "1       4211\n",
       "Name: business_status_code, dtype: int64"
      ]
     },
     "execution_count": 229,
     "metadata": {},
     "output_type": "execute_result"
    }
   ],
   "source": [
    "# understanding business status code\n",
    "\n",
    "\"\"\"\n",
    "Business Status Code:\n",
    "\n",
    "1: Headquarter\n",
    "2: Branch\n",
    "3: Subsidiary\n",
    "9: Single Location\n",
    "\n",
    "\"\"\"\n",
    "\n",
    "bus['business_status_code'].value_counts()"
   ]
  },
  {
   "cell_type": "code",
   "execution_count": 230,
   "metadata": {},
   "outputs": [
    {
     "data": {
      "text/plain": [
       "True     1043225\n",
       "False     101651\n",
       "Name: parent_actual_employee_size, dtype: int64"
      ]
     },
     "execution_count": 230,
     "metadata": {},
     "output_type": "execute_result"
    }
   ],
   "source": [
    "# under standing parent company data\n",
    "\n",
    "\"\"\"\n",
    "\n",
    "Info on parent company: Tracts pretty closely with number of companies IDed as branches\n",
    "\n",
    "\"\"\"\n",
    "\n",
    "bus['parent_actual_employee_size'].isna().value_counts()"
   ]
  },
  {
   "cell_type": "code",
   "execution_count": 231,
   "metadata": {},
   "outputs": [
    {
     "data": {
      "text/plain": [
       "True     1144164\n",
       "False        712\n",
       "Name: company_holding_status, dtype: int64"
      ]
     },
     "execution_count": 231,
     "metadata": {},
     "output_type": "execute_result"
    }
   ],
   "source": [
    "# understanding business status holding\n",
    "\n",
    "\"\"\"\n",
    "Business Status Holding:\n",
    "\n",
    "I'm gonna assume the 712 are publicly traded and the others aren't?\n",
    "\n",
    "\"\"\"\n",
    "\n",
    "bus['company_holding_status'].isna().value_counts()"
   ]
  },
  {
   "cell_type": "code",
   "execution_count": 232,
   "metadata": {},
   "outputs": [
    {
     "data": {
      "text/plain": [
       "True     1144164\n",
       "False        712\n",
       "Name: company_holding_status, dtype: int64"
      ]
     },
     "execution_count": 232,
     "metadata": {},
     "output_type": "execute_result"
    }
   ],
   "source": [
    "# understanding company holding status\n",
    "\n",
    "bus['company_holding_status'].isna().value_counts()"
   ]
  },
  {
   "cell_type": "code",
   "execution_count": 233,
   "metadata": {},
   "outputs": [
    {
     "data": {
      "text/plain": [
       "False    1143647\n",
       "True        1229\n",
       "Name: primary_naics_code, dtype: int64"
      ]
     },
     "execution_count": 233,
     "metadata": {},
     "output_type": "execute_result"
    }
   ],
   "source": [
    "bus['primary_naics_code'].isna().value_counts()"
   ]
  },
  {
   "cell_type": "code",
   "execution_count": 234,
   "metadata": {},
   "outputs": [],
   "source": [
    "# remove naics code nulls and convert to string\n",
    "\n",
    "bus = bus[~bus['primary_naics_code'].isna()]\n",
    "bus['primary_naics_code'] = (bus['primary_naics_code'].astype(int)).astype(str)"
   ]
  },
  {
   "cell_type": "code",
   "execution_count": 235,
   "metadata": {},
   "outputs": [],
   "source": [
    "# filtering for naics codes\n",
    "\n",
    "\"\"\"\n",
    "\n",
    "NAICS CODE 445110: Supermarkets and Other Grocery (except Convenience)\n",
    "NAICS CODE 447110: Gasoline Stations with Convenience Stores\n",
    "NAICS CODE 445120: Convenience Stores\n",
    "\n",
    "\"\"\"\n",
    "\n",
    "groc = bus[(bus['primary_naics_code'].str.contains('445110')) | (bus['primary_naics_code'].str.contains('447110')) | (bus['primary_naics_code'].str.contains('445120'))]\n"
   ]
  },
  {
   "cell_type": "code",
   "execution_count": 236,
   "metadata": {},
   "outputs": [
    {
     "data": {
      "text/plain": [
       "(14851, 14)"
      ]
     },
     "execution_count": 236,
     "metadata": {},
     "output_type": "execute_result"
    }
   ],
   "source": [
    "groc.shape"
   ]
  },
  {
   "cell_type": "code",
   "execution_count": 237,
   "metadata": {},
   "outputs": [
    {
     "data": {
      "text/plain": [
       "2013    1985\n",
       "2014    1808\n",
       "2012    1706\n",
       "2015    1623\n",
       "2009    1602\n",
       "2010    1591\n",
       "2011    1575\n",
       "2016    1391\n",
       "2017    1187\n",
       "2018     383\n",
       "Name: year, dtype: int64"
      ]
     },
     "execution_count": 237,
     "metadata": {},
     "output_type": "execute_result"
    }
   ],
   "source": [
    "# understanding year distribution \n",
    "\n",
    "groc['year'].value_counts()"
   ]
  },
  {
   "cell_type": "code",
   "execution_count": 238,
   "metadata": {},
   "outputs": [],
   "source": [
    "# filtering for 2016 and 2017\n",
    "\n",
    "groc_2016 = groc[groc['year']==2016]\n",
    "groc_2017 = groc[groc['year']==2017]"
   ]
  },
  {
   "cell_type": "code",
   "execution_count": 239,
   "metadata": {},
   "outputs": [],
   "source": [
    "demand = pd.merge(left=groc_2017, right=groc_2016, left_on='abi', right_on='abi')"
   ]
  },
  {
   "cell_type": "code",
   "execution_count": 240,
   "metadata": {},
   "outputs": [
    {
     "data": {
      "text/plain": [
       "(1112, 27)"
      ]
     },
     "execution_count": 240,
     "metadata": {},
     "output_type": "execute_result"
    }
   ],
   "source": [
    "demand.shape"
   ]
  },
  {
   "cell_type": "code",
   "execution_count": 241,
   "metadata": {},
   "outputs": [],
   "source": [
    "demand.drop(['primary_naics_code_y','company_y','year_y','business_status_code_y',\n",
    "            'company_holding_status_y','census_tract_y','year_established_y',\n",
    "            'company_y','year_y','business_status_code_y',\n",
    "            'parent_actual_employee_size_y','parent_actual_sales_volume_y',\n",
    "            'latitude_y','longitude_y'], inplace=True, axis=1)\n",
    "\n",
    "cols = [demand.columns[i].replace(\"_x\",\"_2017\").replace(\"_y\",\"_2016\") for i in range(len(demand.columns))]\n",
    "replacing = {i:j for (i,j) in zip(demand.columns,cols)}\n",
    "demand.rename(columns=replacing, inplace=True)"
   ]
  },
  {
   "cell_type": "code",
   "execution_count": 242,
   "metadata": {},
   "outputs": [
    {
     "data": {
      "text/html": [
       "<div>\n",
       "<style scoped>\n",
       "    .dataframe tbody tr th:only-of-type {\n",
       "        vertical-align: middle;\n",
       "    }\n",
       "\n",
       "    .dataframe tbody tr th {\n",
       "        vertical-align: top;\n",
       "    }\n",
       "\n",
       "    .dataframe thead th {\n",
       "        text-align: right;\n",
       "    }\n",
       "</style>\n",
       "<table border=\"1\" class=\"dataframe\">\n",
       "  <thead>\n",
       "    <tr style=\"text-align: right;\">\n",
       "      <th></th>\n",
       "      <th>abi</th>\n",
       "      <th>primary_naics_code_2017</th>\n",
       "      <th>company_2017</th>\n",
       "      <th>year_2017</th>\n",
       "      <th>business_status_code_2017</th>\n",
       "      <th>company_holding_status_2017</th>\n",
       "      <th>census_tract_2017</th>\n",
       "      <th>year_established_2017</th>\n",
       "      <th>employee_size_location_2017</th>\n",
       "      <th>sales_volume_location_2017</th>\n",
       "      <th>parent_actual_employee_size_2017</th>\n",
       "      <th>parent_actual_sales_volume_2017</th>\n",
       "      <th>latitude_2017</th>\n",
       "      <th>longitude_2017</th>\n",
       "      <th>employee_size_location_2016</th>\n",
       "      <th>sales_volume_location_2016</th>\n",
       "    </tr>\n",
       "  </thead>\n",
       "  <tbody>\n",
       "    <tr>\n",
       "      <td>0</td>\n",
       "      <td>150832897</td>\n",
       "      <td>44511003</td>\n",
       "      <td>BOCKWINKEL'S</td>\n",
       "      <td>2017</td>\n",
       "      <td>9</td>\n",
       "      <td>NaN</td>\n",
       "      <td>320100</td>\n",
       "      <td>NaN</td>\n",
       "      <td>7.0</td>\n",
       "      <td>1789.0</td>\n",
       "      <td>NaN</td>\n",
       "      <td>NaN</td>\n",
       "      <td>41.88488</td>\n",
       "      <td>-87.61501</td>\n",
       "      <td>7.0</td>\n",
       "      <td>1858.0</td>\n",
       "    </tr>\n",
       "    <tr>\n",
       "      <td>1</td>\n",
       "      <td>151026986</td>\n",
       "      <td>44511003</td>\n",
       "      <td>Y H PROVISION</td>\n",
       "      <td>2017</td>\n",
       "      <td>9</td>\n",
       "      <td>NaN</td>\n",
       "      <td>833000</td>\n",
       "      <td>NaN</td>\n",
       "      <td>20.0</td>\n",
       "      <td>5111.0</td>\n",
       "      <td>NaN</td>\n",
       "      <td>NaN</td>\n",
       "      <td>41.88456</td>\n",
       "      <td>-87.65530</td>\n",
       "      <td>20.0</td>\n",
       "      <td>5310.0</td>\n",
       "    </tr>\n",
       "    <tr>\n",
       "      <td>2</td>\n",
       "      <td>151036118</td>\n",
       "      <td>44511003</td>\n",
       "      <td>GUZMAN GROCERY</td>\n",
       "      <td>2017</td>\n",
       "      <td>9</td>\n",
       "      <td>NaN</td>\n",
       "      <td>841200</td>\n",
       "      <td>NaN</td>\n",
       "      <td>3.0</td>\n",
       "      <td>767.0</td>\n",
       "      <td>NaN</td>\n",
       "      <td>NaN</td>\n",
       "      <td>41.85565</td>\n",
       "      <td>-87.68117</td>\n",
       "      <td>3.0</td>\n",
       "      <td>796.0</td>\n",
       "    </tr>\n",
       "    <tr>\n",
       "      <td>3</td>\n",
       "      <td>151053519</td>\n",
       "      <td>44511006</td>\n",
       "      <td>DANIELSON FOOD PRODUCTS</td>\n",
       "      <td>2017</td>\n",
       "      <td>9</td>\n",
       "      <td>NaN</td>\n",
       "      <td>835500</td>\n",
       "      <td>1939.0</td>\n",
       "      <td>20.0</td>\n",
       "      <td>5111.0</td>\n",
       "      <td>NaN</td>\n",
       "      <td>NaN</td>\n",
       "      <td>41.81885</td>\n",
       "      <td>-87.63207</td>\n",
       "      <td>20.0</td>\n",
       "      <td>5310.0</td>\n",
       "    </tr>\n",
       "    <tr>\n",
       "      <td>4</td>\n",
       "      <td>151054939</td>\n",
       "      <td>44511003</td>\n",
       "      <td>EL GUERO</td>\n",
       "      <td>2017</td>\n",
       "      <td>9</td>\n",
       "      <td>NaN</td>\n",
       "      <td>841300</td>\n",
       "      <td>1976.0</td>\n",
       "      <td>50.0</td>\n",
       "      <td>12778.0</td>\n",
       "      <td>NaN</td>\n",
       "      <td>NaN</td>\n",
       "      <td>41.85195</td>\n",
       "      <td>-87.67891</td>\n",
       "      <td>50.0</td>\n",
       "      <td>13276.0</td>\n",
       "    </tr>\n",
       "    <tr>\n",
       "      <td>...</td>\n",
       "      <td>...</td>\n",
       "      <td>...</td>\n",
       "      <td>...</td>\n",
       "      <td>...</td>\n",
       "      <td>...</td>\n",
       "      <td>...</td>\n",
       "      <td>...</td>\n",
       "      <td>...</td>\n",
       "      <td>...</td>\n",
       "      <td>...</td>\n",
       "      <td>...</td>\n",
       "      <td>...</td>\n",
       "      <td>...</td>\n",
       "      <td>...</td>\n",
       "      <td>...</td>\n",
       "      <td>...</td>\n",
       "    </tr>\n",
       "    <tr>\n",
       "      <td>1107</td>\n",
       "      <td>402005936</td>\n",
       "      <td>44511003</td>\n",
       "      <td>SUN FRESH MARKET &amp; DELI</td>\n",
       "      <td>2017</td>\n",
       "      <td>2</td>\n",
       "      <td>NaN</td>\n",
       "      <td>150600</td>\n",
       "      <td>NaN</td>\n",
       "      <td>10.0</td>\n",
       "      <td>2556.0</td>\n",
       "      <td>1900.0</td>\n",
       "      <td>5100000.0</td>\n",
       "      <td>41.94710</td>\n",
       "      <td>-87.76715</td>\n",
       "      <td>10.0</td>\n",
       "      <td>2655.0</td>\n",
       "    </tr>\n",
       "    <tr>\n",
       "      <td>1108</td>\n",
       "      <td>151602547</td>\n",
       "      <td>44512001</td>\n",
       "      <td>STOP-N-GO</td>\n",
       "      <td>2017</td>\n",
       "      <td>2</td>\n",
       "      <td>NaN</td>\n",
       "      <td>750600</td>\n",
       "      <td>NaN</td>\n",
       "      <td>3.0</td>\n",
       "      <td>767.0</td>\n",
       "      <td>25.0</td>\n",
       "      <td>34600.0</td>\n",
       "      <td>41.68977</td>\n",
       "      <td>-87.66263</td>\n",
       "      <td>3.0</td>\n",
       "      <td>796.0</td>\n",
       "    </tr>\n",
       "    <tr>\n",
       "      <td>1109</td>\n",
       "      <td>611130287</td>\n",
       "      <td>44512001</td>\n",
       "      <td>TRUENORTH ENERGY</td>\n",
       "      <td>2017</td>\n",
       "      <td>2</td>\n",
       "      <td>NaN</td>\n",
       "      <td>120300</td>\n",
       "      <td>NaN</td>\n",
       "      <td>7.0</td>\n",
       "      <td>1789.0</td>\n",
       "      <td>20.0</td>\n",
       "      <td>992781.0</td>\n",
       "      <td>41.95363</td>\n",
       "      <td>-87.72771</td>\n",
       "      <td>7.0</td>\n",
       "      <td>1858.0</td>\n",
       "    </tr>\n",
       "    <tr>\n",
       "      <td>1110</td>\n",
       "      <td>458531563</td>\n",
       "      <td>44512001</td>\n",
       "      <td>SPEEDWAY</td>\n",
       "      <td>2017</td>\n",
       "      <td>2</td>\n",
       "      <td>NaN</td>\n",
       "      <td>841300</td>\n",
       "      <td>NaN</td>\n",
       "      <td>11.0</td>\n",
       "      <td>2812.0</td>\n",
       "      <td>1800.0</td>\n",
       "      <td>63364000.0</td>\n",
       "      <td>41.84973</td>\n",
       "      <td>-87.68519</td>\n",
       "      <td>11.0</td>\n",
       "      <td>2920.0</td>\n",
       "    </tr>\n",
       "    <tr>\n",
       "      <td>1111</td>\n",
       "      <td>641190574</td>\n",
       "      <td>44512001</td>\n",
       "      <td>SPEEDWAY</td>\n",
       "      <td>2017</td>\n",
       "      <td>2</td>\n",
       "      <td>NaN</td>\n",
       "      <td>230300</td>\n",
       "      <td>NaN</td>\n",
       "      <td>13.0</td>\n",
       "      <td>3323.0</td>\n",
       "      <td>1800.0</td>\n",
       "      <td>63364000.0</td>\n",
       "      <td>41.91032</td>\n",
       "      <td>-87.71620</td>\n",
       "      <td>13.0</td>\n",
       "      <td>3451.0</td>\n",
       "    </tr>\n",
       "  </tbody>\n",
       "</table>\n",
       "<p>1112 rows × 16 columns</p>\n",
       "</div>"
      ],
      "text/plain": [
       "            abi primary_naics_code_2017             company_2017  year_2017  \\\n",
       "0     150832897                44511003             BOCKWINKEL'S       2017   \n",
       "1     151026986                44511003            Y H PROVISION       2017   \n",
       "2     151036118                44511003           GUZMAN GROCERY       2017   \n",
       "3     151053519                44511006  DANIELSON FOOD PRODUCTS       2017   \n",
       "4     151054939                44511003                 EL GUERO       2017   \n",
       "...         ...                     ...                      ...        ...   \n",
       "1107  402005936                44511003  SUN FRESH MARKET & DELI       2017   \n",
       "1108  151602547                44512001                STOP-N-GO       2017   \n",
       "1109  611130287                44512001         TRUENORTH ENERGY       2017   \n",
       "1110  458531563                44512001                 SPEEDWAY       2017   \n",
       "1111  641190574                44512001                 SPEEDWAY       2017   \n",
       "\n",
       "      business_status_code_2017  company_holding_status_2017  \\\n",
       "0                             9                          NaN   \n",
       "1                             9                          NaN   \n",
       "2                             9                          NaN   \n",
       "3                             9                          NaN   \n",
       "4                             9                          NaN   \n",
       "...                         ...                          ...   \n",
       "1107                          2                          NaN   \n",
       "1108                          2                          NaN   \n",
       "1109                          2                          NaN   \n",
       "1110                          2                          NaN   \n",
       "1111                          2                          NaN   \n",
       "\n",
       "      census_tract_2017  year_established_2017  employee_size_location_2017  \\\n",
       "0                320100                    NaN                          7.0   \n",
       "1                833000                    NaN                         20.0   \n",
       "2                841200                    NaN                          3.0   \n",
       "3                835500                 1939.0                         20.0   \n",
       "4                841300                 1976.0                         50.0   \n",
       "...                 ...                    ...                          ...   \n",
       "1107             150600                    NaN                         10.0   \n",
       "1108             750600                    NaN                          3.0   \n",
       "1109             120300                    NaN                          7.0   \n",
       "1110             841300                    NaN                         11.0   \n",
       "1111             230300                    NaN                         13.0   \n",
       "\n",
       "      sales_volume_location_2017  parent_actual_employee_size_2017  \\\n",
       "0                         1789.0                               NaN   \n",
       "1                         5111.0                               NaN   \n",
       "2                          767.0                               NaN   \n",
       "3                         5111.0                               NaN   \n",
       "4                        12778.0                               NaN   \n",
       "...                          ...                               ...   \n",
       "1107                      2556.0                            1900.0   \n",
       "1108                       767.0                              25.0   \n",
       "1109                      1789.0                              20.0   \n",
       "1110                      2812.0                            1800.0   \n",
       "1111                      3323.0                            1800.0   \n",
       "\n",
       "      parent_actual_sales_volume_2017  latitude_2017  longitude_2017  \\\n",
       "0                                 NaN       41.88488       -87.61501   \n",
       "1                                 NaN       41.88456       -87.65530   \n",
       "2                                 NaN       41.85565       -87.68117   \n",
       "3                                 NaN       41.81885       -87.63207   \n",
       "4                                 NaN       41.85195       -87.67891   \n",
       "...                               ...            ...             ...   \n",
       "1107                        5100000.0       41.94710       -87.76715   \n",
       "1108                          34600.0       41.68977       -87.66263   \n",
       "1109                         992781.0       41.95363       -87.72771   \n",
       "1110                       63364000.0       41.84973       -87.68519   \n",
       "1111                       63364000.0       41.91032       -87.71620   \n",
       "\n",
       "      employee_size_location_2016  sales_volume_location_2016  \n",
       "0                             7.0                      1858.0  \n",
       "1                            20.0                      5310.0  \n",
       "2                             3.0                       796.0  \n",
       "3                            20.0                      5310.0  \n",
       "4                            50.0                     13276.0  \n",
       "...                           ...                         ...  \n",
       "1107                         10.0                      2655.0  \n",
       "1108                          3.0                       796.0  \n",
       "1109                          7.0                      1858.0  \n",
       "1110                         11.0                      2920.0  \n",
       "1111                         13.0                      3451.0  \n",
       "\n",
       "[1112 rows x 16 columns]"
      ]
     },
     "execution_count": 242,
     "metadata": {},
     "output_type": "execute_result"
    }
   ],
   "source": [
    "demand"
   ]
  },
  {
   "cell_type": "code",
   "execution_count": null,
   "metadata": {},
   "outputs": [],
   "source": []
  }
 ],
 "metadata": {
  "kernelspec": {
   "display_name": "Python 3",
   "language": "python",
   "name": "python3"
  },
  "language_info": {
   "codemirror_mode": {
    "name": "ipython",
    "version": 3
   },
   "file_extension": ".py",
   "mimetype": "text/x-python",
   "name": "python",
   "nbconvert_exporter": "python",
   "pygments_lexer": "ipython3",
   "version": "3.7.4"
  }
 },
 "nbformat": 4,
 "nbformat_minor": 2
}
