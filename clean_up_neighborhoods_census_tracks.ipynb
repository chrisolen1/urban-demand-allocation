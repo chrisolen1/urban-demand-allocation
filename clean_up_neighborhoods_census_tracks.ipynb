{
 "cells": [
  {
   "cell_type": "code",
   "execution_count": 2,
   "metadata": {},
   "outputs": [],
   "source": [
    "import pandas as pd\n",
    "import numpy as np\n",
    "\n",
    "import json\n",
    "\n",
    "import utilities"
   ]
  },
  {
   "cell_type": "code",
   "execution_count": 55,
   "metadata": {},
   "outputs": [],
   "source": [
    "# residential \n",
    "\n",
    "properties = pd.read_csv('../data/residential.csv')"
   ]
  },
  {
   "cell_type": "code",
   "execution_count": null,
   "metadata": {},
   "outputs": [],
   "source": [
    "properties.drop(['neighborhood'], axis=1, inplace=True)"
   ]
  },
  {
   "cell_type": "code",
   "execution_count": null,
   "metadata": {},
   "outputs": [],
   "source": [
    "with open('dicts/neighborhood_polys.json','r') as f:\n",
    "    neighborhoods = json.load(f)\n",
    "    \n",
    "with open('dicts/tract_polys.json','r') as f:\n",
    "    tracts = json.load(f)"
   ]
  },
  {
   "cell_type": "code",
   "execution_count": null,
   "metadata": {},
   "outputs": [],
   "source": [
    "positions = list(zip(properties.longitude, properties.latitude))\n",
    "\n",
    "n = [utilities.point_lookup(neighborhoods, positions[i]) for i in range(len(properties))]\n",
    "t = [utilities.point_lookup(tracts, positions[i]) for i in range(len(properties))]"
   ]
  },
  {
   "cell_type": "code",
   "execution_count": 57,
   "metadata": {},
   "outputs": [],
   "source": [
    "properties['neighborhood'] = np.nan\n",
    "properties['tracts'] = np.nan\n",
    "\n",
    "properties['neighborhood'] = np.array(n)\n",
    "properties['tracts'] = np.array(t)\n"
   ]
  },
  {
   "cell_type": "code",
   "execution_count": 63,
   "metadata": {},
   "outputs": [],
   "source": [
    "properties.to_csv('../data/residential_w_tract_and_neighborhoods.csv')"
   ]
  },
  {
   "cell_type": "code",
   "execution_count": 3,
   "metadata": {},
   "outputs": [],
   "source": [
    "# crime\n",
    "\n",
    "crime = pd.read_csv('../data/crime.csv')"
   ]
  },
  {
   "cell_type": "code",
   "execution_count": 8,
   "metadata": {},
   "outputs": [],
   "source": [
    "with open('dicts/neighborhood_polys.json','r') as f:\n",
    "    neighborhoods = json.load(f)\n",
    "    \n",
    "with open('dicts/tract_polys.json','r') as f:\n",
    "    tracts = json.load(f)"
   ]
  },
  {
   "cell_type": "code",
   "execution_count": 9,
   "metadata": {},
   "outputs": [],
   "source": [
    "positions = list(zip(crime.longitude, crime.latitude))\n",
    "\n",
    "n = [utilities.point_lookup(neighborhoods, positions[i]) for i in range(len(crime))]\n",
    "t = [utilities.point_lookup(tracts, positions[i]) for i in range(len(crime))]"
   ]
  },
  {
   "cell_type": "code",
   "execution_count": 10,
   "metadata": {},
   "outputs": [],
   "source": [
    "crime['neighborhood'] = np.nan\n",
    "crime['tracts'] = np.nan\n",
    "\n",
    "crime['neighborhood'] = np.array(n)\n",
    "crime['tracts'] = np.array(t)\n"
   ]
  },
  {
   "cell_type": "code",
   "execution_count": 11,
   "metadata": {},
   "outputs": [],
   "source": [
    "crime.to_csv('../data/crime_w_tract_and_neighborhoods.csv')"
   ]
  },
  {
   "cell_type": "code",
   "execution_count": null,
   "metadata": {},
   "outputs": [],
   "source": []
  }
 ],
 "metadata": {
  "kernelspec": {
   "display_name": "Python 3",
   "language": "python",
   "name": "python3"
  },
  "language_info": {
   "codemirror_mode": {
    "name": "ipython",
    "version": 3
   },
   "file_extension": ".py",
   "mimetype": "text/x-python",
   "name": "python",
   "nbconvert_exporter": "python",
   "pygments_lexer": "ipython3",
   "version": "3.7.4"
  }
 },
 "nbformat": 4,
 "nbformat_minor": 2
}
