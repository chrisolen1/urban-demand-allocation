{
 "cells": [
  {
   "cell_type": "code",
   "execution_count": 46,
   "metadata": {},
   "outputs": [],
   "source": [
    "import pyspark\n",
    "\n",
    "from pyspark.sql import SparkSession\n",
    "from pyspark.sql.functions import col\n",
    "from pyspark.sql import HiveContext\n",
    "from pyspark.sql import functions as F\n",
    "from pyspark.sql.types import *\n",
    "\n",
    "import random\n",
    "\n",
    "import socket\n",
    "\n",
    "import pandas as pd\n",
    "import numpy as np\n",
    "import json\n",
    "\n",
    "import utilities"
   ]
  },
  {
   "cell_type": "code",
   "execution_count": 47,
   "metadata": {},
   "outputs": [],
   "source": [
    "driver_ip = socket.gethostbyname(socket.gethostname())"
   ]
  },
  {
   "cell_type": "code",
   "execution_count": 48,
   "metadata": {},
   "outputs": [],
   "source": [
    "conf = pyspark.SparkConf().setAll([('spark.kubernetes.authenticate.caCertFile', '/var/run/secrets/kubernetes.io/serviceaccount/ca.crt'), \\\n",
    "                                   ('spark.kubernetes.authenticate.oauthTokenFile','/var/run/secrets/kubernetes.io/serviceaccount/token'), \\\n",
    "                                   ('spark.kubernetes.authenticate.driver.serviceAccountName','spark-driver-sa'), \\\n",
    "                                   ('spark.kubernetes.namespace','spark'), \\\n",
    "                                   ('spark.driver.pod.name','spark-driver'), \\\n",
    "                                   ('spark.executor.instances','16'), \\\n",
    "                                   ('spark.kubernetes.container.image','gcr.io/sarcasm-2wx3ce6drvftuy/spark-v2.4.4-worker:latest'), \\\n",
    "                                   ('spark.driver.host','spark-driver.spark.svc.cluster.local'), \\\n",
    "                                   ('spark.driver.port','29413'), \\\n",
    "                                   ('spark.driver.bindAddress',driver_ip), \\\n",
    "                                   ('spark.executor.memory','6500m'), \\\n",
    "                                   ('spark.executor.cores','1'), \\\n",
    "                                   ('spark.kubernetes.driverEnv.GCS_PROJECT_ID', 'sarcasm-2wx3ce6drvftuy'), \\\n",
    "                                   ('spark.kubernetes.driverEnv.GOOGLE_APPLICATION_CREDENTIALS', '/mnt/secrets/sarc-bucket-sa.json'), \\\n",
    "                                   ('spark.kubernetes.driver.secrets.sarc-bucket-sa','/mnt/secrets'), \\\n",
    "                                   ('spark.kubernetes.executor.secrets.sarc-bucket-sa','/mnt/secrets'), \\\n",
    "                                   ('spark.executorEnv.GCS_PROJECT_ID','sarcasm-2wx3ce6drvftuy'), \\\n",
    "                                   ('spark.executorEnv.GOOGLE_APPLICATION_CREDENTIALS','/mnt/secrets/sarc-bucket-sa.json'), \\\n",
    "                                   ('spark.hadoop.google.cloud.auth.service.account.enable','true'), \\\n",
    "                                   ('spark.hadoop.google.cloud.auth.service.account.json.keyfile','/mnt/secrets/sarc-bucket-sa.json'), \\\n",
    "                                   ('spark.hadoop.fs.gs.project.id','sarcasm-2wx3ce6drvftuy'), \\\n",
    "                                   ('spark.hadoop.fs.gs.system.bucket','sarc-bucket-2wx3ce6drvftuy')])"
   ]
  },
  {
   "cell_type": "code",
   "execution_count": null,
   "metadata": {},
   "outputs": [],
   "source": [
    "spark = SparkSession.builder.master(\"k8s://https://kubernetes.default.svc.cluster.local:443\").appName(\"sarc\").config(conf=conf).getOrCreate()\n",
    "sc = spark.sparkContext"
   ]
  },
  {
   "cell_type": "code",
   "execution_count": 21,
   "metadata": {},
   "outputs": [],
   "source": [
    "%time addresses = spark.read.csv(\"gs://sarc-bucket-2wx3ce6drvftuy/address_book.csv\", inferSchema=True, sep = ',')\n"
   ]
  },
  {
   "cell_type": "code",
   "execution_count": 22,
   "metadata": {},
   "outputs": [],
   "source": [
    "with open('dicts/zoning_polys.json','r') as f:\n",
    "    zoning = json.load(f)"
   ]
  },
  {
   "cell_type": "code",
   "execution_count": 23,
   "metadata": {},
   "outputs": [
    {
     "data": {
      "text/plain": [
       "'\\nAllowable zones:\\n\\nB1 - Neighborhood Shopping District, **Low-Traffic Street, More Storefront-Like**\\nB2 - Neighborhood Mixed-Use District, \"\" \"\"\\nB3 - Community Shopping District \\nC1 - Neighborhood Commercial District\\nC2 - Motor Vehicle-Related Commercial District\\nDC - Downtown Core District\\nDR - Downtown Residential District\\nDS - Downtown Service District\\nDX - Downtown Mixed-Use District\\nPD - Planned Development\\n\\n'"
      ]
     },
     "execution_count": 23,
     "metadata": {},
     "output_type": "execute_result"
    }
   ],
   "source": [
    "\"\"\"\n",
    "Allowable zones:\n",
    "\n",
    "B1 - Neighborhood Shopping District, **Low-Traffic Street, More Storefront-Like**\n",
    "B2 - Neighborhood Mixed-Use District, \"\" \"\"\n",
    "B3 - Community Shopping District \n",
    "C1 - Neighborhood Commercial District\n",
    "C2 - Motor Vehicle-Related Commercial District\n",
    "DC - Downtown Core District\n",
    "DR - Downtown Residential District\n",
    "DS - Downtown Service District\n",
    "DX - Downtown Mixed-Use District\n",
    "PD - Planned Development\n",
    "\n",
    "\"\"\""
   ]
  },
  {
   "cell_type": "code",
   "execution_count": 24,
   "metadata": {},
   "outputs": [],
   "source": [
    "allowable_zones = [\"B1\",\"B2\",\"B3\",\"C1\",\"C2\",\"DC\",\"DR\",\"DS\",\"DX\",\"PD\"]"
   ]
  },
  {
   "cell_type": "code",
   "execution_count": 25,
   "metadata": {},
   "outputs": [
    {
     "data": {
      "text/html": [
       "<div>\n",
       "<style scoped>\n",
       "    .dataframe tbody tr th:only-of-type {\n",
       "        vertical-align: middle;\n",
       "    }\n",
       "\n",
       "    .dataframe tbody tr th {\n",
       "        vertical-align: top;\n",
       "    }\n",
       "\n",
       "    .dataframe thead th {\n",
       "        text-align: right;\n",
       "    }\n",
       "</style>\n",
       "<table border=\"1\" class=\"dataframe\">\n",
       "  <thead>\n",
       "    <tr style=\"text-align: right;\">\n",
       "      <th></th>\n",
       "      <th>ADDRDELIV</th>\n",
       "      <th>LATITUDE</th>\n",
       "      <th>LONGITUDE</th>\n",
       "    </tr>\n",
       "  </thead>\n",
       "  <tbody>\n",
       "    <tr>\n",
       "      <td>233417</td>\n",
       "      <td>7042 NORTH OZARK AVENUE</td>\n",
       "      <td>42.009040</td>\n",
       "      <td>-87.820313</td>\n",
       "    </tr>\n",
       "    <tr>\n",
       "      <td>233418</td>\n",
       "      <td>6908 NORTH OWEN AVENUE</td>\n",
       "      <td>42.005777</td>\n",
       "      <td>-87.819278</td>\n",
       "    </tr>\n",
       "    <tr>\n",
       "      <td>233419</td>\n",
       "      <td>6947 NORTH OLCOTT AVENUE</td>\n",
       "      <td>42.007494</td>\n",
       "      <td>-87.813372</td>\n",
       "    </tr>\n",
       "    <tr>\n",
       "      <td>233430</td>\n",
       "      <td>7420 NORTH ORIOLE AVENUE</td>\n",
       "      <td>42.015760</td>\n",
       "      <td>-87.816638</td>\n",
       "    </tr>\n",
       "    <tr>\n",
       "      <td>233431</td>\n",
       "      <td>7401 NORTH OTTAWA AVENUE</td>\n",
       "      <td>42.015236</td>\n",
       "      <td>-87.817216</td>\n",
       "    </tr>\n",
       "    <tr>\n",
       "      <td>...</td>\n",
       "      <td>...</td>\n",
       "      <td>...</td>\n",
       "      <td>...</td>\n",
       "    </tr>\n",
       "    <tr>\n",
       "      <td>1153713</td>\n",
       "      <td>2901 EAST 104TH STREET</td>\n",
       "      <td>41.706431</td>\n",
       "      <td>-87.553693</td>\n",
       "    </tr>\n",
       "    <tr>\n",
       "      <td>1153714</td>\n",
       "      <td>3457 EAST 100TH STREET</td>\n",
       "      <td>41.714011</td>\n",
       "      <td>-87.538661</td>\n",
       "    </tr>\n",
       "    <tr>\n",
       "      <td>1153715</td>\n",
       "      <td>4000 EAST 106TH STREET</td>\n",
       "      <td>41.702820</td>\n",
       "      <td>-87.526800</td>\n",
       "    </tr>\n",
       "    <tr>\n",
       "      <td>1153716</td>\n",
       "      <td>9054 SOUTH BRANDON AVENUE</td>\n",
       "      <td>41.730346</td>\n",
       "      <td>-87.547176</td>\n",
       "    </tr>\n",
       "    <tr>\n",
       "      <td>1153717</td>\n",
       "      <td>9138 SOUTH HARBOR AVENUE</td>\n",
       "      <td>41.729907</td>\n",
       "      <td>-87.540853</td>\n",
       "    </tr>\n",
       "  </tbody>\n",
       "</table>\n",
       "<p>582676 rows × 3 columns</p>\n",
       "</div>"
      ],
      "text/plain": [
       "                         ADDRDELIV   LATITUDE  LONGITUDE\n",
       "233417     7042 NORTH OZARK AVENUE  42.009040 -87.820313\n",
       "233418      6908 NORTH OWEN AVENUE  42.005777 -87.819278\n",
       "233419    6947 NORTH OLCOTT AVENUE  42.007494 -87.813372\n",
       "233430    7420 NORTH ORIOLE AVENUE  42.015760 -87.816638\n",
       "233431    7401 NORTH OTTAWA AVENUE  42.015236 -87.817216\n",
       "...                            ...        ...        ...\n",
       "1153713     2901 EAST 104TH STREET  41.706431 -87.553693\n",
       "1153714     3457 EAST 100TH STREET  41.714011 -87.538661\n",
       "1153715     4000 EAST 106TH STREET  41.702820 -87.526800\n",
       "1153716  9054 SOUTH BRANDON AVENUE  41.730346 -87.547176\n",
       "1153717   9138 SOUTH HARBOR AVENUE  41.729907 -87.540853\n",
       "\n",
       "[582676 rows x 3 columns]"
      ]
     },
     "execution_count": 25,
     "metadata": {},
     "output_type": "execute_result"
    }
   ],
   "source": [
    "chi_addresses = addresses.filter(addresses[\"PLACENAME\"]==\"Chicago\")\n",
    "chi_addresses = chi_addresses[[\"ADDRDELIV\",\"LATITUDE\",\"LONGITUDE\"]]\n",
    "chi_addresses"
   ]
  },
  {
   "cell_type": "code",
   "execution_count": 74,
   "metadata": {},
   "outputs": [],
   "source": [
    "potential_zones = []\n",
    "for i in range((len(list(zoning.keys())))):\n",
    "    \n",
    "    if zoning[list(zoning.keys())[i]][1][:2] in allowable_zones:\n",
    "        potential_zones.append(list(zoning.keys())[i])\n",
    "        \n",
    "    \n",
    "    "
   ]
  },
  {
   "cell_type": "code",
   "execution_count": 75,
   "metadata": {},
   "outputs": [],
   "source": [
    "vals = [zoning[potential_zones[i]] for i in range(len(potential_zones))]\n"
   ]
  },
  {
   "cell_type": "code",
   "execution_count": 76,
   "metadata": {},
   "outputs": [],
   "source": [
    "potential_zones = {i:j for (i,j) in zip(potential_zones, vals)}"
   ]
  },
  {
   "cell_type": "code",
   "execution_count": 77,
   "metadata": {},
   "outputs": [
    {
     "ename": "KeyboardInterrupt",
     "evalue": "",
     "output_type": "error",
     "traceback": [
      "\u001b[0;31m---------------------------------------------------------------------------\u001b[0m",
      "\u001b[0;31mKeyboardInterrupt\u001b[0m                         Traceback (most recent call last)",
      "\u001b[0;32m<ipython-input-77-a6f2afa376a5>\u001b[0m in \u001b[0;36m<module>\u001b[0;34m\u001b[0m\n\u001b[1;32m      4\u001b[0m \u001b[0;32mfor\u001b[0m \u001b[0mi\u001b[0m \u001b[0;32min\u001b[0m \u001b[0mrange\u001b[0m\u001b[0;34m(\u001b[0m\u001b[0mlen\u001b[0m\u001b[0;34m(\u001b[0m\u001b[0maddress_coords\u001b[0m\u001b[0;34m)\u001b[0m\u001b[0;34m)\u001b[0m\u001b[0;34m:\u001b[0m\u001b[0;34m\u001b[0m\u001b[0;34m\u001b[0m\u001b[0m\n\u001b[1;32m      5\u001b[0m \u001b[0;34m\u001b[0m\u001b[0m\n\u001b[0;32m----> 6\u001b[0;31m     \u001b[0mresult\u001b[0m \u001b[0;34m=\u001b[0m \u001b[0mutilities\u001b[0m\u001b[0;34m.\u001b[0m\u001b[0mpoint_lookup\u001b[0m\u001b[0;34m(\u001b[0m\u001b[0mpotential_zones\u001b[0m\u001b[0;34m,\u001b[0m\u001b[0maddress_coords\u001b[0m\u001b[0;34m[\u001b[0m\u001b[0mi\u001b[0m\u001b[0;34m]\u001b[0m\u001b[0;34m)\u001b[0m\u001b[0;34m\u001b[0m\u001b[0;34m\u001b[0m\u001b[0m\n\u001b[0m\u001b[1;32m      7\u001b[0m \u001b[0;34m\u001b[0m\u001b[0m\n\u001b[1;32m      8\u001b[0m     \u001b[0;32mif\u001b[0m \u001b[0mresult\u001b[0m\u001b[0;34m:\u001b[0m\u001b[0;34m\u001b[0m\u001b[0;34m\u001b[0m\u001b[0m\n",
      "\u001b[0;32m~/Documents/uchicago_courses/optimization/project/urban-demand-allocation/utilities.py\u001b[0m in \u001b[0;36mpoint_lookup\u001b[0;34m(polygon_dict, point)\u001b[0m\n\u001b[1;32m     11\u001b[0m \u001b[0;34m\u001b[0m\u001b[0m\n\u001b[1;32m     12\u001b[0m     \u001b[0;32mfor\u001b[0m \u001b[0mi\u001b[0m \u001b[0;32min\u001b[0m \u001b[0mrange\u001b[0m\u001b[0;34m(\u001b[0m\u001b[0mlen\u001b[0m\u001b[0;34m(\u001b[0m\u001b[0mlist\u001b[0m\u001b[0;34m(\u001b[0m\u001b[0mpolygon_dict\u001b[0m\u001b[0;34m.\u001b[0m\u001b[0mkeys\u001b[0m\u001b[0;34m(\u001b[0m\u001b[0;34m)\u001b[0m\u001b[0;34m)\u001b[0m\u001b[0;34m)\u001b[0m\u001b[0;34m)\u001b[0m\u001b[0;34m:\u001b[0m\u001b[0;34m\u001b[0m\u001b[0;34m\u001b[0m\u001b[0m\n\u001b[0;32m---> 13\u001b[0;31m         \u001b[0mresult\u001b[0m \u001b[0;34m=\u001b[0m \u001b[0mPolygon\u001b[0m\u001b[0;34m(\u001b[0m\u001b[0mpolygon_dict\u001b[0m\u001b[0;34m[\u001b[0m\u001b[0mlist\u001b[0m\u001b[0;34m(\u001b[0m\u001b[0mpolygon_dict\u001b[0m\u001b[0;34m.\u001b[0m\u001b[0mkeys\u001b[0m\u001b[0;34m(\u001b[0m\u001b[0;34m)\u001b[0m\u001b[0;34m)\u001b[0m\u001b[0;34m[\u001b[0m\u001b[0mi\u001b[0m\u001b[0;34m]\u001b[0m\u001b[0;34m]\u001b[0m\u001b[0;34m[\u001b[0m\u001b[0;36m0\u001b[0m\u001b[0;34m]\u001b[0m\u001b[0;34m)\u001b[0m\u001b[0;34m.\u001b[0m\u001b[0mcontains\u001b[0m\u001b[0;34m(\u001b[0m\u001b[0mpoint\u001b[0m\u001b[0;34m)\u001b[0m \u001b[0;31m# zero index is there because of zoning type in zoning data\u001b[0m\u001b[0;34m\u001b[0m\u001b[0;34m\u001b[0m\u001b[0m\n\u001b[0m\u001b[1;32m     14\u001b[0m \u001b[0;34m\u001b[0m\u001b[0m\n\u001b[1;32m     15\u001b[0m         \u001b[0;32mif\u001b[0m \u001b[0mresult\u001b[0m \u001b[0;34m==\u001b[0m \u001b[0;32mTrue\u001b[0m\u001b[0;34m:\u001b[0m\u001b[0;34m\u001b[0m\u001b[0;34m\u001b[0m\u001b[0m\n",
      "\u001b[0;31mKeyboardInterrupt\u001b[0m: "
     ]
    }
   ],
   "source": [
    "address_coords = list(zip(chi_addresses['LATITUDE'],chi_addresses['LONGITUDE']))\n",
    "possible_coords = []\n",
    "\n",
    "for i in range(len(address_coords)):\n",
    "\n",
    "    result = utilities.point_lookup(potential_zones,address_coords[i])\n",
    "    \n",
    "    if result:\n",
    "        possible_coords.append(address_coords[i])"
   ]
  },
  {
   "cell_type": "code",
   "execution_count": null,
   "metadata": {},
   "outputs": [],
   "source": []
  }
 ],
 "metadata": {
  "kernelspec": {
   "display_name": "Python 3",
   "language": "python",
   "name": "python3"
  },
  "language_info": {
   "codemirror_mode": {
    "name": "ipython",
    "version": 3
   },
   "file_extension": ".py",
   "mimetype": "text/x-python",
   "name": "python",
   "nbconvert_exporter": "python",
   "pygments_lexer": "ipython3",
   "version": "3.7.4"
  }
 },
 "nbformat": 4,
 "nbformat_minor": 2
}
