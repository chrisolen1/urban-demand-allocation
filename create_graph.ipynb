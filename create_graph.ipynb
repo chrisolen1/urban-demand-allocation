{
 "cells": [
  {
   "cell_type": "code",
   "execution_count": 435,
   "metadata": {},
   "outputs": [],
   "source": [
    "import utilities \n",
    "import networkx as nx\n",
    "import json\n",
    "from itertools import combinations, product\n",
    "import re"
   ]
  },
  {
   "cell_type": "code",
   "execution_count": 436,
   "metadata": {},
   "outputs": [],
   "source": [
    "# convert from networkx format to neo4j (not able to convert node attributes at this point):\n",
    "\n",
    "def nx_to_neo_nodes(graph, return_nodes=True, return_edges=True):\n",
    "    \n",
    "    nx_nodes = list(graph.nodes(data=True))\n",
    "    neo_nodes = [\"CREATE \" + \"(\" + re.sub(r'\\W+','', nx_nodes[i][0]) + \":\" + list(nx_nodes[i][1].keys())[0] + \" {\" + list(list(nx_nodes[i][1].values())[0].keys())[0] + \":\" + '\"' + list(list(nx_nodes[i][1].values())[0].values())[0] + '\"' + \"}\" + \")\" for i in range(len(nx_nodes))]\n",
    "    \n",
    "    nx_edges = list(G.edges.data())\n",
    "    neo_edges = [\"CREATE \" + \"(\" + re.sub(r'\\W+','',nx_edges[i][0]) + \")\" + \"-[:\" + list(nx_edges[i][2].keys())[0] + \" \" + str(list(nx_edges[i][2].values())[0]) + \"]\" + \"->\" + \"(\" + re.sub(r'\\W+','',nx_edges[i][1]) + \")\" for i in range(len(nx_edges))]\n",
    "    \n",
    "    if return_nodes and return_edges:\n",
    "        neo = neo_nodes + neo_edges\n",
    "        \n",
    "    elif return_nodes and not return_edges:\n",
    "        neo = neo_nodes\n",
    "        \n",
    "    elif not return_nodes and return_edges:\n",
    "        neo = neo_edges    \n",
    "    \n",
    "    return neo\n",
    "    "
   ]
  },
  {
   "cell_type": "code",
   "execution_count": 437,
   "metadata": {},
   "outputs": [],
   "source": [
    "G = nx.MultiDiGraph()"
   ]
  },
  {
   "cell_type": "code",
   "execution_count": 438,
   "metadata": {},
   "outputs": [],
   "source": [
    "# open neighborhoods json file\n",
    "\n",
    "with open('dicts/neighborhood_polys.json','r') as f:\n",
    "    neighborhoods = json.load(f)\n"
   ]
  },
  {
   "cell_type": "code",
   "execution_count": 439,
   "metadata": {},
   "outputs": [],
   "source": [
    "# each neighborhood is a node\n",
    "\n",
    "for i in range(len(list(neighborhoods.keys()))):\n",
    "    G.add_node(list(neighborhoods.keys())[i], neighborhood={'name':list(neighborhoods.keys())[i]})\n",
    "    \n"
   ]
  },
  {
   "cell_type": "code",
   "execution_count": 440,
   "metadata": {},
   "outputs": [
    {
     "name": "stderr",
     "output_type": "stream",
     "text": [
      "TopologyException: side location conflict at -87.836580878737252 41.986396112425794\n",
      "TopologyException: side location conflict at -87.664020791475323 41.947275771403895\n",
      "TopologyException: side location conflict at -87.648784708051664 41.939987536474959\n",
      "TopologyException: side location conflict at -87.624576496994393 41.896975362507106\n",
      "TopologyException: side location conflict at -87.780022286293374 41.997413553897694\n",
      "TopologyException: side location conflict at -87.780022286293374 41.997413553897694\n"
     ]
    }
   ],
   "source": [
    "# 'is_next_to' edge relationship for neighborhood\n",
    "\n",
    "hoods = list(G.nodes())\n",
    "hood_combs = list(combinations(hoods, 2))\n",
    "\n",
    "for i in range(len(hood_combs)):\n",
    "  \n",
    "    if utilities.intersection(neighborhoods, hood_combs[i][0], neighborhoods, hood_combs[i][1]):\n",
    "        G.add_edge(hood_combs[i][0],hood_combs[i][1], NEXT_TO={}) # relationship is...\n",
    "        G.add_edge(hood_combs[i][1],hood_combs[i][0], NEXT_TO={}) # bidirectional\n",
    "            "
   ]
  },
  {
   "cell_type": "code",
   "execution_count": 441,
   "metadata": {},
   "outputs": [],
   "source": [
    "# save to object\n",
    "\n",
    "neo_neighborhoods = nx_to_neo_nodes(G, return_nodes=True, return_edges=True)"
   ]
  },
  {
   "cell_type": "code",
   "execution_count": 442,
   "metadata": {},
   "outputs": [],
   "source": [
    "# reset the graph\n",
    "\n",
    "G = nx.MultiDiGraph()"
   ]
  },
  {
   "cell_type": "code",
   "execution_count": 443,
   "metadata": {},
   "outputs": [],
   "source": [
    "# opening census tracts json file\n",
    "\n",
    "with open('dicts/tract_polys.json','r') as f:\n",
    "    tracts = json.load(f)\n"
   ]
  },
  {
   "cell_type": "code",
   "execution_count": 444,
   "metadata": {},
   "outputs": [],
   "source": [
    "# each tract is a node\n",
    "\n",
    "for i in range(len(list(tracts.keys()))):\n",
    "    G.add_node(list(tracts.keys())[i], tract={'name':list(tracts.keys())[i]})\n",
    "    \n"
   ]
  },
  {
   "cell_type": "code",
   "execution_count": 445,
   "metadata": {},
   "outputs": [],
   "source": [
    "# 'is_next_to' edge relationship for tracts\n",
    "\n",
    "tract_names = list(G.nodes())\n",
    "tract_combs = list(combinations(tract_names, 2))\n",
    "\n",
    "for i in range(len(tract_combs)):\n",
    "  \n",
    "    if utilities.intersection(tracts, tract_combs[i][0], tracts, tract_combs[i][1]):\n",
    "        G.add_edge(tract_combs[i][0],tract_combs[i][1], NEXT_TO={}) # relationship is...\n",
    "        G.add_edge(tract_combs[i][1],tract_combs[i][0], NEXT_TO={}) # bidirectional\n",
    "            "
   ]
  },
  {
   "cell_type": "code",
   "execution_count": 446,
   "metadata": {},
   "outputs": [],
   "source": [
    "neo_tracts = nx_to_neo_nodes(G, return_nodes=True, return_edges=True)"
   ]
  },
  {
   "cell_type": "code",
   "execution_count": 447,
   "metadata": {},
   "outputs": [],
   "source": [
    "# reset the graph\n",
    "\n",
    "G = nx.MultiDiGraph()"
   ]
  },
  {
   "cell_type": "code",
   "execution_count": 448,
   "metadata": {},
   "outputs": [],
   "source": [
    "# each neighborhood is a node\n",
    "\n",
    "for i in range(len(list(neighborhoods.keys()))):\n",
    "    G.add_node(list(neighborhoods.keys())[i], neighborhood={'name':list(neighborhoods.keys())[i]})\n",
    "    \n"
   ]
  },
  {
   "cell_type": "code",
   "execution_count": 449,
   "metadata": {},
   "outputs": [],
   "source": [
    "# each tract is a node\n",
    "\n",
    "for i in range(len(list(tracts.keys()))):\n",
    "    G.add_node(list(tracts.keys())[i], tract={'name':list(tracts.keys())[i]})\n",
    "    \n"
   ]
  },
  {
   "cell_type": "code",
   "execution_count": 450,
   "metadata": {},
   "outputs": [],
   "source": [
    "# 'is_within' and 'contains' edge relationship for tract -> neighborhood\n",
    "\n",
    "hood_names = list(neighborhoods.keys())\n",
    "tract_names = list(tracts.keys())\n",
    "\n",
    "combs = list(product(hood_names, tract_names))\n",
    "\n",
    "for i in range(len(combs)):\n",
    "  \n",
    "    if utilities.intersection(neighborhoods, combs[i][0], tracts, combs[i][1]):\n",
    "        G.add_edge(combs[i][0],combs[i][1], CONTAINS={}) # relationship is...\n",
    "        G.add_edge(combs[i][1],combs[i][0], IS_WITHIN={}) # bidirectional\n",
    "            "
   ]
  },
  {
   "cell_type": "code",
   "execution_count": 451,
   "metadata": {},
   "outputs": [],
   "source": [
    "neo_contain_relationships = nx_to_neo_nodes(G, return_nodes=False, return_edges=True)"
   ]
  },
  {
   "cell_type": "code",
   "execution_count": 452,
   "metadata": {},
   "outputs": [],
   "source": [
    "to_neo = neo_neighborhoods + neo_tracts + neo_contain_relationships\n"
   ]
  },
  {
   "cell_type": "code",
   "execution_count": 453,
   "metadata": {},
   "outputs": [],
   "source": [
    "# save as txt file\n",
    "\n",
    "with open('neo.txt', 'w') as neo_text:\n",
    "    for listitem in to_neo:\n",
    "        neo_text.write('%s\\n' % listitem)"
   ]
  },
  {
   "cell_type": "code",
   "execution_count": null,
   "metadata": {},
   "outputs": [],
   "source": []
  },
  {
   "cell_type": "code",
   "execution_count": null,
   "metadata": {},
   "outputs": [],
   "source": []
  }
 ],
 "metadata": {
  "kernelspec": {
   "display_name": "Python 3",
   "language": "python",
   "name": "python3"
  },
  "language_info": {
   "codemirror_mode": {
    "name": "ipython",
    "version": 3
   },
   "file_extension": ".py",
   "mimetype": "text/x-python",
   "name": "python",
   "nbconvert_exporter": "python",
   "pygments_lexer": "ipython3",
   "version": "3.7.4"
  }
 },
 "nbformat": 4,
 "nbformat_minor": 2
}
