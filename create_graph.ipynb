{
 "cells": [
  {
   "cell_type": "code",
   "execution_count": 29,
   "metadata": {},
   "outputs": [],
   "source": [
    "import pandas as pd\n",
    "import json\n",
    "\n",
    "import re\n",
    "\n",
    "import utilities \n",
    "\n",
    "import networkx as nx\n",
    "\n",
    "from itertools import combinations, product\n"
   ]
  },
  {
   "cell_type": "code",
   "execution_count": 30,
   "metadata": {},
   "outputs": [],
   "source": [
    "G = nx.MultiDiGraph()"
   ]
  },
  {
   "cell_type": "code",
   "execution_count": 31,
   "metadata": {},
   "outputs": [],
   "source": [
    "# open neighborhoods json file\n",
    "\n",
    "with open('dicts/neighborhood_polys.json','r') as f:\n",
    "    neighborhoods = json.load(f)\n",
    "    \n",
    "properties_neighborhood_aggregated = pd.read_csv('../data/properties_neighborhood_aggregated.csv')\n"
   ]
  },
  {
   "cell_type": "code",
   "execution_count": 32,
   "metadata": {},
   "outputs": [],
   "source": [
    "# each neighborhood is a node\n",
    "\n",
    "for i in range(len(list(neighborhoods.keys()))):\n",
    "    G.add_node(list(neighborhoods.keys())[i], neighborhood={'name':list(neighborhoods.keys())[i]})\n",
    "    \n",
    "for i in range(len(properties_neighborhood_aggregated)):\n",
    "    G.nodes()[properties_neighborhood_aggregated['neighborhood'].iloc[i]]['neighborhood'].update({\"avg_property_value\":properties_neighborhood_aggregated['unit_zestimate'].iloc[i]})\n"
   ]
  },
  {
   "cell_type": "code",
   "execution_count": 33,
   "metadata": {},
   "outputs": [
    {
     "name": "stderr",
     "output_type": "stream",
     "text": [
      "TopologyException: side location conflict at -87.836580878737252 41.986396112425794\n",
      "TopologyException: side location conflict at -87.664020791475323 41.947275771403895\n",
      "TopologyException: side location conflict at -87.648784708051664 41.939987536474959\n",
      "TopologyException: side location conflict at -87.624576496994393 41.896975362507106\n",
      "TopologyException: side location conflict at -87.780022286293374 41.997413553897694\n",
      "TopologyException: side location conflict at -87.780022286293374 41.997413553897694\n"
     ]
    }
   ],
   "source": [
    "# 'is_next_to' edge relationship for neighborhood\n",
    "\n",
    "hoods = list(G.nodes())\n",
    "hood_combs = list(combinations(hoods, 2))\n",
    "\n",
    "for i in range(len(hood_combs)):\n",
    "  \n",
    "    if utilities.intersection(neighborhoods, hood_combs[i][0], neighborhoods, hood_combs[i][1]):\n",
    "        G.add_edge(hood_combs[i][0],hood_combs[i][1], NEXT_TO={}) # relationship is...\n",
    "        G.add_edge(hood_combs[i][1],hood_combs[i][0], NEXT_TO={}) # bidirectional\n",
    "            "
   ]
  },
  {
   "cell_type": "code",
   "execution_count": 49,
   "metadata": {},
   "outputs": [
    {
     "data": {
      "text/plain": [
       "[('Grand Boulevard',\n",
       "  {'neighborhood': {'name': 'Grand Boulevard',\n",
       "    'avg_property_value': 462.85965830728884}}),\n",
       " ('Printers Row',\n",
       "  {'neighborhood': {'name': 'Printers Row',\n",
       "    'avg_property_value': 273.67922443502806}}),\n",
       " ('United Center',\n",
       "  {'neighborhood': {'name': 'United Center',\n",
       "    'avg_property_value': 231.33038583952887}}),\n",
       " ('Sheffield & DePaul',\n",
       "  {'neighborhood': {'name': 'Sheffield & DePaul',\n",
       "    'avg_property_value': 5792.703159256571}}),\n",
       " ('Humboldt Park',\n",
       "  {'neighborhood': {'name': 'Humboldt Park',\n",
       "    'avg_property_value': 3507.0095553309943}}),\n",
       " ('Garfield Park',\n",
       "  {'neighborhood': {'name': 'Garfield Park',\n",
       "    'avg_property_value': 1834.928963401752}}),\n",
       " ('North Lawndale',\n",
       "  {'neighborhood': {'name': 'North Lawndale',\n",
       "    'avg_property_value': 2092.5473552368617}}),\n",
       " ('Little Village',\n",
       "  {'neighborhood': {'name': 'Little Village',\n",
       "    'avg_property_value': 1550.6294410436078}}),\n",
       " ('Armour Square',\n",
       "  {'neighborhood': {'name': 'Armour Square',\n",
       "    'avg_property_value': 264.46947387848047}}),\n",
       " ('Avalon Park',\n",
       "  {'neighborhood': {'name': 'Avalon Park',\n",
       "    'avg_property_value': 92.65170058960136}}),\n",
       " ('Burnside',\n",
       "  {'neighborhood': {'name': 'Burnside',\n",
       "    'avg_property_value': 81.74020961357256}}),\n",
       " ('Hermosa',\n",
       "  {'neighborhood': {'name': 'Hermosa',\n",
       "    'avg_property_value': 4546.082134203887}}),\n",
       " ('Avondale',\n",
       "  {'neighborhood': {'name': 'Avondale',\n",
       "    'avg_property_value': 3669.7251690836574}}),\n",
       " ('Logan Square',\n",
       "  {'neighborhood': {'name': 'Logan Square',\n",
       "    'avg_property_value': 3761.264353237302}}),\n",
       " ('Calumet Heights',\n",
       "  {'neighborhood': {'name': 'Calumet Heights',\n",
       "    'avg_property_value': 448.67627737800456}}),\n",
       " ('East Side',\n",
       "  {'neighborhood': {'name': 'East Side',\n",
       "    'avg_property_value': 103.94658448895737}}),\n",
       " ('West Pullman',\n",
       "  {'neighborhood': {'name': 'West Pullman',\n",
       "    'avg_property_value': 72.6204825697982}}),\n",
       " ('Garfield Ridge',\n",
       "  {'neighborhood': {'name': 'Garfield Ridge',\n",
       "    'avg_property_value': 365.097573887556}}),\n",
       " ('New City',\n",
       "  {'neighborhood': {'name': 'New City',\n",
       "    'avg_property_value': 1129.4716599158173}}),\n",
       " ('Englewood',\n",
       "  {'neighborhood': {'name': 'Englewood',\n",
       "    'avg_property_value': 276.6603123186012}}),\n",
       " ('Grand Crossing',\n",
       "  {'neighborhood': {'name': 'Grand Crossing',\n",
       "    'avg_property_value': 269.5620121687545}}),\n",
       " ('Ashburn',\n",
       "  {'neighborhood': {'name': 'Ashburn',\n",
       "    'avg_property_value': 153.93872279792896}}),\n",
       " ('Mount Greenwood',\n",
       "  {'neighborhood': {'name': 'Mount Greenwood',\n",
       "    'avg_property_value': 389.6893474692916}}),\n",
       " ('Morgan Park',\n",
       "  {'neighborhood': {'name': 'Morgan Park',\n",
       "    'avg_property_value': 163.26650205770838}}),\n",
       " (\"O'Hare\",\n",
       "  {'neighborhood': {'name': \"O'Hare\",\n",
       "    'avg_property_value': 606.0610245493265}}),\n",
       " ('Jackson Park', {'neighborhood': {'name': 'Jackson Park'}}),\n",
       " ('Loop',\n",
       "  {'neighborhood': {'name': 'Loop', 'avg_property_value': 7745.637617387157}}),\n",
       " ('Pullman',\n",
       "  {'neighborhood': {'name': 'Pullman',\n",
       "    'avg_property_value': 74.64207185076306}}),\n",
       " ('Riverdale',\n",
       "  {'neighborhood': {'name': 'Riverdale',\n",
       "    'avg_property_value': 53.22166730924289}}),\n",
       " ('Hegewisch', {'neighborhood': {'name': 'Hegewisch'}}),\n",
       " ('Greektown',\n",
       "  {'neighborhood': {'name': 'Greektown', 'avg_property_value': nan}}),\n",
       " ('Douglas',\n",
       "  {'neighborhood': {'name': 'Douglas',\n",
       "    'avg_property_value': 179.4593934288483}}),\n",
       " ('Museum Campus', {'neighborhood': {'name': 'Museum Campus'}}),\n",
       " ('Edgewater',\n",
       "  {'neighborhood': {'name': 'Edgewater',\n",
       "    'avg_property_value': 1960.401059162845}}),\n",
       " ('Lake View',\n",
       "  {'neighborhood': {'name': 'Lake View',\n",
       "    'avg_property_value': 2623.8200888679744}}),\n",
       " ('Lincoln Park',\n",
       "  {'neighborhood': {'name': 'Lincoln Park',\n",
       "    'avg_property_value': 2323.6412175402515}}),\n",
       " ('Magnificent Mile',\n",
       "  {'neighborhood': {'name': 'Magnificent Mile',\n",
       "    'avg_property_value': 168.48175292347682}}),\n",
       " ('Lincoln Square',\n",
       "  {'neighborhood': {'name': 'Lincoln Square',\n",
       "    'avg_property_value': 3446.6836630029347}}),\n",
       " ('Oakland',\n",
       "  {'neighborhood': {'name': 'Oakland',\n",
       "    'avg_property_value': 194.81296643501238}}),\n",
       " ('Grant Park',\n",
       "  {'neighborhood': {'name': 'Grant Park', 'avg_property_value': 296.031}}),\n",
       " ('West Loop',\n",
       "  {'neighborhood': {'name': 'West Loop',\n",
       "    'avg_property_value': 396.288138612434}}),\n",
       " ('Fuller Park',\n",
       "  {'neighborhood': {'name': 'Fuller Park',\n",
       "    'avg_property_value': 90.69532334386948}}),\n",
       " ('Andersonville',\n",
       "  {'neighborhood': {'name': 'Andersonville',\n",
       "    'avg_property_value': 2003.5631603439347}}),\n",
       " ('Woodlawn',\n",
       "  {'neighborhood': {'name': 'Woodlawn',\n",
       "    'avg_property_value': 1665.0151716537698}}),\n",
       " ('Portage Park',\n",
       "  {'neighborhood': {'name': 'Portage Park',\n",
       "    'avg_property_value': 3200.5955613073997}}),\n",
       " ('Rush & Division',\n",
       "  {'neighborhood': {'name': 'Rush & Division',\n",
       "    'avg_property_value': 1138.3520681316413}}),\n",
       " ('Little Italy, UIC',\n",
       "  {'neighborhood': {'name': 'Little Italy, UIC',\n",
       "    'avg_property_value': 5159.938702220869}}),\n",
       " ('Kenwood',\n",
       "  {'neighborhood': {'name': 'Kenwood',\n",
       "    'avg_property_value': 235.91358119338952}}),\n",
       " ('Rogers Park',\n",
       "  {'neighborhood': {'name': 'Rogers Park',\n",
       "    'avg_property_value': 1672.914759658533}}),\n",
       " ('Jefferson Park',\n",
       "  {'neighborhood': {'name': 'Jefferson Park',\n",
       "    'avg_property_value': 4160.043971916007}}),\n",
       " ('Sauganash,Forest Glen',\n",
       "  {'neighborhood': {'name': 'Sauganash,Forest Glen',\n",
       "    'avg_property_value': 2913.2952888806126}}),\n",
       " ('North Park',\n",
       "  {'neighborhood': {'name': 'North Park',\n",
       "    'avg_property_value': 2769.150852482591}}),\n",
       " ('Albany Park',\n",
       "  {'neighborhood': {'name': 'Albany Park',\n",
       "    'avg_property_value': 1508.1677810774}}),\n",
       " ('Irving Park',\n",
       "  {'neighborhood': {'name': 'Irving Park',\n",
       "    'avg_property_value': 1683.708461308665}}),\n",
       " ('Dunning',\n",
       "  {'neighborhood': {'name': 'Dunning',\n",
       "    'avg_property_value': 1269.0019175899306}}),\n",
       " ('West Ridge',\n",
       "  {'neighborhood': {'name': 'West Ridge',\n",
       "    'avg_property_value': 4243.04803523275}}),\n",
       " ('Uptown',\n",
       "  {'neighborhood': {'name': 'Uptown',\n",
       "    'avg_property_value': 2078.4985042340963}}),\n",
       " ('Norwood Park',\n",
       "  {'neighborhood': {'name': 'Norwood Park',\n",
       "    'avg_property_value': 3857.573461271075}}),\n",
       " ('Streeterville',\n",
       "  {'neighborhood': {'name': 'Streeterville',\n",
       "    'avg_property_value': 564.3706514453694}}),\n",
       " ('South Shore',\n",
       "  {'neighborhood': {'name': 'South Shore',\n",
       "    'avg_property_value': 757.9723153645143}}),\n",
       " ('Chatham',\n",
       "  {'neighborhood': {'name': 'Chatham',\n",
       "    'avg_property_value': 454.8683937621444}}),\n",
       " ('South Chicago',\n",
       "  {'neighborhood': {'name': 'South Chicago',\n",
       "    'avg_property_value': 332.13489359073054}}),\n",
       " ('Roseland',\n",
       "  {'neighborhood': {'name': 'Roseland',\n",
       "    'avg_property_value': 85.09966147772326}}),\n",
       " ('North Center',\n",
       "  {'neighborhood': {'name': 'North Center',\n",
       "    'avg_property_value': 2331.236607773085}}),\n",
       " ('South Deering',\n",
       "  {'neighborhood': {'name': 'South Deering',\n",
       "    'avg_property_value': 67.17011850116474}}),\n",
       " ('Washington Park',\n",
       "  {'neighborhood': {'name': 'Washington Park',\n",
       "    'avg_property_value': 87.66267210496866}}),\n",
       " ('Millenium Park',\n",
       "  {'neighborhood': {'name': 'Millenium Park', 'avg_property_value': nan}}),\n",
       " ('Near South Side',\n",
       "  {'neighborhood': {'name': 'Near South Side',\n",
       "    'avg_property_value': 357.78417518470667}}),\n",
       " ('Chinatown',\n",
       "  {'neighborhood': {'name': 'Chinatown',\n",
       "    'avg_property_value': 258.2766113098104}}),\n",
       " ('Chicago Lawn',\n",
       "  {'neighborhood': {'name': 'Chicago Lawn',\n",
       "    'avg_property_value': 905.8965519936772}}),\n",
       " ('Auburn Gresham',\n",
       "  {'neighborhood': {'name': 'Auburn Gresham',\n",
       "    'avg_property_value': 86.88925791321388}}),\n",
       " ('Beverly',\n",
       "  {'neighborhood': {'name': 'Beverly',\n",
       "    'avg_property_value': 352.92171359177735}}),\n",
       " ('Washington Heights',\n",
       "  {'neighborhood': {'name': 'Washington Heights',\n",
       "    'avg_property_value': 405.278544110362}}),\n",
       " ('Edison Park',\n",
       "  {'neighborhood': {'name': 'Edison Park',\n",
       "    'avg_property_value': 5279.511253332904}}),\n",
       " ('Hyde Park',\n",
       "  {'neighborhood': {'name': 'Hyde Park',\n",
       "    'avg_property_value': 311.398813089814}}),\n",
       " ('Bucktown',\n",
       "  {'neighborhood': {'name': 'Bucktown',\n",
       "    'avg_property_value': 4065.885219095648}}),\n",
       " ('Lower West Side',\n",
       "  {'neighborhood': {'name': 'Lower West Side',\n",
       "    'avg_property_value': 3678.797561611891}}),\n",
       " ('Wrigleyville',\n",
       "  {'neighborhood': {'name': 'Wrigleyville',\n",
       "    'avg_property_value': 496.1699403966902}}),\n",
       " ('Archer Heights',\n",
       "  {'neighborhood': {'name': 'Archer Heights',\n",
       "    'avg_property_value': 839.8661431371506}}),\n",
       " ('Brighton Park',\n",
       "  {'neighborhood': {'name': 'Brighton Park',\n",
       "    'avg_property_value': 874.8657888337469}}),\n",
       " ('Mckinley Park',\n",
       "  {'neighborhood': {'name': 'Mckinley Park',\n",
       "    'avg_property_value': 2688.2776996927346}}),\n",
       " ('East Village',\n",
       "  {'neighborhood': {'name': 'East Village',\n",
       "    'avg_property_value': 367.20077446177214}}),\n",
       " ('West Town',\n",
       "  {'neighborhood': {'name': 'West Town',\n",
       "    'avg_property_value': 5338.77683223937}}),\n",
       " ('Bridgeport',\n",
       "  {'neighborhood': {'name': 'Bridgeport',\n",
       "    'avg_property_value': 549.4814154967364}}),\n",
       " ('West Elsdon',\n",
       "  {'neighborhood': {'name': 'West Elsdon',\n",
       "    'avg_property_value': 500.0093334816155}}),\n",
       " ('Gage Park',\n",
       "  {'neighborhood': {'name': 'Gage Park',\n",
       "    'avg_property_value': 490.1835788838373}}),\n",
       " ('Clearing',\n",
       "  {'neighborhood': {'name': 'Clearing',\n",
       "    'avg_property_value': 617.0994417911007}}),\n",
       " ('West Lawn',\n",
       "  {'neighborhood': {'name': 'West Lawn',\n",
       "    'avg_property_value': 563.9062073426206}}),\n",
       " ('Wicker Park',\n",
       "  {'neighborhood': {'name': 'Wicker Park',\n",
       "    'avg_property_value': 412.87864106737646}}),\n",
       " ('Ukrainian Village',\n",
       "  {'neighborhood': {'name': 'Ukrainian Village',\n",
       "    'avg_property_value': 353.2785433517407}}),\n",
       " ('Galewood',\n",
       "  {'neighborhood': {'name': 'Galewood',\n",
       "    'avg_property_value': 605.2104207514936}}),\n",
       " ('Montclare',\n",
       "  {'neighborhood': {'name': 'Montclare',\n",
       "    'avg_property_value': 1569.746230401914}}),\n",
       " ('Old Town',\n",
       "  {'neighborhood': {'name': 'Old Town',\n",
       "    'avg_property_value': 547.1563188823235}}),\n",
       " ('Belmont Cragin',\n",
       "  {'neighborhood': {'name': 'Belmont Cragin',\n",
       "    'avg_property_value': 1413.9475951410525}}),\n",
       " ('Austin',\n",
       "  {'neighborhood': {'name': 'Austin',\n",
       "    'avg_property_value': 515.4725531628092}}),\n",
       " ('Gold Coast',\n",
       "  {'neighborhood': {'name': 'Gold Coast',\n",
       "    'avg_property_value': 600.4747573524162}}),\n",
       " ('Boystown',\n",
       "  {'neighborhood': {'name': 'Boystown',\n",
       "    'avg_property_value': 487.8165326370426}}),\n",
       " ('River North',\n",
       "  {'neighborhood': {'name': 'River North',\n",
       "    'avg_property_value': 426.7393602152728}})]"
      ]
     },
     "execution_count": 49,
     "metadata": {},
     "output_type": "execute_result"
    }
   ],
   "source": [
    "list(G.nodes(data=True))"
   ]
  },
  {
   "cell_type": "code",
   "execution_count": 35,
   "metadata": {},
   "outputs": [
    {
     "ename": "IndexError",
     "evalue": "list index out of range",
     "output_type": "error",
     "traceback": [
      "\u001b[0;31m---------------------------------------------------------------------------\u001b[0m",
      "\u001b[0;31mIndexError\u001b[0m                                Traceback (most recent call last)",
      "\u001b[0;32m<ipython-input-35-c4f12b0f49f8>\u001b[0m in \u001b[0;36m<module>\u001b[0;34m\u001b[0m\n\u001b[1;32m      1\u001b[0m \u001b[0;31m# save to object\u001b[0m\u001b[0;34m\u001b[0m\u001b[0;34m\u001b[0m\u001b[0;34m\u001b[0m\u001b[0m\n\u001b[1;32m      2\u001b[0m \u001b[0;34m\u001b[0m\u001b[0m\n\u001b[0;32m----> 3\u001b[0;31m \u001b[0mneo_neighborhoods\u001b[0m \u001b[0;34m=\u001b[0m \u001b[0mutilities\u001b[0m\u001b[0;34m.\u001b[0m\u001b[0mnx_to_neo_nodes\u001b[0m\u001b[0;34m(\u001b[0m\u001b[0mG\u001b[0m\u001b[0;34m,\u001b[0m \u001b[0mreturn_nodes\u001b[0m\u001b[0;34m=\u001b[0m\u001b[0;32mTrue\u001b[0m\u001b[0;34m,\u001b[0m \u001b[0mreturn_edges\u001b[0m\u001b[0;34m=\u001b[0m\u001b[0;32mTrue\u001b[0m\u001b[0;34m)\u001b[0m\u001b[0;34m\u001b[0m\u001b[0;34m\u001b[0m\u001b[0m\n\u001b[0m",
      "\u001b[0;32m~/Documents/uchicago_courses/optimization/project/urban-demand-allocation/utilities.py\u001b[0m in \u001b[0;36mnx_to_neo_nodes\u001b[0;34m(graph, return_nodes, return_edges)\u001b[0m\n\u001b[1;32m     46\u001b[0m \u001b[0;34m\u001b[0m\u001b[0m\n\u001b[1;32m     47\u001b[0m     \u001b[0mnx_nodes\u001b[0m \u001b[0;34m=\u001b[0m \u001b[0mlist\u001b[0m\u001b[0;34m(\u001b[0m\u001b[0mgraph\u001b[0m\u001b[0;34m.\u001b[0m\u001b[0mnodes\u001b[0m\u001b[0;34m(\u001b[0m\u001b[0mdata\u001b[0m\u001b[0;34m=\u001b[0m\u001b[0;32mTrue\u001b[0m\u001b[0;34m)\u001b[0m\u001b[0;34m)\u001b[0m\u001b[0;34m\u001b[0m\u001b[0;34m\u001b[0m\u001b[0m\n\u001b[0;32m---> 48\u001b[0;31m     \u001b[0mprint\u001b[0m\u001b[0;34m(\u001b[0m\u001b[0;34m\"fuck you\"\u001b[0m\u001b[0;34m)\u001b[0m\u001b[0;34m\u001b[0m\u001b[0;34m\u001b[0m\u001b[0m\n\u001b[0m\u001b[1;32m     49\u001b[0m     \u001b[0mprint\u001b[0m\u001b[0;34m(\u001b[0m\u001b[0mnx_nodes\u001b[0m\u001b[0;34m[\u001b[0m\u001b[0;36m0\u001b[0m\u001b[0;34m]\u001b[0m\u001b[0;34m)\u001b[0m\u001b[0;34m\u001b[0m\u001b[0;34m\u001b[0m\u001b[0m\n\u001b[1;32m     50\u001b[0m     \u001b[0mprint\u001b[0m\u001b[0;34m(\u001b[0m\u001b[0mlen\u001b[0m\u001b[0;34m(\u001b[0m\u001b[0mnx_nodes\u001b[0m\u001b[0;34m)\u001b[0m\u001b[0;34m)\u001b[0m\u001b[0;34m\u001b[0m\u001b[0;34m\u001b[0m\u001b[0m\n",
      "\u001b[0;32m~/Documents/uchicago_courses/optimization/project/urban-demand-allocation/utilities.py\u001b[0m in \u001b[0;36m<listcomp>\u001b[0;34m(.0)\u001b[0m\n\u001b[1;32m     46\u001b[0m \u001b[0;34m\u001b[0m\u001b[0m\n\u001b[1;32m     47\u001b[0m     \u001b[0mnx_nodes\u001b[0m \u001b[0;34m=\u001b[0m \u001b[0mlist\u001b[0m\u001b[0;34m(\u001b[0m\u001b[0mgraph\u001b[0m\u001b[0;34m.\u001b[0m\u001b[0mnodes\u001b[0m\u001b[0;34m(\u001b[0m\u001b[0mdata\u001b[0m\u001b[0;34m=\u001b[0m\u001b[0;32mTrue\u001b[0m\u001b[0;34m)\u001b[0m\u001b[0;34m)\u001b[0m\u001b[0;34m\u001b[0m\u001b[0;34m\u001b[0m\u001b[0m\n\u001b[0;32m---> 48\u001b[0;31m     \u001b[0mprint\u001b[0m\u001b[0;34m(\u001b[0m\u001b[0;34m\"fuck you\"\u001b[0m\u001b[0;34m)\u001b[0m\u001b[0;34m\u001b[0m\u001b[0;34m\u001b[0m\u001b[0m\n\u001b[0m\u001b[1;32m     49\u001b[0m     \u001b[0mprint\u001b[0m\u001b[0;34m(\u001b[0m\u001b[0mnx_nodes\u001b[0m\u001b[0;34m[\u001b[0m\u001b[0;36m0\u001b[0m\u001b[0;34m]\u001b[0m\u001b[0;34m)\u001b[0m\u001b[0;34m\u001b[0m\u001b[0;34m\u001b[0m\u001b[0m\n\u001b[1;32m     50\u001b[0m     \u001b[0mprint\u001b[0m\u001b[0;34m(\u001b[0m\u001b[0mlen\u001b[0m\u001b[0;34m(\u001b[0m\u001b[0mnx_nodes\u001b[0m\u001b[0;34m)\u001b[0m\u001b[0;34m)\u001b[0m\u001b[0;34m\u001b[0m\u001b[0;34m\u001b[0m\u001b[0m\n",
      "\u001b[0;31mIndexError\u001b[0m: list index out of range"
     ]
    }
   ],
   "source": [
    "# save to object\n",
    "\n",
    "neo_neighborhoods = utilities.nx_to_neo_nodes(G, return_nodes=True, return_edges=True)"
   ]
  },
  {
   "cell_type": "code",
   "execution_count": 9,
   "metadata": {},
   "outputs": [
    {
     "data": {
      "text/plain": [
       "'CREATE (GrandBoulevard:neighborhood {name:\"Grand Boulevard\",avg_property_value:\"462.85965830728884\"})'"
      ]
     },
     "execution_count": 9,
     "metadata": {},
     "output_type": "execute_result"
    }
   ],
   "source": [
    "nx_nodes = list(G.nodes(data=True))\n",
    "\n",
    "asdf = \"CREATE \" + \"(\" + re.sub(r'\\W+','', nx_nodes[0][0]) + \":\" + list(nx_nodes[0][1].keys())[0] + \" {\" + list(list(nx_nodes[0][1].values())[0].keys())[0] + \":\" + '\"' + list(nx_nodes[0][1].values())[0]['name'] + '\"' + \",\" + list(list(nx_nodes[0][1].values())[0].keys())[1] + \":\" + '\"' + str(list(nx_nodes[0][1].values())[0]['avg_property_value']) + '\"' + \"}\" + \")\"\n",
    "\n",
    "\n"
   ]
  },
  {
   "cell_type": "code",
   "execution_count": null,
   "metadata": {},
   "outputs": [],
   "source": []
  },
  {
   "cell_type": "code",
   "execution_count": 442,
   "metadata": {},
   "outputs": [],
   "source": [
    "# reset the graph\n",
    "\n",
    "G = nx.MultiDiGraph()"
   ]
  },
  {
   "cell_type": "code",
   "execution_count": 443,
   "metadata": {},
   "outputs": [],
   "source": [
    "# opening census tracts json file\n",
    "\n",
    "with open('dicts/tract_polys.json','r') as f:\n",
    "    tracts = json.load(f)\n"
   ]
  },
  {
   "cell_type": "code",
   "execution_count": 444,
   "metadata": {},
   "outputs": [],
   "source": [
    "# each tract is a node\n",
    "\n",
    "for i in range(len(list(tracts.keys()))):\n",
    "    G.add_node(list(tracts.keys())[i], tract={'name':list(tracts.keys())[i]})\n",
    "    \n"
   ]
  },
  {
   "cell_type": "code",
   "execution_count": 445,
   "metadata": {},
   "outputs": [],
   "source": [
    "# 'is_next_to' edge relationship for tracts\n",
    "\n",
    "tract_names = list(G.nodes())\n",
    "tract_combs = list(combinations(tract_names, 2))\n",
    "\n",
    "for i in range(len(tract_combs)):\n",
    "  \n",
    "    if utilities.intersection(tracts, tract_combs[i][0], tracts, tract_combs[i][1]):\n",
    "        G.add_edge(tract_combs[i][0],tract_combs[i][1], NEXT_TO={}) # relationship is...\n",
    "        G.add_edge(tract_combs[i][1],tract_combs[i][0], NEXT_TO={}) # bidirectional\n",
    "            "
   ]
  },
  {
   "cell_type": "code",
   "execution_count": 446,
   "metadata": {},
   "outputs": [],
   "source": [
    "neo_tracts = nx_to_neo_nodes(G, return_nodes=True, return_edges=True)"
   ]
  },
  {
   "cell_type": "code",
   "execution_count": 447,
   "metadata": {},
   "outputs": [],
   "source": [
    "# reset the graph\n",
    "\n",
    "G = nx.MultiDiGraph()"
   ]
  },
  {
   "cell_type": "code",
   "execution_count": 448,
   "metadata": {},
   "outputs": [],
   "source": [
    "# each neighborhood is a node\n",
    "\n",
    "for i in range(len(list(neighborhoods.keys()))):\n",
    "    G.add_node(list(neighborhoods.keys())[i], neighborhood={'name':list(neighborhoods.keys())[i]})\n",
    "    \n"
   ]
  },
  {
   "cell_type": "code",
   "execution_count": 449,
   "metadata": {},
   "outputs": [],
   "source": [
    "# each tract is a node\n",
    "\n",
    "for i in range(len(list(tracts.keys()))):\n",
    "    G.add_node(list(tracts.keys())[i], tract={'name':list(tracts.keys())[i]})\n",
    "    \n"
   ]
  },
  {
   "cell_type": "code",
   "execution_count": 450,
   "metadata": {},
   "outputs": [],
   "source": [
    "# 'is_within' and 'contains' edge relationship for tract -> neighborhood\n",
    "\n",
    "hood_names = list(neighborhoods.keys())\n",
    "tract_names = list(tracts.keys())\n",
    "\n",
    "combs = list(product(hood_names, tract_names))\n",
    "\n",
    "for i in range(len(combs)):\n",
    "  \n",
    "    if utilities.intersection(neighborhoods, combs[i][0], tracts, combs[i][1]):\n",
    "        G.add_edge(combs[i][0],combs[i][1], CONTAINS={}) # relationship is...\n",
    "        G.add_edge(combs[i][1],combs[i][0], IS_WITHIN={}) # bidirectional\n",
    "            "
   ]
  },
  {
   "cell_type": "code",
   "execution_count": 451,
   "metadata": {},
   "outputs": [],
   "source": [
    "neo_contain_relationships = nx_to_neo_nodes(G, return_nodes=False, return_edges=True)"
   ]
  },
  {
   "cell_type": "code",
   "execution_count": 452,
   "metadata": {},
   "outputs": [],
   "source": [
    "to_neo = neo_neighborhoods + neo_tracts + neo_contain_relationships\n"
   ]
  },
  {
   "cell_type": "code",
   "execution_count": 453,
   "metadata": {},
   "outputs": [],
   "source": [
    "# save as txt file\n",
    "\n",
    "with open('neo.txt', 'w') as neo_text:\n",
    "    for listitem in to_neo:\n",
    "        neo_text.write('%s\\n' % listitem)"
   ]
  },
  {
   "cell_type": "code",
   "execution_count": null,
   "metadata": {},
   "outputs": [],
   "source": []
  },
  {
   "cell_type": "code",
   "execution_count": null,
   "metadata": {},
   "outputs": [],
   "source": []
  }
 ],
 "metadata": {
  "kernelspec": {
   "display_name": "Python 3",
   "language": "python",
   "name": "python3"
  },
  "language_info": {
   "codemirror_mode": {
    "name": "ipython",
    "version": 3
   },
   "file_extension": ".py",
   "mimetype": "text/x-python",
   "name": "python",
   "nbconvert_exporter": "python",
   "pygments_lexer": "ipython3",
   "version": "3.7.4"
  }
 },
 "nbformat": 4,
 "nbformat_minor": 2
}
